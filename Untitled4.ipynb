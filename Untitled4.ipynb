{
 "cells": [
  {
   "cell_type": "code",
   "execution_count": 230,
   "id": "b6adad85",
   "metadata": {},
   "outputs": [
    {
     "name": "stdout",
     "output_type": "stream",
     "text": [
      "Requirement already satisfied: selenium in c:\\users\\ankit\\anaconda\\lib\\site-packages (4.0.0)\n",
      "Requirement already satisfied: trio-websocket~=0.9 in c:\\users\\ankit\\anaconda\\lib\\site-packages (from selenium) (0.9.2)\n",
      "Requirement already satisfied: urllib3[secure]~=1.26 in c:\\users\\ankit\\anaconda\\lib\\site-packages (from selenium) (1.26.4)\n",
      "Requirement already satisfied: trio~=0.17 in c:\\users\\ankit\\anaconda\\lib\\site-packages (from selenium) (0.19.0)\n",
      "Requirement already satisfied: sniffio in c:\\users\\ankit\\anaconda\\lib\\site-packages (from trio~=0.17->selenium) (1.2.0)\n",
      "Requirement already satisfied: attrs>=19.2.0 in c:\\users\\ankit\\anaconda\\lib\\site-packages (from trio~=0.17->selenium) (20.3.0)\n",
      "Requirement already satisfied: idna in c:\\users\\ankit\\anaconda\\lib\\site-packages (from trio~=0.17->selenium) (2.10)\n",
      "Requirement already satisfied: async-generator>=1.9 in c:\\users\\ankit\\anaconda\\lib\\site-packages (from trio~=0.17->selenium) (1.10)\n",
      "Requirement already satisfied: outcome in c:\\users\\ankit\\anaconda\\lib\\site-packages (from trio~=0.17->selenium) (1.1.0)\n",
      "Requirement already satisfied: sortedcontainers in c:\\users\\ankit\\anaconda\\lib\\site-packages (from trio~=0.17->selenium) (2.3.0)\n",
      "Requirement already satisfied: cffi>=1.14 in c:\\users\\ankit\\anaconda\\lib\\site-packages (from trio~=0.17->selenium) (1.14.5)\n",
      "Requirement already satisfied: pycparser in c:\\users\\ankit\\anaconda\\lib\\site-packages (from cffi>=1.14->trio~=0.17->selenium) (2.20)\n",
      "Requirement already satisfied: wsproto>=0.14 in c:\\users\\ankit\\anaconda\\lib\\site-packages (from trio-websocket~=0.9->selenium) (1.0.0)\n",
      "Requirement already satisfied: certifi in c:\\users\\ankit\\anaconda\\lib\\site-packages (from urllib3[secure]~=1.26->selenium) (2020.12.5)\n",
      "Requirement already satisfied: cryptography>=1.3.4 in c:\\users\\ankit\\anaconda\\lib\\site-packages (from urllib3[secure]~=1.26->selenium) (3.4.7)\n",
      "Requirement already satisfied: pyOpenSSL>=0.14 in c:\\users\\ankit\\anaconda\\lib\\site-packages (from urllib3[secure]~=1.26->selenium) (20.0.1)\n",
      "Requirement already satisfied: six>=1.5.2 in c:\\users\\ankit\\anaconda\\lib\\site-packages (from pyOpenSSL>=0.14->urllib3[secure]~=1.26->selenium) (1.15.0)\n",
      "Requirement already satisfied: h11<1,>=0.9.0 in c:\\users\\ankit\\anaconda\\lib\\site-packages (from wsproto>=0.14->trio-websocket~=0.9->selenium) (0.12.0)\n"
     ]
    }
   ],
   "source": [
    "#installing selenium from jupyter library\n",
    "!pip install selenium"
   ]
  },
  {
   "cell_type": "code",
   "execution_count": 231,
   "id": "d8d61150",
   "metadata": {},
   "outputs": [],
   "source": [
    "#improrting selenium form the installed library\n",
    "import selenium \n",
    "import pandas as pd\n",
    "from selenium import webdriver\n",
    "import warnings\n",
    "warnings.filterwarnings('ignore')"
   ]
  },
  {
   "cell_type": "code",
   "execution_count": 232,
   "id": "25f9f8c1",
   "metadata": {},
   "outputs": [],
   "source": [
    "#connecting web driver to the installed libaray\n",
    "connect= webdriver.Chrome('C:/Users/ankit/Downloads/chromedriver_win32/chromedriver.exe')"
   ]
  },
  {
   "cell_type": "code",
   "execution_count": 233,
   "id": "1d4ab2ab",
   "metadata": {},
   "outputs": [],
   "source": [
    "#commanding driver to open the url\n",
    "connect.get('https://www.naukri.com/')"
   ]
  },
  {
   "cell_type": "code",
   "execution_count": 234,
   "id": "5eab0f9c",
   "metadata": {},
   "outputs": [],
   "source": [
    "# commanding to Enter “Data Analyst” in “Skill, Designations, Companies” \n",
    "skill=connect.find_element_by_id('qsb-keyword-sugg')\n",
    "skill.send_keys('Data Analyst')"
   ]
  },
  {
   "cell_type": "code",
   "execution_count": 235,
   "id": "4b597a41",
   "metadata": {},
   "outputs": [],
   "source": [
    "#commanding field and enter “Bangalore” in “enter the location” field. \n",
    "loc=connect.find_element_by_id('qsb-location-sugg')\n",
    "loc.send_keys('Bangalore')"
   ]
  },
  {
   "cell_type": "code",
   "execution_count": 236,
   "id": "3c7a70ea",
   "metadata": {},
   "outputs": [],
   "source": [
    "#clicking for the submit button\n",
    "button=connect.find_element_by_xpath('//div[@class=\"search-btn\"]/button')\n",
    "button.click()"
   ]
  },
  {
   "cell_type": "code",
   "execution_count": 237,
   "id": "1531825f",
   "metadata": {},
   "outputs": [],
   "source": [
    "#we can also also the URL through this\n",
    "driver=connect.get('https://www.naukri.com/data-analyst-jobs-in-bangalore?k=data%20analyst&l=bangalore')"
   ]
  },
  {
   "cell_type": "code",
   "execution_count": 238,
   "id": "998f8740",
   "metadata": {},
   "outputs": [],
   "source": [
    "#find the titles of job through their xpath\n",
    "titles=connect.find_elements_by_xpath('//a[@class=\"title fw500 ellipsis\"]')"
   ]
  },
  {
   "cell_type": "code",
   "execution_count": 239,
   "id": "1c0c6729",
   "metadata": {},
   "outputs": [
    {
     "data": {
      "text/plain": [
       "[<selenium.webdriver.remote.webelement.WebElement (session=\"3310f05e5e67a61c18b25f5b3fcf470b\", element=\"0e63f6ee-546e-4a9c-ada1-2cdfa1bc00ee\")>,\n",
       " <selenium.webdriver.remote.webelement.WebElement (session=\"3310f05e5e67a61c18b25f5b3fcf470b\", element=\"a46d9c1f-7184-449e-8594-1cd7b97d6c3a\")>,\n",
       " <selenium.webdriver.remote.webelement.WebElement (session=\"3310f05e5e67a61c18b25f5b3fcf470b\", element=\"63fba7eb-6586-445a-9cb2-3533d087af1e\")>,\n",
       " <selenium.webdriver.remote.webelement.WebElement (session=\"3310f05e5e67a61c18b25f5b3fcf470b\", element=\"a46520ca-00d0-4dc5-a424-4f52eabea5f4\")>,\n",
       " <selenium.webdriver.remote.webelement.WebElement (session=\"3310f05e5e67a61c18b25f5b3fcf470b\", element=\"02b76978-5a7d-4f3c-9336-2afe1a7cf7df\")>,\n",
       " <selenium.webdriver.remote.webelement.WebElement (session=\"3310f05e5e67a61c18b25f5b3fcf470b\", element=\"03607b29-dfd5-4078-a17a-f88ff9fba17a\")>,\n",
       " <selenium.webdriver.remote.webelement.WebElement (session=\"3310f05e5e67a61c18b25f5b3fcf470b\", element=\"e7e889a8-d141-41e9-833a-ba8f0fd4d176\")>,\n",
       " <selenium.webdriver.remote.webelement.WebElement (session=\"3310f05e5e67a61c18b25f5b3fcf470b\", element=\"c3e3d0b4-a647-42e9-a3b9-cf148d207943\")>,\n",
       " <selenium.webdriver.remote.webelement.WebElement (session=\"3310f05e5e67a61c18b25f5b3fcf470b\", element=\"c3d3b259-818c-464a-bd05-b45acc1d5b44\")>,\n",
       " <selenium.webdriver.remote.webelement.WebElement (session=\"3310f05e5e67a61c18b25f5b3fcf470b\", element=\"068b8de9-9675-43f0-84e5-eabd16fc4600\")>,\n",
       " <selenium.webdriver.remote.webelement.WebElement (session=\"3310f05e5e67a61c18b25f5b3fcf470b\", element=\"94cc0114-05e9-4515-8b28-7e8f4206987c\")>,\n",
       " <selenium.webdriver.remote.webelement.WebElement (session=\"3310f05e5e67a61c18b25f5b3fcf470b\", element=\"5731f9f7-a193-42f5-b4f7-bca2f56f81e6\")>,\n",
       " <selenium.webdriver.remote.webelement.WebElement (session=\"3310f05e5e67a61c18b25f5b3fcf470b\", element=\"dd18cef8-3d9f-417d-9623-f9305e5e34c5\")>,\n",
       " <selenium.webdriver.remote.webelement.WebElement (session=\"3310f05e5e67a61c18b25f5b3fcf470b\", element=\"4fed48c3-172a-414b-b7fc-8723800d932a\")>,\n",
       " <selenium.webdriver.remote.webelement.WebElement (session=\"3310f05e5e67a61c18b25f5b3fcf470b\", element=\"b2831e88-2dec-4447-9e0d-8deadf60ab98\")>,\n",
       " <selenium.webdriver.remote.webelement.WebElement (session=\"3310f05e5e67a61c18b25f5b3fcf470b\", element=\"a299e80a-acc3-4e33-a528-ba60067a2c6b\")>,\n",
       " <selenium.webdriver.remote.webelement.WebElement (session=\"3310f05e5e67a61c18b25f5b3fcf470b\", element=\"9108efe1-cb64-48c8-a63d-02c1aa0113c7\")>,\n",
       " <selenium.webdriver.remote.webelement.WebElement (session=\"3310f05e5e67a61c18b25f5b3fcf470b\", element=\"578c09ad-b218-4f97-b02b-d33289deda0c\")>,\n",
       " <selenium.webdriver.remote.webelement.WebElement (session=\"3310f05e5e67a61c18b25f5b3fcf470b\", element=\"5a5f65f6-12fb-4035-89e1-cb33092ec4f7\")>,\n",
       " <selenium.webdriver.remote.webelement.WebElement (session=\"3310f05e5e67a61c18b25f5b3fcf470b\", element=\"b7e3ca31-46a5-4e63-8a5a-37686471bfc9\")>]"
      ]
     },
     "execution_count": 239,
     "metadata": {},
     "output_type": "execute_result"
    }
   ],
   "source": [
    "titles"
   ]
  },
  {
   "cell_type": "code",
   "execution_count": 240,
   "id": "01788027",
   "metadata": {},
   "outputs": [],
   "source": [
    "job_titles=[]"
   ]
  },
  {
   "cell_type": "code",
   "execution_count": 241,
   "id": "b7bd95c6",
   "metadata": {},
   "outputs": [],
   "source": [
    "for i in  titles:\n",
    "    titles=i.text\n",
    "    job_titles.append(titles)"
   ]
  },
  {
   "cell_type": "code",
   "execution_count": 242,
   "id": "bc509f28",
   "metadata": {},
   "outputs": [
    {
     "data": {
      "text/plain": [
       "['Senior Business Data Analyst',\n",
       " 'Data Analyst - Flipkart Analytics',\n",
       " 'Business Data Analyst - Database Design/Mining',\n",
       " 'Urgent Openings For Data Analyst / Business Analyst',\n",
       " 'Data Analyst',\n",
       " 'Business Data Analyst(BigId) - Capco - Bangalore',\n",
       " 'Data Analyst',\n",
       " 'Senior Data Analyst',\n",
       " 'Senior Data Analyst',\n",
       " 'Sr Data Analyst']"
      ]
     },
     "execution_count": 242,
     "metadata": {},
     "output_type": "execute_result"
    }
   ],
   "source": [
    "job_titles[0:10]"
   ]
  },
  {
   "cell_type": "code",
   "execution_count": 243,
   "id": "4daf5729",
   "metadata": {},
   "outputs": [
    {
     "data": {
      "text/plain": [
       "[<selenium.webdriver.remote.webelement.WebElement (session=\"3310f05e5e67a61c18b25f5b3fcf470b\", element=\"970e4140-7777-45d1-9508-db18070aeb70\")>,\n",
       " <selenium.webdriver.remote.webelement.WebElement (session=\"3310f05e5e67a61c18b25f5b3fcf470b\", element=\"72d8f4df-0fee-481c-9be2-9e3d67511eb7\")>,\n",
       " <selenium.webdriver.remote.webelement.WebElement (session=\"3310f05e5e67a61c18b25f5b3fcf470b\", element=\"9ba5f287-97ef-4fad-bfe7-e09e1f52480c\")>,\n",
       " <selenium.webdriver.remote.webelement.WebElement (session=\"3310f05e5e67a61c18b25f5b3fcf470b\", element=\"97eaf0e1-3c6e-4267-bf27-3c2034213b0b\")>,\n",
       " <selenium.webdriver.remote.webelement.WebElement (session=\"3310f05e5e67a61c18b25f5b3fcf470b\", element=\"bcc5ca86-da5b-434c-a6bb-28a09b650dff\")>,\n",
       " <selenium.webdriver.remote.webelement.WebElement (session=\"3310f05e5e67a61c18b25f5b3fcf470b\", element=\"16091827-1d7e-459c-9697-844f9a8ff99c\")>,\n",
       " <selenium.webdriver.remote.webelement.WebElement (session=\"3310f05e5e67a61c18b25f5b3fcf470b\", element=\"5ac11333-9e18-4831-b156-6672002e53b5\")>,\n",
       " <selenium.webdriver.remote.webelement.WebElement (session=\"3310f05e5e67a61c18b25f5b3fcf470b\", element=\"1c3dcec8-128a-42bb-90d0-1846abd8c147\")>,\n",
       " <selenium.webdriver.remote.webelement.WebElement (session=\"3310f05e5e67a61c18b25f5b3fcf470b\", element=\"d53c3765-3c10-411e-b76d-fdb1ab3a95d5\")>,\n",
       " <selenium.webdriver.remote.webelement.WebElement (session=\"3310f05e5e67a61c18b25f5b3fcf470b\", element=\"83011a3c-6934-4c28-b7b4-60037992a7b5\")>,\n",
       " <selenium.webdriver.remote.webelement.WebElement (session=\"3310f05e5e67a61c18b25f5b3fcf470b\", element=\"4b429fd2-f914-4fcf-96e9-3142568412da\")>,\n",
       " <selenium.webdriver.remote.webelement.WebElement (session=\"3310f05e5e67a61c18b25f5b3fcf470b\", element=\"48a66447-c492-4dac-96ea-98df39537d4e\")>,\n",
       " <selenium.webdriver.remote.webelement.WebElement (session=\"3310f05e5e67a61c18b25f5b3fcf470b\", element=\"44582cb0-c7b1-4971-a04b-b6de6b01001d\")>,\n",
       " <selenium.webdriver.remote.webelement.WebElement (session=\"3310f05e5e67a61c18b25f5b3fcf470b\", element=\"fc51a1d4-02cc-4b3b-be05-46d855807227\")>,\n",
       " <selenium.webdriver.remote.webelement.WebElement (session=\"3310f05e5e67a61c18b25f5b3fcf470b\", element=\"ca1ad116-e05e-4bf3-8ada-be544b624f1f\")>,\n",
       " <selenium.webdriver.remote.webelement.WebElement (session=\"3310f05e5e67a61c18b25f5b3fcf470b\", element=\"26f1b474-f04d-4bb8-9e44-2cfa678ecc22\")>,\n",
       " <selenium.webdriver.remote.webelement.WebElement (session=\"3310f05e5e67a61c18b25f5b3fcf470b\", element=\"b9ca2c75-58f4-4071-b66f-e125781773f3\")>,\n",
       " <selenium.webdriver.remote.webelement.WebElement (session=\"3310f05e5e67a61c18b25f5b3fcf470b\", element=\"6d178c63-906f-4ba4-9317-2d0947d52584\")>,\n",
       " <selenium.webdriver.remote.webelement.WebElement (session=\"3310f05e5e67a61c18b25f5b3fcf470b\", element=\"6666ad15-4279-4383-bfc5-bccf50a0bf9a\")>,\n",
       " <selenium.webdriver.remote.webelement.WebElement (session=\"3310f05e5e67a61c18b25f5b3fcf470b\", element=\"ae3c3fcd-c264-4174-a923-3c9ff82615b5\")>]"
      ]
     },
     "execution_count": 243,
     "metadata": {},
     "output_type": "execute_result"
    }
   ],
   "source": [
    "places=connect.find_elements_by_xpath('//a[@class=\"subTitle ellipsis fleft\"]')\n",
    "places"
   ]
  },
  {
   "cell_type": "code",
   "execution_count": 244,
   "id": "36125205",
   "metadata": {},
   "outputs": [],
   "source": [
    "#making blank list for comapany titles \n",
    "company_name=[]"
   ]
  },
  {
   "cell_type": "code",
   "execution_count": 245,
   "id": "cf0c9f6a",
   "metadata": {},
   "outputs": [],
   "source": [
    "#creating a loop for company titles\n",
    "for i in places:\n",
    "    places=i.text\n",
    "    company_name.append(places)"
   ]
  },
  {
   "cell_type": "code",
   "execution_count": 246,
   "id": "5c5319f5",
   "metadata": {},
   "outputs": [
    {
     "data": {
      "text/plain": [
       "['Tech Data Advanced Solutions India Pvt Ltd',\n",
       " 'Flipkart',\n",
       " 'AugmatrixGo',\n",
       " 'Flipkart',\n",
       " 'Rupeek Fintech Pvt Ltd',\n",
       " 'Capco Technologies Pvt Ltd',\n",
       " 'CINDREBAY SCHOOL OF FASHION & INTERIOR DESIGN',\n",
       " 'Pioneer Business Solutions',\n",
       " 'Advanced Computer Software',\n",
       " 'Pioneer Business Solutions',\n",
       " 'Botree Software International Private Limited',\n",
       " 'Applied Materials',\n",
       " 'Xoriant Solutions Pvt Ltd',\n",
       " 'Shell',\n",
       " 'DXC Technology',\n",
       " 'Genpact',\n",
       " 'INTERTRUST GROUP',\n",
       " 'Red Hat',\n",
       " 'EVERGREEN COMMUNITY PRIVATE LIMITED',\n",
       " 'Kwalee ltd.']"
      ]
     },
     "execution_count": 246,
     "metadata": {},
     "output_type": "execute_result"
    }
   ],
   "source": [
    "company_name"
   ]
  },
  {
   "cell_type": "code",
   "execution_count": 247,
   "id": "0a692ff0",
   "metadata": {},
   "outputs": [
    {
     "data": {
      "text/plain": [
       "['Tech Data Advanced Solutions India Pvt Ltd',\n",
       " 'Flipkart',\n",
       " 'AugmatrixGo',\n",
       " 'Flipkart',\n",
       " 'Rupeek Fintech Pvt Ltd',\n",
       " 'Capco Technologies Pvt Ltd',\n",
       " 'CINDREBAY SCHOOL OF FASHION & INTERIOR DESIGN',\n",
       " 'Pioneer Business Solutions',\n",
       " 'Advanced Computer Software',\n",
       " 'Pioneer Business Solutions']"
      ]
     },
     "execution_count": 247,
     "metadata": {},
     "output_type": "execute_result"
    }
   ],
   "source": [
    "#creating range so that we can get only 10 titles\n",
    "company_name[0:10]"
   ]
  },
  {
   "cell_type": "code",
   "execution_count": 248,
   "id": "34fc3ca9",
   "metadata": {},
   "outputs": [
    {
     "data": {
      "text/plain": [
       "[<selenium.webdriver.remote.webelement.WebElement (session=\"3310f05e5e67a61c18b25f5b3fcf470b\", element=\"a6ee90e2-a87b-4b05-93e1-2cbe0f863484\")>,\n",
       " <selenium.webdriver.remote.webelement.WebElement (session=\"3310f05e5e67a61c18b25f5b3fcf470b\", element=\"ea7ef837-337d-42b4-bcfe-06ff583a6da2\")>,\n",
       " <selenium.webdriver.remote.webelement.WebElement (session=\"3310f05e5e67a61c18b25f5b3fcf470b\", element=\"91175d7b-3bd5-479d-a494-59968a89a2ef\")>,\n",
       " <selenium.webdriver.remote.webelement.WebElement (session=\"3310f05e5e67a61c18b25f5b3fcf470b\", element=\"f85afa09-17db-4a65-84fd-71ad076612be\")>,\n",
       " <selenium.webdriver.remote.webelement.WebElement (session=\"3310f05e5e67a61c18b25f5b3fcf470b\", element=\"76288b45-d480-4f8b-9587-7beeeb4a9563\")>,\n",
       " <selenium.webdriver.remote.webelement.WebElement (session=\"3310f05e5e67a61c18b25f5b3fcf470b\", element=\"06e7c697-7eac-4609-977d-8b8a7fd989e5\")>,\n",
       " <selenium.webdriver.remote.webelement.WebElement (session=\"3310f05e5e67a61c18b25f5b3fcf470b\", element=\"8eda4d33-aaa1-4be1-8628-3ce9c1d86560\")>,\n",
       " <selenium.webdriver.remote.webelement.WebElement (session=\"3310f05e5e67a61c18b25f5b3fcf470b\", element=\"5508b727-00dd-42ec-8f33-2a1d75367097\")>,\n",
       " <selenium.webdriver.remote.webelement.WebElement (session=\"3310f05e5e67a61c18b25f5b3fcf470b\", element=\"aef4f85b-70d4-4b7c-a72e-22c9b0b74324\")>,\n",
       " <selenium.webdriver.remote.webelement.WebElement (session=\"3310f05e5e67a61c18b25f5b3fcf470b\", element=\"00bea048-7f6e-44cd-b5c0-c276663fa349\")>,\n",
       " <selenium.webdriver.remote.webelement.WebElement (session=\"3310f05e5e67a61c18b25f5b3fcf470b\", element=\"942837c1-2fc5-4b53-8f01-6b9ab5cd9a8c\")>,\n",
       " <selenium.webdriver.remote.webelement.WebElement (session=\"3310f05e5e67a61c18b25f5b3fcf470b\", element=\"ed487fa8-4f7c-4bcc-9bff-ac2bbc0ade65\")>,\n",
       " <selenium.webdriver.remote.webelement.WebElement (session=\"3310f05e5e67a61c18b25f5b3fcf470b\", element=\"b5cb3d87-4bad-4060-a238-c6131dc08b29\")>,\n",
       " <selenium.webdriver.remote.webelement.WebElement (session=\"3310f05e5e67a61c18b25f5b3fcf470b\", element=\"2f4fe8c5-4b0f-4aa0-a36e-e52237058547\")>,\n",
       " <selenium.webdriver.remote.webelement.WebElement (session=\"3310f05e5e67a61c18b25f5b3fcf470b\", element=\"ea9d49c4-862b-41a9-aa42-c9dbe1e53572\")>,\n",
       " <selenium.webdriver.remote.webelement.WebElement (session=\"3310f05e5e67a61c18b25f5b3fcf470b\", element=\"92d44c98-ec71-4a58-863a-3da09e70d11e\")>,\n",
       " <selenium.webdriver.remote.webelement.WebElement (session=\"3310f05e5e67a61c18b25f5b3fcf470b\", element=\"75cc962a-3d49-4be1-96b6-a9f76e9fed5d\")>,\n",
       " <selenium.webdriver.remote.webelement.WebElement (session=\"3310f05e5e67a61c18b25f5b3fcf470b\", element=\"87148761-be2f-4f32-89ae-12df1915b5d7\")>,\n",
       " <selenium.webdriver.remote.webelement.WebElement (session=\"3310f05e5e67a61c18b25f5b3fcf470b\", element=\"5ff072e1-bf39-44aa-900f-fa393c3800ed\")>,\n",
       " <selenium.webdriver.remote.webelement.WebElement (session=\"3310f05e5e67a61c18b25f5b3fcf470b\", element=\"f6d5a2e2-e7e5-41a6-a23f-ba2f636e1929\")>]"
      ]
     },
     "execution_count": 248,
     "metadata": {},
     "output_type": "execute_result"
    }
   ],
   "source": [
    "#finding exprince  through their xpath\n",
    "exp=connect.find_elements_by_xpath('//li[@class=\"fleft grey-text br2 placeHolderLi experience\"]/span')\n",
    "exp"
   ]
  },
  {
   "cell_type": "code",
   "execution_count": 249,
   "id": "2038ccc2",
   "metadata": {},
   "outputs": [],
   "source": [
    "exprience_needed=[]"
   ]
  },
  {
   "cell_type": "code",
   "execution_count": 250,
   "id": "cca4a724",
   "metadata": {},
   "outputs": [],
   "source": [
    "#again creating loop to get the  exprience text\n",
    "for i in exp:\n",
    "    exp=i.text\n",
    "    exprience_needed.append(exp)"
   ]
  },
  {
   "cell_type": "code",
   "execution_count": 251,
   "id": "f00e6ac7",
   "metadata": {},
   "outputs": [
    {
     "data": {
      "text/plain": [
       "['3-8 Yrs',\n",
       " '0-3 Yrs',\n",
       " '2-5 Yrs',\n",
       " '1-6 Yrs',\n",
       " '0-2 Yrs',\n",
       " '3-8 Yrs',\n",
       " '1-4 Yrs',\n",
       " '6-11 Yrs',\n",
       " '3-5 Yrs',\n",
       " '3-8 Yrs',\n",
       " '3-6 Yrs',\n",
       " '0-3 Yrs',\n",
       " '9-14 Yrs',\n",
       " '5-8 Yrs',\n",
       " '3-8 Yrs',\n",
       " '4-9 Yrs',\n",
       " '3-8 Yrs',\n",
       " '2-5 Yrs',\n",
       " '4-6 Yrs',\n",
       " '5-10 Yrs']"
      ]
     },
     "execution_count": 251,
     "metadata": {},
     "output_type": "execute_result"
    }
   ],
   "source": [
    "exprience_needed"
   ]
  },
  {
   "cell_type": "code",
   "execution_count": 252,
   "id": "70a42066",
   "metadata": {},
   "outputs": [
    {
     "data": {
      "text/plain": [
       "['3-8 Yrs',\n",
       " '0-3 Yrs',\n",
       " '2-5 Yrs',\n",
       " '1-6 Yrs',\n",
       " '0-2 Yrs',\n",
       " '3-8 Yrs',\n",
       " '1-4 Yrs',\n",
       " '6-11 Yrs',\n",
       " '3-5 Yrs',\n",
       " '3-8 Yrs']"
      ]
     },
     "execution_count": 252,
     "metadata": {},
     "output_type": "execute_result"
    }
   ],
   "source": [
    "exprience_needed[0:10]"
   ]
  },
  {
   "cell_type": "code",
   "execution_count": 253,
   "id": "f9473a75",
   "metadata": {},
   "outputs": [
    {
     "data": {
      "text/plain": [
       "[<selenium.webdriver.remote.webelement.WebElement (session=\"3310f05e5e67a61c18b25f5b3fcf470b\", element=\"ba630575-a057-49d6-acab-e33ed113f666\")>,\n",
       " <selenium.webdriver.remote.webelement.WebElement (session=\"3310f05e5e67a61c18b25f5b3fcf470b\", element=\"e23fee68-67af-4bf0-ad36-af268ed22405\")>,\n",
       " <selenium.webdriver.remote.webelement.WebElement (session=\"3310f05e5e67a61c18b25f5b3fcf470b\", element=\"45dc0055-2a3d-41b0-9cb5-b288c6192e77\")>,\n",
       " <selenium.webdriver.remote.webelement.WebElement (session=\"3310f05e5e67a61c18b25f5b3fcf470b\", element=\"1febd75a-87cb-432b-a804-c559e4fd46b8\")>,\n",
       " <selenium.webdriver.remote.webelement.WebElement (session=\"3310f05e5e67a61c18b25f5b3fcf470b\", element=\"d75202fe-c516-45ae-8512-7b9a1c3ed5ca\")>,\n",
       " <selenium.webdriver.remote.webelement.WebElement (session=\"3310f05e5e67a61c18b25f5b3fcf470b\", element=\"4129f087-d824-4060-898b-c43c1742601c\")>,\n",
       " <selenium.webdriver.remote.webelement.WebElement (session=\"3310f05e5e67a61c18b25f5b3fcf470b\", element=\"0b3d28d1-8262-4c8c-a385-ff55fdf3f358\")>,\n",
       " <selenium.webdriver.remote.webelement.WebElement (session=\"3310f05e5e67a61c18b25f5b3fcf470b\", element=\"e42d4e8b-da5b-46f6-ae95-f319f4cce11d\")>,\n",
       " <selenium.webdriver.remote.webelement.WebElement (session=\"3310f05e5e67a61c18b25f5b3fcf470b\", element=\"3ed853e9-a3cc-4a88-861b-1ced2bc46055\")>,\n",
       " <selenium.webdriver.remote.webelement.WebElement (session=\"3310f05e5e67a61c18b25f5b3fcf470b\", element=\"f144a838-e967-4e15-9f50-c0081b270afd\")>,\n",
       " <selenium.webdriver.remote.webelement.WebElement (session=\"3310f05e5e67a61c18b25f5b3fcf470b\", element=\"6c0ae0e6-bca1-4d1b-8636-2dbd6dcd68ed\")>,\n",
       " <selenium.webdriver.remote.webelement.WebElement (session=\"3310f05e5e67a61c18b25f5b3fcf470b\", element=\"a5ea0c30-85c8-4380-b996-04afdb9c3086\")>,\n",
       " <selenium.webdriver.remote.webelement.WebElement (session=\"3310f05e5e67a61c18b25f5b3fcf470b\", element=\"20d62957-2a0e-4c6e-abeb-22a96a2a1c0f\")>,\n",
       " <selenium.webdriver.remote.webelement.WebElement (session=\"3310f05e5e67a61c18b25f5b3fcf470b\", element=\"1832afc6-68f6-42be-baa4-52d22e23fe0d\")>,\n",
       " <selenium.webdriver.remote.webelement.WebElement (session=\"3310f05e5e67a61c18b25f5b3fcf470b\", element=\"f4c5a415-d87c-4d28-a72a-90f8073f4c55\")>,\n",
       " <selenium.webdriver.remote.webelement.WebElement (session=\"3310f05e5e67a61c18b25f5b3fcf470b\", element=\"379aa60e-17c1-407a-8319-a9a9487a3fbf\")>,\n",
       " <selenium.webdriver.remote.webelement.WebElement (session=\"3310f05e5e67a61c18b25f5b3fcf470b\", element=\"154874d0-b960-4963-94e3-a3bc1575565a\")>,\n",
       " <selenium.webdriver.remote.webelement.WebElement (session=\"3310f05e5e67a61c18b25f5b3fcf470b\", element=\"c032af32-b0da-49c5-b9f3-4453dd8a8e24\")>,\n",
       " <selenium.webdriver.remote.webelement.WebElement (session=\"3310f05e5e67a61c18b25f5b3fcf470b\", element=\"15211a71-cfcb-41d4-b2d4-56d8f56d8ddf\")>,\n",
       " <selenium.webdriver.remote.webelement.WebElement (session=\"3310f05e5e67a61c18b25f5b3fcf470b\", element=\"f9ee2df3-b3c1-48e3-9b8e-66fc6732e4a1\")>]"
      ]
     },
     "execution_count": 253,
     "metadata": {},
     "output_type": "execute_result"
    }
   ],
   "source": [
    "sal=connect.find_elements_by_xpath('//li[@class=\"fleft grey-text br2 placeHolderLi salary\"]/span')\n",
    "sal"
   ]
  },
  {
   "cell_type": "code",
   "execution_count": 254,
   "id": "5dbc49d1",
   "metadata": {},
   "outputs": [],
   "source": [
    "salary=[]"
   ]
  },
  {
   "cell_type": "code",
   "execution_count": 255,
   "id": "10f399a7",
   "metadata": {},
   "outputs": [],
   "source": [
    "for i in sal:\n",
    "    sal=i.text\n",
    "    salary.append(sal)"
   ]
  },
  {
   "cell_type": "code",
   "execution_count": 256,
   "id": "0e471e1c",
   "metadata": {},
   "outputs": [
    {
     "data": {
      "text/plain": [
       "['12,00,000 - 17,00,000 PA.',\n",
       " '8,00,000 - 9,50,000 PA.',\n",
       " 'Not disclosed',\n",
       " '4,50,000 - 9,50,000 PA.',\n",
       " 'Not disclosed',\n",
       " '5,00,000 - 15,00,000 PA.',\n",
       " 'Not disclosed',\n",
       " 'Not disclosed',\n",
       " 'Not disclosed',\n",
       " 'Not disclosed',\n",
       " '10,00,000 - 15,00,000 PA.',\n",
       " '',\n",
       " '',\n",
       " '',\n",
       " '',\n",
       " '',\n",
       " '',\n",
       " '',\n",
       " '',\n",
       " '']"
      ]
     },
     "execution_count": 256,
     "metadata": {},
     "output_type": "execute_result"
    }
   ],
   "source": [
    "salary"
   ]
  },
  {
   "cell_type": "code",
   "execution_count": 257,
   "id": "7ccbf952",
   "metadata": {},
   "outputs": [
    {
     "data": {
      "text/plain": [
       "['12,00,000 - 17,00,000 PA.',\n",
       " '8,00,000 - 9,50,000 PA.',\n",
       " 'Not disclosed',\n",
       " '4,50,000 - 9,50,000 PA.',\n",
       " 'Not disclosed',\n",
       " '5,00,000 - 15,00,000 PA.',\n",
       " 'Not disclosed',\n",
       " 'Not disclosed',\n",
       " 'Not disclosed',\n",
       " 'Not disclosed']"
      ]
     },
     "execution_count": 257,
     "metadata": {},
     "output_type": "execute_result"
    }
   ],
   "source": [
    "salary[0:10]"
   ]
  },
  {
   "cell_type": "code",
   "execution_count": 258,
   "id": "85ed98c5",
   "metadata": {},
   "outputs": [
    {
     "data": {
      "text/plain": [
       "[<selenium.webdriver.remote.webelement.WebElement (session=\"3310f05e5e67a61c18b25f5b3fcf470b\", element=\"c5d5ef4a-c722-4227-a8b3-6fbcf24d2938\")>,\n",
       " <selenium.webdriver.remote.webelement.WebElement (session=\"3310f05e5e67a61c18b25f5b3fcf470b\", element=\"3d33fc5c-e041-4798-965c-9baa42f00a63\")>,\n",
       " <selenium.webdriver.remote.webelement.WebElement (session=\"3310f05e5e67a61c18b25f5b3fcf470b\", element=\"627d09f5-c36c-43b1-b51b-a5d2ce271f30\")>,\n",
       " <selenium.webdriver.remote.webelement.WebElement (session=\"3310f05e5e67a61c18b25f5b3fcf470b\", element=\"e43978e4-43fa-4ecc-ad2f-2c09deeba190\")>,\n",
       " <selenium.webdriver.remote.webelement.WebElement (session=\"3310f05e5e67a61c18b25f5b3fcf470b\", element=\"eaaa7af6-61a1-4e98-a993-b246f9708c73\")>,\n",
       " <selenium.webdriver.remote.webelement.WebElement (session=\"3310f05e5e67a61c18b25f5b3fcf470b\", element=\"3499b1f4-30b9-464f-b6c5-d72834994d44\")>,\n",
       " <selenium.webdriver.remote.webelement.WebElement (session=\"3310f05e5e67a61c18b25f5b3fcf470b\", element=\"18a43851-256f-4765-8508-071a550280d6\")>,\n",
       " <selenium.webdriver.remote.webelement.WebElement (session=\"3310f05e5e67a61c18b25f5b3fcf470b\", element=\"915836b6-d128-4350-8f45-c643f8167d67\")>,\n",
       " <selenium.webdriver.remote.webelement.WebElement (session=\"3310f05e5e67a61c18b25f5b3fcf470b\", element=\"b766adbc-cc08-4c19-8777-b12c74a6e7ab\")>,\n",
       " <selenium.webdriver.remote.webelement.WebElement (session=\"3310f05e5e67a61c18b25f5b3fcf470b\", element=\"98bcb4f2-2bbb-40ca-9921-f4a066be663a\")>,\n",
       " <selenium.webdriver.remote.webelement.WebElement (session=\"3310f05e5e67a61c18b25f5b3fcf470b\", element=\"8e358752-588e-4bf6-83df-ba2361853a75\")>,\n",
       " <selenium.webdriver.remote.webelement.WebElement (session=\"3310f05e5e67a61c18b25f5b3fcf470b\", element=\"c7a8dce6-93dc-4552-b9cf-813f2296b067\")>,\n",
       " <selenium.webdriver.remote.webelement.WebElement (session=\"3310f05e5e67a61c18b25f5b3fcf470b\", element=\"2d75f8ba-d82a-4f95-8ca8-9978c5d134da\")>,\n",
       " <selenium.webdriver.remote.webelement.WebElement (session=\"3310f05e5e67a61c18b25f5b3fcf470b\", element=\"2aff4486-d4e3-4831-b2e3-2f3a17c216eb\")>,\n",
       " <selenium.webdriver.remote.webelement.WebElement (session=\"3310f05e5e67a61c18b25f5b3fcf470b\", element=\"0d058f8a-44d6-49e2-a223-605dd2a84275\")>,\n",
       " <selenium.webdriver.remote.webelement.WebElement (session=\"3310f05e5e67a61c18b25f5b3fcf470b\", element=\"4ce4369b-ebdc-4ad7-92ed-defc0d03bdd9\")>,\n",
       " <selenium.webdriver.remote.webelement.WebElement (session=\"3310f05e5e67a61c18b25f5b3fcf470b\", element=\"c6aa4db1-ac1b-43a0-b06f-d37bfcf3667a\")>,\n",
       " <selenium.webdriver.remote.webelement.WebElement (session=\"3310f05e5e67a61c18b25f5b3fcf470b\", element=\"8d5e357f-b199-40de-8f53-183d351882b2\")>,\n",
       " <selenium.webdriver.remote.webelement.WebElement (session=\"3310f05e5e67a61c18b25f5b3fcf470b\", element=\"adebe65e-4945-414d-8704-1f99d83dc060\")>,\n",
       " <selenium.webdriver.remote.webelement.WebElement (session=\"3310f05e5e67a61c18b25f5b3fcf470b\", element=\"5e77aaf1-db56-457e-80ff-6c248b33874e\")>,\n",
       " <selenium.webdriver.remote.webelement.WebElement (session=\"3310f05e5e67a61c18b25f5b3fcf470b\", element=\"2a9130d4-c996-490e-ace1-b7c700f27a87\")>,\n",
       " <selenium.webdriver.remote.webelement.WebElement (session=\"3310f05e5e67a61c18b25f5b3fcf470b\", element=\"be8d3d06-41ef-488c-afa8-3132c6c6cd01\")>,\n",
       " <selenium.webdriver.remote.webelement.WebElement (session=\"3310f05e5e67a61c18b25f5b3fcf470b\", element=\"e70431de-ee91-45d1-b9ab-4f0b864afa97\")>]"
      ]
     },
     "execution_count": 258,
     "metadata": {},
     "output_type": "execute_result"
    }
   ],
   "source": [
    "loc=connect.find_elements_by_xpath('//li[@class=\"fleft grey-text br2 placeHolderLi location\"]/span')\n",
    "loc"
   ]
  },
  {
   "cell_type": "code",
   "execution_count": 259,
   "id": "49fc23ec",
   "metadata": {},
   "outputs": [],
   "source": [
    "job_location=[]"
   ]
  },
  {
   "cell_type": "code",
   "execution_count": 260,
   "id": "0b7d963c",
   "metadata": {},
   "outputs": [],
   "source": [
    "for i in loc:\n",
    "    loc=i.text\n",
    "    job_location.append(loc)"
   ]
  },
  {
   "cell_type": "code",
   "execution_count": 261,
   "id": "7baa7d23",
   "metadata": {},
   "outputs": [
    {
     "data": {
      "text/plain": [
       "['Bangalore/Bengaluru, Mumbai (All Areas)',\n",
       " 'Bangalore/Bengaluru(Bellandur)',\n",
       " '',\n",
       " '',\n",
       " '',\n",
       " '',\n",
       " '',\n",
       " '',\n",
       " '',\n",
       " '',\n",
       " '',\n",
       " '',\n",
       " '',\n",
       " '',\n",
       " '',\n",
       " '',\n",
       " '',\n",
       " '',\n",
       " '',\n",
       " '',\n",
       " '',\n",
       " '',\n",
       " '']"
      ]
     },
     "execution_count": 261,
     "metadata": {},
     "output_type": "execute_result"
    }
   ],
   "source": [
    "job_location"
   ]
  },
  {
   "cell_type": "code",
   "execution_count": 262,
   "id": "41a7cbdf",
   "metadata": {},
   "outputs": [
    {
     "data": {
      "text/html": [
       "<div>\n",
       "<style scoped>\n",
       "    .dataframe tbody tr th:only-of-type {\n",
       "        vertical-align: middle;\n",
       "    }\n",
       "\n",
       "    .dataframe tbody tr th {\n",
       "        vertical-align: top;\n",
       "    }\n",
       "\n",
       "    .dataframe thead th {\n",
       "        text-align: right;\n",
       "    }\n",
       "</style>\n",
       "<table border=\"1\" class=\"dataframe\">\n",
       "  <thead>\n",
       "    <tr style=\"text-align: right;\">\n",
       "      <th></th>\n",
       "      <th>Job Titles</th>\n",
       "      <th>Company Name</th>\n",
       "      <th>Exprience Needed</th>\n",
       "      <th>Salary</th>\n",
       "      <th>Job Location</th>\n",
       "    </tr>\n",
       "  </thead>\n",
       "  <tbody>\n",
       "    <tr>\n",
       "      <th>0</th>\n",
       "      <td>Senior Business Data Analyst</td>\n",
       "      <td>Tech Data Advanced Solutions India Pvt Ltd</td>\n",
       "      <td>3-8 Yrs</td>\n",
       "      <td>12,00,000 - 17,00,000 PA.</td>\n",
       "      <td>Bangalore/Bengaluru, Mumbai (All Areas)</td>\n",
       "    </tr>\n",
       "    <tr>\n",
       "      <th>1</th>\n",
       "      <td>Data Analyst - Flipkart Analytics</td>\n",
       "      <td>Flipkart</td>\n",
       "      <td>0-3 Yrs</td>\n",
       "      <td>8,00,000 - 9,50,000 PA.</td>\n",
       "      <td>Bangalore/Bengaluru(Bellandur)</td>\n",
       "    </tr>\n",
       "    <tr>\n",
       "      <th>2</th>\n",
       "      <td>Business Data Analyst - Database Design/Mining</td>\n",
       "      <td>AugmatrixGo</td>\n",
       "      <td>2-5 Yrs</td>\n",
       "      <td>Not disclosed</td>\n",
       "      <td></td>\n",
       "    </tr>\n",
       "    <tr>\n",
       "      <th>3</th>\n",
       "      <td>Urgent Openings For Data Analyst / Business An...</td>\n",
       "      <td>Flipkart</td>\n",
       "      <td>1-6 Yrs</td>\n",
       "      <td>4,50,000 - 9,50,000 PA.</td>\n",
       "      <td></td>\n",
       "    </tr>\n",
       "    <tr>\n",
       "      <th>4</th>\n",
       "      <td>Data Analyst</td>\n",
       "      <td>Rupeek Fintech Pvt Ltd</td>\n",
       "      <td>0-2 Yrs</td>\n",
       "      <td>Not disclosed</td>\n",
       "      <td></td>\n",
       "    </tr>\n",
       "    <tr>\n",
       "      <th>5</th>\n",
       "      <td>Business Data Analyst(BigId) - Capco - Bangalore</td>\n",
       "      <td>Capco Technologies Pvt Ltd</td>\n",
       "      <td>3-8 Yrs</td>\n",
       "      <td>5,00,000 - 15,00,000 PA.</td>\n",
       "      <td></td>\n",
       "    </tr>\n",
       "    <tr>\n",
       "      <th>6</th>\n",
       "      <td>Data Analyst</td>\n",
       "      <td>CINDREBAY SCHOOL OF FASHION &amp; INTERIOR DESIGN</td>\n",
       "      <td>1-4 Yrs</td>\n",
       "      <td>Not disclosed</td>\n",
       "      <td></td>\n",
       "    </tr>\n",
       "    <tr>\n",
       "      <th>7</th>\n",
       "      <td>Senior Data Analyst</td>\n",
       "      <td>Pioneer Business Solutions</td>\n",
       "      <td>6-11 Yrs</td>\n",
       "      <td>Not disclosed</td>\n",
       "      <td></td>\n",
       "    </tr>\n",
       "    <tr>\n",
       "      <th>8</th>\n",
       "      <td>Senior Data Analyst</td>\n",
       "      <td>Advanced Computer Software</td>\n",
       "      <td>3-5 Yrs</td>\n",
       "      <td>Not disclosed</td>\n",
       "      <td></td>\n",
       "    </tr>\n",
       "    <tr>\n",
       "      <th>9</th>\n",
       "      <td>Sr Data Analyst</td>\n",
       "      <td>Pioneer Business Solutions</td>\n",
       "      <td>3-8 Yrs</td>\n",
       "      <td>Not disclosed</td>\n",
       "      <td></td>\n",
       "    </tr>\n",
       "  </tbody>\n",
       "</table>\n",
       "</div>"
      ],
      "text/plain": [
       "                                          Job Titles  \\\n",
       "0                       Senior Business Data Analyst   \n",
       "1                  Data Analyst - Flipkart Analytics   \n",
       "2     Business Data Analyst - Database Design/Mining   \n",
       "3  Urgent Openings For Data Analyst / Business An...   \n",
       "4                                       Data Analyst   \n",
       "5   Business Data Analyst(BigId) - Capco - Bangalore   \n",
       "6                                       Data Analyst   \n",
       "7                                Senior Data Analyst   \n",
       "8                                Senior Data Analyst   \n",
       "9                                    Sr Data Analyst   \n",
       "\n",
       "                                    Company Name Exprience Needed  \\\n",
       "0     Tech Data Advanced Solutions India Pvt Ltd          3-8 Yrs   \n",
       "1                                       Flipkart          0-3 Yrs   \n",
       "2                                    AugmatrixGo          2-5 Yrs   \n",
       "3                                       Flipkart          1-6 Yrs   \n",
       "4                         Rupeek Fintech Pvt Ltd          0-2 Yrs   \n",
       "5                     Capco Technologies Pvt Ltd          3-8 Yrs   \n",
       "6  CINDREBAY SCHOOL OF FASHION & INTERIOR DESIGN          1-4 Yrs   \n",
       "7                     Pioneer Business Solutions         6-11 Yrs   \n",
       "8                     Advanced Computer Software          3-5 Yrs   \n",
       "9                     Pioneer Business Solutions          3-8 Yrs   \n",
       "\n",
       "                      Salary                             Job Location  \n",
       "0  12,00,000 - 17,00,000 PA.  Bangalore/Bengaluru, Mumbai (All Areas)  \n",
       "1    8,00,000 - 9,50,000 PA.           Bangalore/Bengaluru(Bellandur)  \n",
       "2              Not disclosed                                           \n",
       "3    4,50,000 - 9,50,000 PA.                                           \n",
       "4              Not disclosed                                           \n",
       "5   5,00,000 - 15,00,000 PA.                                           \n",
       "6              Not disclosed                                           \n",
       "7              Not disclosed                                           \n",
       "8              Not disclosed                                           \n",
       "9              Not disclosed                                           "
      ]
     },
     "execution_count": 262,
     "metadata": {},
     "output_type": "execute_result"
    }
   ],
   "source": [
    "data_analyst_jobs=pd.DataFrame({})\n",
    "data_analyst_jobs['Job Titles']=job_titles[0:10]\n",
    "data_analyst_jobs['Company Name']=company_name[0:10]\n",
    "data_analyst_jobs['Exprience Needed']=exprience_needed[0:10]\n",
    "data_analyst_jobs['Salary']=salary[0:10]\n",
    "data_analyst_jobs['Job Location']=job_location[0:10]\n",
    "data_analyst_jobs"
   ]
  },
  {
   "cell_type": "code",
   "execution_count": 263,
   "id": "c95e9227",
   "metadata": {},
   "outputs": [],
   "source": [
    "connect.get('https://www.naukri.com/')"
   ]
  },
  {
   "cell_type": "code",
   "execution_count": 264,
   "id": "8fd15b34",
   "metadata": {},
   "outputs": [],
   "source": [
    "# commanding to Enter “Data Scientist” in “Skill, Designations, Companies” \n",
    "skil=connect.find_element_by_id('qsb-keyword-sugg')\n",
    "skil.send_keys('Data Scientist')"
   ]
  },
  {
   "cell_type": "code",
   "execution_count": 265,
   "id": "e88cf93a",
   "metadata": {},
   "outputs": [],
   "source": [
    "#commanding field and enter “Bangalore” in “enter the location” field. \n",
    "loc=connect.find_element_by_id('qsb-location-sugg')\n",
    "loc.send_keys('Bangalore')"
   ]
  },
  {
   "cell_type": "code",
   "execution_count": 266,
   "id": "7cfd145c",
   "metadata": {},
   "outputs": [],
   "source": [
    "#clicking for the submit button\n",
    "button=connect.find_element_by_xpath('//div[@class=\"search-btn\"]/button')\n",
    "button.click()"
   ]
  },
  {
   "cell_type": "code",
   "execution_count": 267,
   "id": "f2bf447a",
   "metadata": {},
   "outputs": [
    {
     "data": {
      "text/plain": [
       "[]"
      ]
     },
     "execution_count": 267,
     "metadata": {},
     "output_type": "execute_result"
    }
   ],
   "source": [
    "title=connect.find_elements_by_xpath('//a[@class=\"title fw500 ellipsis\"]')\n",
    "title"
   ]
  },
  {
   "cell_type": "code",
   "execution_count": 268,
   "id": "d67d1e0f",
   "metadata": {},
   "outputs": [],
   "source": [
    "job_titles=[]"
   ]
  },
  {
   "cell_type": "code",
   "execution_count": 269,
   "id": "bc73be3e",
   "metadata": {},
   "outputs": [
    {
     "data": {
      "text/plain": [
       "[]"
      ]
     },
     "execution_count": 269,
     "metadata": {},
     "output_type": "execute_result"
    }
   ],
   "source": [
    "for i in  title:\n",
    "    title=i.text\n",
    "    job_titles.append(title)\n",
    "job_titles"
   ]
  },
  {
   "cell_type": "code",
   "execution_count": 270,
   "id": "5fbac04d",
   "metadata": {},
   "outputs": [
    {
     "data": {
      "text/plain": [
       "[<selenium.webdriver.remote.webelement.WebElement (session=\"3310f05e5e67a61c18b25f5b3fcf470b\", element=\"c6dd8509-3be2-4414-ac5a-fc2bedb28c75\")>,\n",
       " <selenium.webdriver.remote.webelement.WebElement (session=\"3310f05e5e67a61c18b25f5b3fcf470b\", element=\"9f3b5e06-7ce3-4834-915a-4a81e8db3d65\")>,\n",
       " <selenium.webdriver.remote.webelement.WebElement (session=\"3310f05e5e67a61c18b25f5b3fcf470b\", element=\"6495b274-d76b-412e-b023-184d0e9275cc\")>,\n",
       " <selenium.webdriver.remote.webelement.WebElement (session=\"3310f05e5e67a61c18b25f5b3fcf470b\", element=\"9fb1c32d-b846-46ae-a979-f78f8aa2ecf3\")>,\n",
       " <selenium.webdriver.remote.webelement.WebElement (session=\"3310f05e5e67a61c18b25f5b3fcf470b\", element=\"7fd784f6-da9b-4bc2-83e6-be16edba373b\")>,\n",
       " <selenium.webdriver.remote.webelement.WebElement (session=\"3310f05e5e67a61c18b25f5b3fcf470b\", element=\"b607618b-78b5-44e7-84b6-f47db6a0552d\")>,\n",
       " <selenium.webdriver.remote.webelement.WebElement (session=\"3310f05e5e67a61c18b25f5b3fcf470b\", element=\"f6f76241-ad3b-43af-a76f-65a84b681231\")>,\n",
       " <selenium.webdriver.remote.webelement.WebElement (session=\"3310f05e5e67a61c18b25f5b3fcf470b\", element=\"d663b1fd-c568-4d44-8a99-ea3ff4bbcdf7\")>,\n",
       " <selenium.webdriver.remote.webelement.WebElement (session=\"3310f05e5e67a61c18b25f5b3fcf470b\", element=\"d2937a16-1ba8-4166-8e9d-35154693d16d\")>,\n",
       " <selenium.webdriver.remote.webelement.WebElement (session=\"3310f05e5e67a61c18b25f5b3fcf470b\", element=\"0088913e-90d9-4b5e-85bf-664be811d861\")>,\n",
       " <selenium.webdriver.remote.webelement.WebElement (session=\"3310f05e5e67a61c18b25f5b3fcf470b\", element=\"32fe7486-05f3-4d78-8964-e77af88d4dd1\")>,\n",
       " <selenium.webdriver.remote.webelement.WebElement (session=\"3310f05e5e67a61c18b25f5b3fcf470b\", element=\"5300b11e-aa0b-4659-aaa7-bae4c9cc18de\")>,\n",
       " <selenium.webdriver.remote.webelement.WebElement (session=\"3310f05e5e67a61c18b25f5b3fcf470b\", element=\"6db21756-5e8a-4ddf-9044-3582dc3ef563\")>,\n",
       " <selenium.webdriver.remote.webelement.WebElement (session=\"3310f05e5e67a61c18b25f5b3fcf470b\", element=\"59cdeaf0-4f35-47ad-8109-3f8c6cd4ad3a\")>,\n",
       " <selenium.webdriver.remote.webelement.WebElement (session=\"3310f05e5e67a61c18b25f5b3fcf470b\", element=\"94081c51-a0a8-470a-896b-7b1136b3a21a\")>,\n",
       " <selenium.webdriver.remote.webelement.WebElement (session=\"3310f05e5e67a61c18b25f5b3fcf470b\", element=\"526af99b-a495-4159-9574-812ece9501a1\")>,\n",
       " <selenium.webdriver.remote.webelement.WebElement (session=\"3310f05e5e67a61c18b25f5b3fcf470b\", element=\"02dd911c-8ee7-4ccd-8a2a-8765d8780051\")>,\n",
       " <selenium.webdriver.remote.webelement.WebElement (session=\"3310f05e5e67a61c18b25f5b3fcf470b\", element=\"4bca93ae-cf5b-45bf-923c-273d0ee43173\")>,\n",
       " <selenium.webdriver.remote.webelement.WebElement (session=\"3310f05e5e67a61c18b25f5b3fcf470b\", element=\"a2919f73-4b54-4241-a3f9-43b6de381f04\")>,\n",
       " <selenium.webdriver.remote.webelement.WebElement (session=\"3310f05e5e67a61c18b25f5b3fcf470b\", element=\"6dfcf68e-94ee-4f40-9885-430791d8e9ae\")>]"
      ]
     },
     "execution_count": 270,
     "metadata": {},
     "output_type": "execute_result"
    }
   ],
   "source": [
    "name=connect.find_elements_by_xpath('//div[@class=\"mt-7 companyInfo subheading lh16\"]')\n",
    "name"
   ]
  },
  {
   "cell_type": "code",
   "execution_count": 271,
   "id": "99e20162",
   "metadata": {},
   "outputs": [],
   "source": [
    "company_name=[]"
   ]
  },
  {
   "cell_type": "code",
   "execution_count": 272,
   "id": "bd66a786",
   "metadata": {},
   "outputs": [],
   "source": [
    "for i in name:\n",
    "    name=i.text\n",
    "    company_name.append(name)"
   ]
  },
  {
   "cell_type": "code",
   "execution_count": 273,
   "id": "1cdff100",
   "metadata": {},
   "outputs": [
    {
     "data": {
      "text/plain": [
       "[<selenium.webdriver.remote.webelement.WebElement (session=\"3310f05e5e67a61c18b25f5b3fcf470b\", element=\"7de201c3-a90a-4b84-bfaf-8ce41d0b1d77\")>,\n",
       " <selenium.webdriver.remote.webelement.WebElement (session=\"3310f05e5e67a61c18b25f5b3fcf470b\", element=\"5eefb78b-cae4-44b1-9db7-33df33894faf\")>,\n",
       " <selenium.webdriver.remote.webelement.WebElement (session=\"3310f05e5e67a61c18b25f5b3fcf470b\", element=\"ce41e435-81f2-4b4e-bebb-6357ffcbc2ca\")>,\n",
       " <selenium.webdriver.remote.webelement.WebElement (session=\"3310f05e5e67a61c18b25f5b3fcf470b\", element=\"d20c7cf6-6421-499d-9042-28b59c88cc79\")>,\n",
       " <selenium.webdriver.remote.webelement.WebElement (session=\"3310f05e5e67a61c18b25f5b3fcf470b\", element=\"8596c707-4b5f-4d29-8a9e-c2adabcbdc01\")>,\n",
       " <selenium.webdriver.remote.webelement.WebElement (session=\"3310f05e5e67a61c18b25f5b3fcf470b\", element=\"6e104c6d-ec8b-4bf2-90e9-ddb47d41fb28\")>,\n",
       " <selenium.webdriver.remote.webelement.WebElement (session=\"3310f05e5e67a61c18b25f5b3fcf470b\", element=\"a442d930-780d-4a66-88a6-ec73b00c23d4\")>,\n",
       " <selenium.webdriver.remote.webelement.WebElement (session=\"3310f05e5e67a61c18b25f5b3fcf470b\", element=\"7b75afc5-6e25-488c-9989-16d8841e67cb\")>,\n",
       " <selenium.webdriver.remote.webelement.WebElement (session=\"3310f05e5e67a61c18b25f5b3fcf470b\", element=\"82891f79-954f-4c26-b0cc-935b90f942cd\")>,\n",
       " <selenium.webdriver.remote.webelement.WebElement (session=\"3310f05e5e67a61c18b25f5b3fcf470b\", element=\"94cbaa74-6481-4d2d-beba-ab80523edcf2\")>,\n",
       " <selenium.webdriver.remote.webelement.WebElement (session=\"3310f05e5e67a61c18b25f5b3fcf470b\", element=\"99b47d49-59a4-4e9c-a945-e91fafe1ad85\")>,\n",
       " <selenium.webdriver.remote.webelement.WebElement (session=\"3310f05e5e67a61c18b25f5b3fcf470b\", element=\"4321de82-be22-4597-8738-5f1033e97bab\")>,\n",
       " <selenium.webdriver.remote.webelement.WebElement (session=\"3310f05e5e67a61c18b25f5b3fcf470b\", element=\"53bd05c9-0a1a-4102-949c-e0c7326b21a6\")>,\n",
       " <selenium.webdriver.remote.webelement.WebElement (session=\"3310f05e5e67a61c18b25f5b3fcf470b\", element=\"70d5645c-de0b-4a44-8e5a-e8ab3e8ed26d\")>,\n",
       " <selenium.webdriver.remote.webelement.WebElement (session=\"3310f05e5e67a61c18b25f5b3fcf470b\", element=\"79a461d3-12a7-4e8c-afb3-fc7e16c8b0ac\")>,\n",
       " <selenium.webdriver.remote.webelement.WebElement (session=\"3310f05e5e67a61c18b25f5b3fcf470b\", element=\"0d4a500a-6ff2-4629-b6b8-52d549b0010e\")>,\n",
       " <selenium.webdriver.remote.webelement.WebElement (session=\"3310f05e5e67a61c18b25f5b3fcf470b\", element=\"6ddb7a76-ec31-427a-8b16-acae5a56af43\")>,\n",
       " <selenium.webdriver.remote.webelement.WebElement (session=\"3310f05e5e67a61c18b25f5b3fcf470b\", element=\"29f847b6-0b78-4660-bab7-5555d55eac3e\")>,\n",
       " <selenium.webdriver.remote.webelement.WebElement (session=\"3310f05e5e67a61c18b25f5b3fcf470b\", element=\"1c6ebff8-95ef-458a-93c0-cbf58b0e0738\")>,\n",
       " <selenium.webdriver.remote.webelement.WebElement (session=\"3310f05e5e67a61c18b25f5b3fcf470b\", element=\"0c8b9c5d-c0c1-4448-9d35-97bdcf004f98\")>]"
      ]
     },
     "execution_count": 273,
     "metadata": {},
     "output_type": "execute_result"
    }
   ],
   "source": [
    "expr=connect.find_elements_by_xpath('//li[@class=\"fleft grey-text br2 placeHolderLi experience\"]/span')\n",
    "expr"
   ]
  },
  {
   "cell_type": "code",
   "execution_count": 274,
   "id": "9134199f",
   "metadata": {},
   "outputs": [
    {
     "data": {
      "text/plain": [
       "['Hitachi Ltd.\\n4.0\\n(224 Reviews)',\n",
       " 'Concentrix Daksh Services\\n4.1\\n(10264 Reviews)',\n",
       " 'Toppr\\n2.9\\n(464 Reviews)',\n",
       " 'Bayer\\n4.4\\n(675 Reviews)',\n",
       " 'Hitachi Ltd.\\n4.0\\n(224 Reviews)',\n",
       " 'Mobiotics IT Solution Pvt Ltd\\n5.0\\n(9 Reviews)',\n",
       " 'Hitachi Ltd.\\n4.0\\n(224 Reviews)',\n",
       " 'Bigshyft Hiring for PayTM (One97 Communications)',\n",
       " 'IBM India Pvt. Limited\\n4.0\\n(10540 Reviews)',\n",
       " 'IBM India Pvt. Limited\\n4.0\\n(10540 Reviews)',\n",
       " 'Oracle India Pvt. Ltd.\\n3.7\\n(2058 Reviews)',\n",
       " 'SKILLVENTORY',\n",
       " 'Kwalee India Pvt Ltd.',\n",
       " 'Autodesk India Pvt Ltd\\n3.8\\n(55 Reviews)',\n",
       " 'GE Transportation\\n4.0\\n(109 Reviews)',\n",
       " 'TALENT500 TECH (INDIA) PRIVATE LIMITED',\n",
       " 'Dun & Bradstreet\\n3.6\\n(126 Reviews)',\n",
       " 'Convergence Infotech Ltd\\n3.8\\n(8 Reviews)',\n",
       " 'intelligent industrial internet systems pvt ltd.\\n4.8\\n(6 Reviews)',\n",
       " 'Siemens Limited\\n4.2\\n(2311 Reviews)']"
      ]
     },
     "execution_count": 274,
     "metadata": {},
     "output_type": "execute_result"
    }
   ],
   "source": [
    "company_name"
   ]
  },
  {
   "cell_type": "code",
   "execution_count": 275,
   "id": "346d5453",
   "metadata": {},
   "outputs": [
    {
     "data": {
      "text/plain": [
       "['2-5 Yrs',\n",
       " '3-8 Yrs',\n",
       " '1-3 Yrs',\n",
       " '4-8 Yrs',\n",
       " '3-7 Yrs',\n",
       " '2-5 Yrs',\n",
       " '5-10 Yrs',\n",
       " '3-7 Yrs',\n",
       " '5-10 Yrs',\n",
       " '4-6 Yrs',\n",
       " '6-10 Yrs',\n",
       " '8-12 Yrs',\n",
       " '5-10 Yrs',\n",
       " '8-13 Yrs',\n",
       " '3-6 Yrs',\n",
       " '7-10 Yrs',\n",
       " '1-5 Yrs',\n",
       " '8-12 Yrs',\n",
       " '2-6 Yrs',\n",
       " '5-10 Yrs']"
      ]
     },
     "execution_count": 275,
     "metadata": {},
     "output_type": "execute_result"
    }
   ],
   "source": [
    "exprience=[]\n",
    "for i in expr:\n",
    "    expr=i.text\n",
    "    exprience.append(expr)\n",
    "exprience"
   ]
  },
  {
   "cell_type": "code",
   "execution_count": 276,
   "id": "9db9be88",
   "metadata": {},
   "outputs": [
    {
     "data": {
      "text/plain": [
       "[<selenium.webdriver.remote.webelement.WebElement (session=\"3310f05e5e67a61c18b25f5b3fcf470b\", element=\"15889736-5c82-4dd0-8c31-d923f05b20f3\")>,\n",
       " <selenium.webdriver.remote.webelement.WebElement (session=\"3310f05e5e67a61c18b25f5b3fcf470b\", element=\"04acff16-fd05-405d-9ba4-1231465ed1de\")>,\n",
       " <selenium.webdriver.remote.webelement.WebElement (session=\"3310f05e5e67a61c18b25f5b3fcf470b\", element=\"d881bf97-4e4c-444e-a39d-e389c972f7f0\")>,\n",
       " <selenium.webdriver.remote.webelement.WebElement (session=\"3310f05e5e67a61c18b25f5b3fcf470b\", element=\"4fb78f45-81e6-4a42-b750-ad8a7111e508\")>,\n",
       " <selenium.webdriver.remote.webelement.WebElement (session=\"3310f05e5e67a61c18b25f5b3fcf470b\", element=\"5e02f0f5-4ea6-4d99-bdab-aa8f77a84d08\")>,\n",
       " <selenium.webdriver.remote.webelement.WebElement (session=\"3310f05e5e67a61c18b25f5b3fcf470b\", element=\"b11b4ded-9ed0-4255-829e-de6d55eeeedc\")>,\n",
       " <selenium.webdriver.remote.webelement.WebElement (session=\"3310f05e5e67a61c18b25f5b3fcf470b\", element=\"2015a443-3fb2-468a-b589-953f06f2a97f\")>,\n",
       " <selenium.webdriver.remote.webelement.WebElement (session=\"3310f05e5e67a61c18b25f5b3fcf470b\", element=\"da4dd128-3b6a-498e-8a29-6c0b339c0536\")>,\n",
       " <selenium.webdriver.remote.webelement.WebElement (session=\"3310f05e5e67a61c18b25f5b3fcf470b\", element=\"01c6f9f2-11a2-4602-9a2b-2cfa2280ce1e\")>,\n",
       " <selenium.webdriver.remote.webelement.WebElement (session=\"3310f05e5e67a61c18b25f5b3fcf470b\", element=\"2d4e37ff-0469-46a6-ab2b-9d7503a432e0\")>,\n",
       " <selenium.webdriver.remote.webelement.WebElement (session=\"3310f05e5e67a61c18b25f5b3fcf470b\", element=\"44e9d7dd-d620-4e44-8177-fee941fe83a7\")>,\n",
       " <selenium.webdriver.remote.webelement.WebElement (session=\"3310f05e5e67a61c18b25f5b3fcf470b\", element=\"d5e944a2-791f-4039-9b2a-09b55db72d08\")>,\n",
       " <selenium.webdriver.remote.webelement.WebElement (session=\"3310f05e5e67a61c18b25f5b3fcf470b\", element=\"825801fd-ae62-4c3d-8f90-b7b816cd1569\")>,\n",
       " <selenium.webdriver.remote.webelement.WebElement (session=\"3310f05e5e67a61c18b25f5b3fcf470b\", element=\"f221abc1-209e-4b00-b414-06d98195a2d0\")>,\n",
       " <selenium.webdriver.remote.webelement.WebElement (session=\"3310f05e5e67a61c18b25f5b3fcf470b\", element=\"c508c84c-2c0b-44e0-b1b7-f1d8c0a37869\")>,\n",
       " <selenium.webdriver.remote.webelement.WebElement (session=\"3310f05e5e67a61c18b25f5b3fcf470b\", element=\"8676088b-9d40-4d36-b4fc-556ef8495235\")>,\n",
       " <selenium.webdriver.remote.webelement.WebElement (session=\"3310f05e5e67a61c18b25f5b3fcf470b\", element=\"fce79da0-9b35-4d3c-b016-1887a0a9c221\")>,\n",
       " <selenium.webdriver.remote.webelement.WebElement (session=\"3310f05e5e67a61c18b25f5b3fcf470b\", element=\"72373567-fa2a-4b39-9ee5-bb59765e0fb5\")>,\n",
       " <selenium.webdriver.remote.webelement.WebElement (session=\"3310f05e5e67a61c18b25f5b3fcf470b\", element=\"4f43895c-fd95-4712-9409-b251ae3cd1e0\")>,\n",
       " <selenium.webdriver.remote.webelement.WebElement (session=\"3310f05e5e67a61c18b25f5b3fcf470b\", element=\"7d7affd0-edfd-4791-a5b5-d95bdb79288e\")>,\n",
       " <selenium.webdriver.remote.webelement.WebElement (session=\"3310f05e5e67a61c18b25f5b3fcf470b\", element=\"e2e01d25-7b25-4224-ae78-7c74d04e7f5c\")>,\n",
       " <selenium.webdriver.remote.webelement.WebElement (session=\"3310f05e5e67a61c18b25f5b3fcf470b\", element=\"40aa0702-7171-4ae2-97da-e40622f7148f\")>,\n",
       " <selenium.webdriver.remote.webelement.WebElement (session=\"3310f05e5e67a61c18b25f5b3fcf470b\", element=\"61eeadfd-02dc-4234-8b21-15f3d4aee661\")>,\n",
       " <selenium.webdriver.remote.webelement.WebElement (session=\"3310f05e5e67a61c18b25f5b3fcf470b\", element=\"07bbbb00-270e-4dd5-a2fb-1a546279a25f\")>]"
      ]
     },
     "execution_count": 276,
     "metadata": {},
     "output_type": "execute_result"
    }
   ],
   "source": [
    "loca=connect.find_elements_by_xpath('//li[@class=\"fleft grey-text br2 placeHolderLi location\"]/span')\n",
    "loca"
   ]
  },
  {
   "cell_type": "code",
   "execution_count": 277,
   "id": "dad99d27",
   "metadata": {},
   "outputs": [],
   "source": [
    "location=[]"
   ]
  },
  {
   "cell_type": "code",
   "execution_count": 278,
   "id": "ba6069e5",
   "metadata": {},
   "outputs": [],
   "source": [
    "for i in loca:\n",
    "    loca=i.text\n",
    "    location.append(loca)\n"
   ]
  },
  {
   "cell_type": "code",
   "execution_count": 279,
   "id": "1735f39e",
   "metadata": {},
   "outputs": [
    {
     "data": {
      "text/plain": [
       "['Bangalore/Bengaluru',\n",
       " 'Gurgaon/Gurugram, Bangalore/Bengaluru',\n",
       " '(WFH during Covid)',\n",
       " 'Hyderabad/Secunderabad, Bangalore/Bengaluru, Mumbai (All Areas)',\n",
       " 'Bangalore/Bengaluru, Hyderabad',\n",
       " 'Bangalore/Bengaluru',\n",
       " 'Bangalore/Bengaluru(HSR Layout)',\n",
       " 'Bangalore/Bengaluru',\n",
       " 'Bangalore/Bengaluru',\n",
       " 'Bangalore/Bengaluru',\n",
       " 'Bangalore/Bengaluru',\n",
       " 'Bangalore/Bengaluru',\n",
       " 'Bangalore/Bengaluru',\n",
       " 'Bangalore/Bengaluru',\n",
       " 'Bangalore/Bengaluru',\n",
       " 'Bangalore/Bengaluru',\n",
       " 'Bangalore/Bengaluru',\n",
       " 'Chennai, Bangalore/Bengaluru',\n",
       " '(WFH during Covid)',\n",
       " 'Bangalore/Bengaluru(Sadashiva Nagar)',\n",
       " '(WFH during Covid)',\n",
       " 'Bangalore/Bengaluru, Mumbai (All Areas)',\n",
       " '(WFH during Covid)',\n",
       " 'Bangalore/Bengaluru']"
      ]
     },
     "execution_count": 279,
     "metadata": {},
     "output_type": "execute_result"
    }
   ],
   "source": [
    "location"
   ]
  },
  {
   "cell_type": "code",
   "execution_count": 280,
   "id": "361b1ab7",
   "metadata": {},
   "outputs": [
    {
     "data": {
      "text/plain": [
       "[<selenium.webdriver.remote.webelement.WebElement (session=\"3310f05e5e67a61c18b25f5b3fcf470b\", element=\"a5a74706-efec-49a4-84fd-984f0415a47d\")>,\n",
       " <selenium.webdriver.remote.webelement.WebElement (session=\"3310f05e5e67a61c18b25f5b3fcf470b\", element=\"d83060ce-cfc4-4e79-b96c-776acc0d8a20\")>,\n",
       " <selenium.webdriver.remote.webelement.WebElement (session=\"3310f05e5e67a61c18b25f5b3fcf470b\", element=\"777f1901-8463-455d-b388-008b1e492ede\")>,\n",
       " <selenium.webdriver.remote.webelement.WebElement (session=\"3310f05e5e67a61c18b25f5b3fcf470b\", element=\"e227b70b-47bf-4566-83e7-f8d2404aba78\")>,\n",
       " <selenium.webdriver.remote.webelement.WebElement (session=\"3310f05e5e67a61c18b25f5b3fcf470b\", element=\"b7793869-0588-4053-b8e9-f1e180603d21\")>,\n",
       " <selenium.webdriver.remote.webelement.WebElement (session=\"3310f05e5e67a61c18b25f5b3fcf470b\", element=\"d9ed3cf2-ec22-4c42-a85a-ef7c9d58141b\")>,\n",
       " <selenium.webdriver.remote.webelement.WebElement (session=\"3310f05e5e67a61c18b25f5b3fcf470b\", element=\"a22e7bd4-2078-419e-8b0b-719e318cea76\")>,\n",
       " <selenium.webdriver.remote.webelement.WebElement (session=\"3310f05e5e67a61c18b25f5b3fcf470b\", element=\"46b77708-b4c0-467a-950f-2af09cc2073a\")>,\n",
       " <selenium.webdriver.remote.webelement.WebElement (session=\"3310f05e5e67a61c18b25f5b3fcf470b\", element=\"c35f7c0d-3590-49b9-94e8-3426cb7ff48c\")>,\n",
       " <selenium.webdriver.remote.webelement.WebElement (session=\"3310f05e5e67a61c18b25f5b3fcf470b\", element=\"0038c503-1cc0-402b-900a-a9374ebc456f\")>,\n",
       " <selenium.webdriver.remote.webelement.WebElement (session=\"3310f05e5e67a61c18b25f5b3fcf470b\", element=\"9f7c467e-a027-4988-9473-3722dc733ac1\")>,\n",
       " <selenium.webdriver.remote.webelement.WebElement (session=\"3310f05e5e67a61c18b25f5b3fcf470b\", element=\"a1328fff-18ca-43e0-9160-faf8fd507649\")>,\n",
       " <selenium.webdriver.remote.webelement.WebElement (session=\"3310f05e5e67a61c18b25f5b3fcf470b\", element=\"7c123bff-3bb6-4a2d-ab97-8864f8dfde1f\")>,\n",
       " <selenium.webdriver.remote.webelement.WebElement (session=\"3310f05e5e67a61c18b25f5b3fcf470b\", element=\"5c9ad01d-68f8-42a9-bdb8-3b8c679fd8d9\")>,\n",
       " <selenium.webdriver.remote.webelement.WebElement (session=\"3310f05e5e67a61c18b25f5b3fcf470b\", element=\"bdace254-3457-472a-a820-e35166847236\")>,\n",
       " <selenium.webdriver.remote.webelement.WebElement (session=\"3310f05e5e67a61c18b25f5b3fcf470b\", element=\"19b8179b-3004-4328-ae8f-b76aa38c0f32\")>,\n",
       " <selenium.webdriver.remote.webelement.WebElement (session=\"3310f05e5e67a61c18b25f5b3fcf470b\", element=\"396fb8c7-2ff6-44b8-a847-1c3c5e6dcfe3\")>,\n",
       " <selenium.webdriver.remote.webelement.WebElement (session=\"3310f05e5e67a61c18b25f5b3fcf470b\", element=\"737c278b-b3dc-4c2c-9921-a34e5dbe9baa\")>,\n",
       " <selenium.webdriver.remote.webelement.WebElement (session=\"3310f05e5e67a61c18b25f5b3fcf470b\", element=\"c9965470-5652-4ec9-a467-c2642076f973\")>,\n",
       " <selenium.webdriver.remote.webelement.WebElement (session=\"3310f05e5e67a61c18b25f5b3fcf470b\", element=\"94418f87-f773-4f98-b174-587f57d10cab\")>]"
      ]
     },
     "execution_count": 280,
     "metadata": {},
     "output_type": "execute_result"
    }
   ],
   "source": [
    "sala=connect.find_elements_by_xpath('//li[@class=\"fleft grey-text br2 placeHolderLi salary\"]/span')\n",
    "sala"
   ]
  },
  {
   "cell_type": "code",
   "execution_count": 281,
   "id": "dcbe7ef8",
   "metadata": {},
   "outputs": [],
   "source": [
    "salay=[]"
   ]
  },
  {
   "cell_type": "code",
   "execution_count": 282,
   "id": "a6843a86",
   "metadata": {},
   "outputs": [],
   "source": [
    "for i in sala:\n",
    "    sala=i.text\n",
    "    salay.append(sala)"
   ]
  },
  {
   "cell_type": "code",
   "execution_count": 283,
   "id": "f35afb6e",
   "metadata": {},
   "outputs": [
    {
     "data": {
      "text/plain": [
       "['Not disclosed',\n",
       " '8,00,000 - 10,00,000 PA.',\n",
       " 'Not disclosed',\n",
       " 'Not disclosed',\n",
       " 'Not disclosed',\n",
       " '5,00,000 - 10,00,000 PA.',\n",
       " 'Not disclosed',\n",
       " '12,00,000 - 22,00,000 PA.',\n",
       " 'Not disclosed',\n",
       " 'Not disclosed',\n",
       " 'Not disclosed',\n",
       " 'Not disclosed',\n",
       " 'Not disclosed',\n",
       " 'Not disclosed',\n",
       " 'Not disclosed',\n",
       " 'Not disclosed',\n",
       " 'Not disclosed',\n",
       " 'Not disclosed',\n",
       " '10,00,000 - 20,00,000 PA.',\n",
       " 'Not disclosed']"
      ]
     },
     "execution_count": 283,
     "metadata": {},
     "output_type": "execute_result"
    }
   ],
   "source": [
    "salay"
   ]
  },
  {
   "cell_type": "code",
   "execution_count": 284,
   "id": "bb2bbce3",
   "metadata": {},
   "outputs": [
    {
     "data": {
      "text/html": [
       "<div>\n",
       "<style scoped>\n",
       "    .dataframe tbody tr th:only-of-type {\n",
       "        vertical-align: middle;\n",
       "    }\n",
       "\n",
       "    .dataframe tbody tr th {\n",
       "        vertical-align: top;\n",
       "    }\n",
       "\n",
       "    .dataframe thead th {\n",
       "        text-align: right;\n",
       "    }\n",
       "</style>\n",
       "<table border=\"1\" class=\"dataframe\">\n",
       "  <thead>\n",
       "    <tr style=\"text-align: right;\">\n",
       "      <th></th>\n",
       "      <th>Job Titles</th>\n",
       "      <th>Company Name</th>\n",
       "      <th>Exprience Needed</th>\n",
       "      <th>Salary</th>\n",
       "      <th>Job Location</th>\n",
       "    </tr>\n",
       "  </thead>\n",
       "  <tbody>\n",
       "    <tr>\n",
       "      <th>0</th>\n",
       "      <td>NaN</td>\n",
       "      <td>Hitachi Ltd.\\n4.0\\n(224 Reviews)</td>\n",
       "      <td>2-5 Yrs</td>\n",
       "      <td>Not disclosed</td>\n",
       "      <td>Bangalore/Bengaluru</td>\n",
       "    </tr>\n",
       "    <tr>\n",
       "      <th>1</th>\n",
       "      <td>NaN</td>\n",
       "      <td>Concentrix Daksh Services\\n4.1\\n(10264 Reviews)</td>\n",
       "      <td>3-8 Yrs</td>\n",
       "      <td>8,00,000 - 10,00,000 PA.</td>\n",
       "      <td>Gurgaon/Gurugram, Bangalore/Bengaluru</td>\n",
       "    </tr>\n",
       "    <tr>\n",
       "      <th>2</th>\n",
       "      <td>NaN</td>\n",
       "      <td>Toppr\\n2.9\\n(464 Reviews)</td>\n",
       "      <td>1-3 Yrs</td>\n",
       "      <td>Not disclosed</td>\n",
       "      <td>(WFH during Covid)</td>\n",
       "    </tr>\n",
       "    <tr>\n",
       "      <th>3</th>\n",
       "      <td>NaN</td>\n",
       "      <td>Bayer\\n4.4\\n(675 Reviews)</td>\n",
       "      <td>4-8 Yrs</td>\n",
       "      <td>Not disclosed</td>\n",
       "      <td>Hyderabad/Secunderabad, Bangalore/Bengaluru, M...</td>\n",
       "    </tr>\n",
       "    <tr>\n",
       "      <th>4</th>\n",
       "      <td>NaN</td>\n",
       "      <td>Hitachi Ltd.\\n4.0\\n(224 Reviews)</td>\n",
       "      <td>3-7 Yrs</td>\n",
       "      <td>Not disclosed</td>\n",
       "      <td>Bangalore/Bengaluru, Hyderabad</td>\n",
       "    </tr>\n",
       "    <tr>\n",
       "      <th>5</th>\n",
       "      <td>NaN</td>\n",
       "      <td>Mobiotics IT Solution Pvt Ltd\\n5.0\\n(9 Reviews)</td>\n",
       "      <td>2-5 Yrs</td>\n",
       "      <td>5,00,000 - 10,00,000 PA.</td>\n",
       "      <td>Bangalore/Bengaluru</td>\n",
       "    </tr>\n",
       "    <tr>\n",
       "      <th>6</th>\n",
       "      <td>NaN</td>\n",
       "      <td>Hitachi Ltd.\\n4.0\\n(224 Reviews)</td>\n",
       "      <td>5-10 Yrs</td>\n",
       "      <td>Not disclosed</td>\n",
       "      <td>Bangalore/Bengaluru(HSR Layout)</td>\n",
       "    </tr>\n",
       "    <tr>\n",
       "      <th>7</th>\n",
       "      <td>NaN</td>\n",
       "      <td>Bigshyft Hiring for PayTM (One97 Communications)</td>\n",
       "      <td>3-7 Yrs</td>\n",
       "      <td>12,00,000 - 22,00,000 PA.</td>\n",
       "      <td>Bangalore/Bengaluru</td>\n",
       "    </tr>\n",
       "    <tr>\n",
       "      <th>8</th>\n",
       "      <td>NaN</td>\n",
       "      <td>IBM India Pvt. Limited\\n4.0\\n(10540 Reviews)</td>\n",
       "      <td>5-10 Yrs</td>\n",
       "      <td>Not disclosed</td>\n",
       "      <td>Bangalore/Bengaluru</td>\n",
       "    </tr>\n",
       "    <tr>\n",
       "      <th>9</th>\n",
       "      <td>NaN</td>\n",
       "      <td>IBM India Pvt. Limited\\n4.0\\n(10540 Reviews)</td>\n",
       "      <td>4-6 Yrs</td>\n",
       "      <td>Not disclosed</td>\n",
       "      <td>Bangalore/Bengaluru</td>\n",
       "    </tr>\n",
       "  </tbody>\n",
       "</table>\n",
       "</div>"
      ],
      "text/plain": [
       "   Job Titles                                      Company Name  \\\n",
       "0         NaN                  Hitachi Ltd.\\n4.0\\n(224 Reviews)   \n",
       "1         NaN   Concentrix Daksh Services\\n4.1\\n(10264 Reviews)   \n",
       "2         NaN                         Toppr\\n2.9\\n(464 Reviews)   \n",
       "3         NaN                         Bayer\\n4.4\\n(675 Reviews)   \n",
       "4         NaN                  Hitachi Ltd.\\n4.0\\n(224 Reviews)   \n",
       "5         NaN   Mobiotics IT Solution Pvt Ltd\\n5.0\\n(9 Reviews)   \n",
       "6         NaN                  Hitachi Ltd.\\n4.0\\n(224 Reviews)   \n",
       "7         NaN  Bigshyft Hiring for PayTM (One97 Communications)   \n",
       "8         NaN      IBM India Pvt. Limited\\n4.0\\n(10540 Reviews)   \n",
       "9         NaN      IBM India Pvt. Limited\\n4.0\\n(10540 Reviews)   \n",
       "\n",
       "  Exprience Needed                     Salary  \\\n",
       "0          2-5 Yrs              Not disclosed   \n",
       "1          3-8 Yrs   8,00,000 - 10,00,000 PA.   \n",
       "2          1-3 Yrs              Not disclosed   \n",
       "3          4-8 Yrs              Not disclosed   \n",
       "4          3-7 Yrs              Not disclosed   \n",
       "5          2-5 Yrs   5,00,000 - 10,00,000 PA.   \n",
       "6         5-10 Yrs              Not disclosed   \n",
       "7          3-7 Yrs  12,00,000 - 22,00,000 PA.   \n",
       "8         5-10 Yrs              Not disclosed   \n",
       "9          4-6 Yrs              Not disclosed   \n",
       "\n",
       "                                        Job Location  \n",
       "0                                Bangalore/Bengaluru  \n",
       "1              Gurgaon/Gurugram, Bangalore/Bengaluru  \n",
       "2                                 (WFH during Covid)  \n",
       "3  Hyderabad/Secunderabad, Bangalore/Bengaluru, M...  \n",
       "4                     Bangalore/Bengaluru, Hyderabad  \n",
       "5                                Bangalore/Bengaluru  \n",
       "6                    Bangalore/Bengaluru(HSR Layout)  \n",
       "7                                Bangalore/Bengaluru  \n",
       "8                                Bangalore/Bengaluru  \n",
       "9                                Bangalore/Bengaluru  "
      ]
     },
     "execution_count": 284,
     "metadata": {},
     "output_type": "execute_result"
    }
   ],
   "source": [
    "data_scientist_jobs=pd.DataFrame({})\n",
    "data_scientist_jobs['Job Titles']=job_titles[0:10]\n",
    "data_scientist_jobs['Company Name']=company_name[0:10]\n",
    "data_scientist_jobs['Exprience Needed']=exprience[0:10]\n",
    "data_scientist_jobs['Salary']=salay[0:10]\n",
    "data_scientist_jobs['Job Location']=location[0:10]\n",
    "data_scientist_jobs"
   ]
  },
  {
   "cell_type": "code",
   "execution_count": 285,
   "id": "6f2105d0",
   "metadata": {},
   "outputs": [
    {
     "data": {
      "text/plain": [
       "[<selenium.webdriver.remote.webelement.WebElement (session=\"3310f05e5e67a61c18b25f5b3fcf470b\", element=\"624c950c-1c19-4210-bf4a-2878f099827f\")>,\n",
       " <selenium.webdriver.remote.webelement.WebElement (session=\"3310f05e5e67a61c18b25f5b3fcf470b\", element=\"aca79d87-a3ae-46b1-8066-5e97edb8ee9f\")>,\n",
       " <selenium.webdriver.remote.webelement.WebElement (session=\"3310f05e5e67a61c18b25f5b3fcf470b\", element=\"3f93ab99-f6ef-4fe2-9dfc-7360e0d92344\")>,\n",
       " <selenium.webdriver.remote.webelement.WebElement (session=\"3310f05e5e67a61c18b25f5b3fcf470b\", element=\"933e1680-2978-4fee-8e1b-08399d0b9e1e\")>,\n",
       " <selenium.webdriver.remote.webelement.WebElement (session=\"3310f05e5e67a61c18b25f5b3fcf470b\", element=\"fe22c7f9-e11e-4bc3-98ce-df8dc45ccb4f\")>,\n",
       " <selenium.webdriver.remote.webelement.WebElement (session=\"3310f05e5e67a61c18b25f5b3fcf470b\", element=\"255f2109-7b42-42c9-a721-ad46e976e9b1\")>,\n",
       " <selenium.webdriver.remote.webelement.WebElement (session=\"3310f05e5e67a61c18b25f5b3fcf470b\", element=\"10c72ebd-46b0-4dd3-bfbc-2a444bfd9f67\")>,\n",
       " <selenium.webdriver.remote.webelement.WebElement (session=\"3310f05e5e67a61c18b25f5b3fcf470b\", element=\"7768a19e-2b96-4d91-8171-40c625f2745b\")>,\n",
       " <selenium.webdriver.remote.webelement.WebElement (session=\"3310f05e5e67a61c18b25f5b3fcf470b\", element=\"937aae38-1fb1-4683-9a78-e360f79466be\")>,\n",
       " <selenium.webdriver.remote.webelement.WebElement (session=\"3310f05e5e67a61c18b25f5b3fcf470b\", element=\"17001294-99bb-4ca5-b08a-9620090d802d\")>,\n",
       " <selenium.webdriver.remote.webelement.WebElement (session=\"3310f05e5e67a61c18b25f5b3fcf470b\", element=\"6b593063-7ef8-47c2-8555-bbfe5911397e\")>,\n",
       " <selenium.webdriver.remote.webelement.WebElement (session=\"3310f05e5e67a61c18b25f5b3fcf470b\", element=\"aa7495b6-5194-47ee-8ec6-c86fcd13e06b\")>,\n",
       " <selenium.webdriver.remote.webelement.WebElement (session=\"3310f05e5e67a61c18b25f5b3fcf470b\", element=\"1b56a4da-4e7d-4e35-9148-8db3be706789\")>,\n",
       " <selenium.webdriver.remote.webelement.WebElement (session=\"3310f05e5e67a61c18b25f5b3fcf470b\", element=\"ffc6284c-a2d0-4949-ba3d-cacc9ea49428\")>,\n",
       " <selenium.webdriver.remote.webelement.WebElement (session=\"3310f05e5e67a61c18b25f5b3fcf470b\", element=\"b4e4127e-efb7-4977-a44a-b2be157ccd98\")>,\n",
       " <selenium.webdriver.remote.webelement.WebElement (session=\"3310f05e5e67a61c18b25f5b3fcf470b\", element=\"e389fc0c-0726-4c13-93c5-085b151840b4\")>,\n",
       " <selenium.webdriver.remote.webelement.WebElement (session=\"3310f05e5e67a61c18b25f5b3fcf470b\", element=\"31041d44-d80a-40cd-99c0-ac68bb97fd92\")>,\n",
       " <selenium.webdriver.remote.webelement.WebElement (session=\"3310f05e5e67a61c18b25f5b3fcf470b\", element=\"f82d1051-29b5-4630-bd7c-90bfdcba1083\")>,\n",
       " <selenium.webdriver.remote.webelement.WebElement (session=\"3310f05e5e67a61c18b25f5b3fcf470b\", element=\"7eaf6509-c1e2-4c01-b8b4-c6cd04207c29\")>,\n",
       " <selenium.webdriver.remote.webelement.WebElement (session=\"3310f05e5e67a61c18b25f5b3fcf470b\", element=\"dcebf236-ce29-4c9c-afd6-cc5b034ca9cc\")>,\n",
       " <selenium.webdriver.remote.webelement.WebElement (session=\"3310f05e5e67a61c18b25f5b3fcf470b\", element=\"fb95aba5-eee1-42de-8459-572bddc192c4\")>,\n",
       " <selenium.webdriver.remote.webelement.WebElement (session=\"3310f05e5e67a61c18b25f5b3fcf470b\", element=\"e811ae73-429d-4060-a0cb-e7fdc939b99d\")>,\n",
       " <selenium.webdriver.remote.webelement.WebElement (session=\"3310f05e5e67a61c18b25f5b3fcf470b\", element=\"04b75a05-2e3b-4ad8-8dbd-af0f5420d831\")>,\n",
       " <selenium.webdriver.remote.webelement.WebElement (session=\"3310f05e5e67a61c18b25f5b3fcf470b\", element=\"e2476700-7cca-4d44-baf0-e7a74b0222d7\")>,\n",
       " <selenium.webdriver.remote.webelement.WebElement (session=\"3310f05e5e67a61c18b25f5b3fcf470b\", element=\"045393d0-3be3-46a4-9745-75b5c0dc4aae\")>,\n",
       " <selenium.webdriver.remote.webelement.WebElement (session=\"3310f05e5e67a61c18b25f5b3fcf470b\", element=\"0051fe1c-e99c-4082-81a4-ec126dda254e\")>,\n",
       " <selenium.webdriver.remote.webelement.WebElement (session=\"3310f05e5e67a61c18b25f5b3fcf470b\", element=\"3f99a9b3-3d9c-4be0-b53e-820eb6a6ae54\")>]"
      ]
     },
     "execution_count": 285,
     "metadata": {},
     "output_type": "execute_result"
    }
   ],
   "source": [
    "filter_button=connect.find_elements_by_xpath('//span[@class=\"ellipsis fleft\"]')\n",
    "filter_button"
   ]
  },
  {
   "cell_type": "code",
   "execution_count": 286,
   "id": "29ace03b",
   "metadata": {},
   "outputs": [],
   "source": [
    "for i in filter_button:\n",
    "    if i.text=='Delhi / NCR':\n",
    "        i.click()\n",
    "        break"
   ]
  },
  {
   "cell_type": "code",
   "execution_count": 287,
   "id": "567aa313",
   "metadata": {},
   "outputs": [
    {
     "data": {
      "text/plain": [
       "[]"
      ]
     },
     "execution_count": 287,
     "metadata": {},
     "output_type": "execute_result"
    }
   ],
   "source": [
    "job=connect.find_elements_by_xpath('//a[@class=\"title fw500 ellipsis\"]')\n",
    "job"
   ]
  },
  {
   "cell_type": "code",
   "execution_count": 288,
   "id": "32c6ccba",
   "metadata": {},
   "outputs": [],
   "source": [
    "job_titles=[]"
   ]
  },
  {
   "cell_type": "code",
   "execution_count": 289,
   "id": "e4a039de",
   "metadata": {},
   "outputs": [],
   "source": [
    "for i in job:\n",
    "    job=i.text\n",
    "    job_titles.append(job)"
   ]
  },
  {
   "cell_type": "code",
   "execution_count": 290,
   "id": "644ab85f",
   "metadata": {},
   "outputs": [
    {
     "data": {
      "text/plain": [
       "[]"
      ]
     },
     "execution_count": 290,
     "metadata": {},
     "output_type": "execute_result"
    }
   ],
   "source": [
    "job_titles"
   ]
  },
  {
   "cell_type": "code",
   "execution_count": 291,
   "id": "3f611fd2",
   "metadata": {},
   "outputs": [
    {
     "data": {
      "text/plain": [
       "[<selenium.webdriver.remote.webelement.WebElement (session=\"3310f05e5e67a61c18b25f5b3fcf470b\", element=\"0ae52734-8c25-454b-99a4-3f64c87e0f2f\")>,\n",
       " <selenium.webdriver.remote.webelement.WebElement (session=\"3310f05e5e67a61c18b25f5b3fcf470b\", element=\"9625ad1a-685d-445d-9710-45e6b1d4195b\")>,\n",
       " <selenium.webdriver.remote.webelement.WebElement (session=\"3310f05e5e67a61c18b25f5b3fcf470b\", element=\"891b5961-a377-42f3-b8d5-0caad44a1d3f\")>,\n",
       " <selenium.webdriver.remote.webelement.WebElement (session=\"3310f05e5e67a61c18b25f5b3fcf470b\", element=\"e2a27f9a-7433-451f-8a3a-8499b069c6e2\")>,\n",
       " <selenium.webdriver.remote.webelement.WebElement (session=\"3310f05e5e67a61c18b25f5b3fcf470b\", element=\"3cf13fdf-e59c-4c9c-ba0a-3017909013d1\")>,\n",
       " <selenium.webdriver.remote.webelement.WebElement (session=\"3310f05e5e67a61c18b25f5b3fcf470b\", element=\"1668029d-d9bb-4729-9574-93ee912544d1\")>,\n",
       " <selenium.webdriver.remote.webelement.WebElement (session=\"3310f05e5e67a61c18b25f5b3fcf470b\", element=\"20532e20-31de-44b8-b9aa-a56456afb1ef\")>,\n",
       " <selenium.webdriver.remote.webelement.WebElement (session=\"3310f05e5e67a61c18b25f5b3fcf470b\", element=\"0e276318-0060-4dc3-b025-bdbcf4ea73ce\")>,\n",
       " <selenium.webdriver.remote.webelement.WebElement (session=\"3310f05e5e67a61c18b25f5b3fcf470b\", element=\"a2481e1e-ef21-4cb5-a271-9a141d566cd7\")>,\n",
       " <selenium.webdriver.remote.webelement.WebElement (session=\"3310f05e5e67a61c18b25f5b3fcf470b\", element=\"930a6693-6393-4897-add4-ef56413fa4fc\")>,\n",
       " <selenium.webdriver.remote.webelement.WebElement (session=\"3310f05e5e67a61c18b25f5b3fcf470b\", element=\"3dce72b9-b814-4a1f-9016-c4482b6e827b\")>,\n",
       " <selenium.webdriver.remote.webelement.WebElement (session=\"3310f05e5e67a61c18b25f5b3fcf470b\", element=\"22a448f7-905f-410c-b95f-2c91c5d155cf\")>,\n",
       " <selenium.webdriver.remote.webelement.WebElement (session=\"3310f05e5e67a61c18b25f5b3fcf470b\", element=\"7563be7e-681f-4807-9e71-f62086281466\")>,\n",
       " <selenium.webdriver.remote.webelement.WebElement (session=\"3310f05e5e67a61c18b25f5b3fcf470b\", element=\"df529477-2e45-4ec4-bf05-fb25f13fe6cc\")>,\n",
       " <selenium.webdriver.remote.webelement.WebElement (session=\"3310f05e5e67a61c18b25f5b3fcf470b\", element=\"4c295d37-b07f-4e00-b1ca-67dd08420319\")>,\n",
       " <selenium.webdriver.remote.webelement.WebElement (session=\"3310f05e5e67a61c18b25f5b3fcf470b\", element=\"1d2dff15-0fe7-4f21-aa55-e2f3a6fe9f6a\")>,\n",
       " <selenium.webdriver.remote.webelement.WebElement (session=\"3310f05e5e67a61c18b25f5b3fcf470b\", element=\"587eb7bc-0e1c-42df-a8f1-daea707f78ce\")>,\n",
       " <selenium.webdriver.remote.webelement.WebElement (session=\"3310f05e5e67a61c18b25f5b3fcf470b\", element=\"cd5c5526-e33d-425d-b4b0-88afc5d3e788\")>,\n",
       " <selenium.webdriver.remote.webelement.WebElement (session=\"3310f05e5e67a61c18b25f5b3fcf470b\", element=\"d0a8f37a-b345-4360-895e-8a43de6165c8\")>,\n",
       " <selenium.webdriver.remote.webelement.WebElement (session=\"3310f05e5e67a61c18b25f5b3fcf470b\", element=\"e5766b0c-b749-4f04-b4bb-f4b3305781fa\")>]"
      ]
     },
     "execution_count": 291,
     "metadata": {},
     "output_type": "execute_result"
    }
   ],
   "source": [
    "org=connect.find_elements_by_xpath('//div[@class=\"mt-7 companyInfo subheading lh16\"]')\n",
    "org"
   ]
  },
  {
   "cell_type": "code",
   "execution_count": 292,
   "id": "17cb9e75",
   "metadata": {},
   "outputs": [],
   "source": [
    "organation=[]"
   ]
  },
  {
   "cell_type": "code",
   "execution_count": 293,
   "id": "dd2a2483",
   "metadata": {},
   "outputs": [],
   "source": [
    "for i in org:\n",
    "    org=i.text\n",
    "    organation.append(org)"
   ]
  },
  {
   "cell_type": "code",
   "execution_count": 294,
   "id": "07200270",
   "metadata": {},
   "outputs": [
    {
     "data": {
      "text/plain": [
       "['Concentrix Daksh Services\\n4.1\\n(10264 Reviews)',\n",
       " 'TransOrg Solutions Services (P) Ltd.',\n",
       " 'SPOTALENT',\n",
       " 'ThinkBumblebee Analytics Pvt. Ltd.\\n2.5\\n(9 Reviews)',\n",
       " 'Placewell Consultants',\n",
       " 'Placewell Consultants',\n",
       " 'Emmess technologies private Limited',\n",
       " 'Mount Talent Consulting Private Limited',\n",
       " 'GREAT LAKES E-LEARNING SERVICES PRIVATE LIMITED\\n2.8\\n(3 Reviews)',\n",
       " 'Axmiyan HR Solution Pvt Ltd',\n",
       " 'Boston Consulting Group\\n3.7\\n(56 Reviews)',\n",
       " 'Think i',\n",
       " 'DataTrained\\n4.0\\n(18 Reviews)',\n",
       " 'InnovAccer\\n3.0\\n(61 Reviews)',\n",
       " 'Incedo Technology Solutions Ltd.\\n3.4\\n(200 Reviews)',\n",
       " 'STATXO',\n",
       " 'InnovAccer\\n3.0\\n(61 Reviews)',\n",
       " 'Fractal Analytics\\n3.9\\n(124 Reviews)',\n",
       " 'Fractal Analytics\\n3.9\\n(124 Reviews)',\n",
       " 'Evalueserve\\n3.3\\n(434 Reviews)']"
      ]
     },
     "execution_count": 294,
     "metadata": {},
     "output_type": "execute_result"
    }
   ],
   "source": [
    "organation"
   ]
  },
  {
   "cell_type": "code",
   "execution_count": 295,
   "id": "4e7a53b1",
   "metadata": {},
   "outputs": [
    {
     "data": {
      "text/plain": [
       "[<selenium.webdriver.remote.webelement.WebElement (session=\"3310f05e5e67a61c18b25f5b3fcf470b\", element=\"65c1b5bc-e3ab-4204-98eb-560c33b13135\")>,\n",
       " <selenium.webdriver.remote.webelement.WebElement (session=\"3310f05e5e67a61c18b25f5b3fcf470b\", element=\"e4044150-8add-4e00-911e-c1b41c67b025\")>,\n",
       " <selenium.webdriver.remote.webelement.WebElement (session=\"3310f05e5e67a61c18b25f5b3fcf470b\", element=\"13075487-8a20-46fb-9c7d-2c31868d1bb3\")>,\n",
       " <selenium.webdriver.remote.webelement.WebElement (session=\"3310f05e5e67a61c18b25f5b3fcf470b\", element=\"a603a477-6094-4b31-8a94-5a51bba3d5f4\")>,\n",
       " <selenium.webdriver.remote.webelement.WebElement (session=\"3310f05e5e67a61c18b25f5b3fcf470b\", element=\"35725e96-b3a2-4895-bf36-51ee3f4184c3\")>,\n",
       " <selenium.webdriver.remote.webelement.WebElement (session=\"3310f05e5e67a61c18b25f5b3fcf470b\", element=\"40e4db73-8356-4adf-9e96-28bbf206a127\")>,\n",
       " <selenium.webdriver.remote.webelement.WebElement (session=\"3310f05e5e67a61c18b25f5b3fcf470b\", element=\"bc415ec0-bac9-475c-b617-fae957d4456b\")>,\n",
       " <selenium.webdriver.remote.webelement.WebElement (session=\"3310f05e5e67a61c18b25f5b3fcf470b\", element=\"642d7978-a491-40b1-9e86-58a590a0b3e0\")>,\n",
       " <selenium.webdriver.remote.webelement.WebElement (session=\"3310f05e5e67a61c18b25f5b3fcf470b\", element=\"1badd8de-a4ed-4dac-b8ae-a960f2dc321f\")>,\n",
       " <selenium.webdriver.remote.webelement.WebElement (session=\"3310f05e5e67a61c18b25f5b3fcf470b\", element=\"37db0e28-9838-436b-9e4f-6df69abf1948\")>,\n",
       " <selenium.webdriver.remote.webelement.WebElement (session=\"3310f05e5e67a61c18b25f5b3fcf470b\", element=\"9bdc1cff-16cb-4cfe-ad8c-5f7177d1955b\")>,\n",
       " <selenium.webdriver.remote.webelement.WebElement (session=\"3310f05e5e67a61c18b25f5b3fcf470b\", element=\"6614683b-7ebb-41ae-9ef6-5e672c33cf63\")>,\n",
       " <selenium.webdriver.remote.webelement.WebElement (session=\"3310f05e5e67a61c18b25f5b3fcf470b\", element=\"4d9c1a9d-ff2c-47d6-aaae-6b49b7cfcf2f\")>,\n",
       " <selenium.webdriver.remote.webelement.WebElement (session=\"3310f05e5e67a61c18b25f5b3fcf470b\", element=\"f5fce3f8-6116-481b-9240-b29c1561860a\")>,\n",
       " <selenium.webdriver.remote.webelement.WebElement (session=\"3310f05e5e67a61c18b25f5b3fcf470b\", element=\"aceafb32-9b2b-48a9-bf00-d55cecc8279d\")>,\n",
       " <selenium.webdriver.remote.webelement.WebElement (session=\"3310f05e5e67a61c18b25f5b3fcf470b\", element=\"e8a954af-586b-40d6-88f1-a689993c6232\")>,\n",
       " <selenium.webdriver.remote.webelement.WebElement (session=\"3310f05e5e67a61c18b25f5b3fcf470b\", element=\"6740defa-045c-4419-8c12-af69c8fc3b93\")>,\n",
       " <selenium.webdriver.remote.webelement.WebElement (session=\"3310f05e5e67a61c18b25f5b3fcf470b\", element=\"f06744f6-2e32-4d9d-87d8-7915c9783f14\")>,\n",
       " <selenium.webdriver.remote.webelement.WebElement (session=\"3310f05e5e67a61c18b25f5b3fcf470b\", element=\"5e10aa23-6d16-4d31-a478-ebb2ddf74383\")>,\n",
       " <selenium.webdriver.remote.webelement.WebElement (session=\"3310f05e5e67a61c18b25f5b3fcf470b\", element=\"9379203b-1b12-41af-b73a-46543aea0ef5\")>,\n",
       " <selenium.webdriver.remote.webelement.WebElement (session=\"3310f05e5e67a61c18b25f5b3fcf470b\", element=\"a6730608-fbb4-43e3-958b-49787483a0dd\")>,\n",
       " <selenium.webdriver.remote.webelement.WebElement (session=\"3310f05e5e67a61c18b25f5b3fcf470b\", element=\"9402205a-08fb-4dce-a36a-4c95c2e57c28\")>,\n",
       " <selenium.webdriver.remote.webelement.WebElement (session=\"3310f05e5e67a61c18b25f5b3fcf470b\", element=\"4430d05a-0ee5-467f-a678-50a5fd7b838c\")>,\n",
       " <selenium.webdriver.remote.webelement.WebElement (session=\"3310f05e5e67a61c18b25f5b3fcf470b\", element=\"b23c83d9-ae44-499e-9a78-3d3dcb4e7c06\")>,\n",
       " <selenium.webdriver.remote.webelement.WebElement (session=\"3310f05e5e67a61c18b25f5b3fcf470b\", element=\"f6723e5e-1af3-489f-9ca5-8fe4c3f39af2\")>]"
      ]
     },
     "execution_count": 295,
     "metadata": {},
     "output_type": "execute_result"
    }
   ],
   "source": [
    "loca=connect.find_elements_by_xpath('//li[@class=\"fleft grey-text br2 placeHolderLi location\"]/span')\n",
    "loca"
   ]
  },
  {
   "cell_type": "code",
   "execution_count": 296,
   "id": "ad6af0c7",
   "metadata": {},
   "outputs": [],
   "source": [
    "location=[]"
   ]
  },
  {
   "cell_type": "code",
   "execution_count": 297,
   "id": "4a657871",
   "metadata": {},
   "outputs": [],
   "source": [
    "for i in loca:\n",
    "    loca=i.text\n",
    "    location.append(loca)"
   ]
  },
  {
   "cell_type": "code",
   "execution_count": 298,
   "id": "172ead89",
   "metadata": {},
   "outputs": [
    {
     "data": {
      "text/plain": [
       "['Gurgaon/Gurugram, Bangalore/Bengaluru',\n",
       " '(WFH during Covid)',\n",
       " 'Bangalore/Bengaluru, Delhi / NCR, Mumbai (All Areas)',\n",
       " '(WFH during Covid)',\n",
       " 'Gurgaon/Gurugram, Bangalore/Bengaluru, Mumbai (All Areas)',\n",
       " 'Pune, Bangalore/Bengaluru, Delhi / NCR',\n",
       " '(WFH during Covid)',\n",
       " 'Bangalore/Bengaluru, Delhi / NCR, Mumbai (All Areas)',\n",
       " 'Bangalore/Bengaluru, Delhi / NCR, Mumbai (All Areas)',\n",
       " 'Noida, Gurgaon/Gurugram, Bangalore/Bengaluru, Delhi / NCR',\n",
       " '(WFH during Covid)',\n",
       " 'Gurgaon/Gurugram, Bangalore/Bengaluru, Mumbai (All Areas)',\n",
       " 'Gurgaon/Gurugram, Bangalore/Bengaluru',\n",
       " 'Pune, Gurgaon/Gurugram, Bangalore/Bengaluru',\n",
       " 'Mumbai, Delhi, Chennai, Bengaluru',\n",
       " 'Kochi/Cochin, Kolkata, Hyderabad/Secunderabad, Pune, Ahmedabad, Chennai, Bangalore/Bengaluru, Delhi / NCR, Mumbai (All Areas)',\n",
       " 'Noida, Bengaluru',\n",
       " 'Noida, Bangalore/Bengaluru',\n",
       " 'Pune, Bangalore/Bengaluru, Delhi / NCR',\n",
       " '(WFH during Covid)',\n",
       " 'Gurgaon, Bengaluru',\n",
       " 'Noida, Bangalore/Bengaluru',\n",
       " 'Mumbai, New Delhi, Bangalore/Bengaluru',\n",
       " 'Mumbai, Gurgaon/Gurugram, Bangalore/Bengaluru',\n",
       " 'Noida, Hyderabad/Secunderabad, Gurgaon/Gurugram, Bangalore/Bengaluru']"
      ]
     },
     "execution_count": 298,
     "metadata": {},
     "output_type": "execute_result"
    }
   ],
   "source": [
    "location"
   ]
  },
  {
   "cell_type": "code",
   "execution_count": 299,
   "id": "320957fc",
   "metadata": {},
   "outputs": [
    {
     "data": {
      "text/plain": [
       "[<selenium.webdriver.remote.webelement.WebElement (session=\"3310f05e5e67a61c18b25f5b3fcf470b\", element=\"a484a414-80c3-4f0c-a965-d0c420ac1d2b\")>,\n",
       " <selenium.webdriver.remote.webelement.WebElement (session=\"3310f05e5e67a61c18b25f5b3fcf470b\", element=\"8ca2f59a-dfb8-4953-a9a8-cf5d10719932\")>,\n",
       " <selenium.webdriver.remote.webelement.WebElement (session=\"3310f05e5e67a61c18b25f5b3fcf470b\", element=\"f04a2e1b-e578-44a2-929e-98bec135fe0a\")>,\n",
       " <selenium.webdriver.remote.webelement.WebElement (session=\"3310f05e5e67a61c18b25f5b3fcf470b\", element=\"7b6acff8-c883-427c-8462-22fec1b68d81\")>,\n",
       " <selenium.webdriver.remote.webelement.WebElement (session=\"3310f05e5e67a61c18b25f5b3fcf470b\", element=\"56118690-aa4e-46b4-84a3-c6ad21fa174c\")>,\n",
       " <selenium.webdriver.remote.webelement.WebElement (session=\"3310f05e5e67a61c18b25f5b3fcf470b\", element=\"95c114bc-3cc2-45b2-affa-2cc488c314fb\")>,\n",
       " <selenium.webdriver.remote.webelement.WebElement (session=\"3310f05e5e67a61c18b25f5b3fcf470b\", element=\"be66bbe5-5905-4955-ba65-5bf5deb72096\")>,\n",
       " <selenium.webdriver.remote.webelement.WebElement (session=\"3310f05e5e67a61c18b25f5b3fcf470b\", element=\"7a750543-8222-4e25-858e-98578652cc12\")>,\n",
       " <selenium.webdriver.remote.webelement.WebElement (session=\"3310f05e5e67a61c18b25f5b3fcf470b\", element=\"d16cf270-a494-4abb-9941-60d5300659de\")>,\n",
       " <selenium.webdriver.remote.webelement.WebElement (session=\"3310f05e5e67a61c18b25f5b3fcf470b\", element=\"13c3782e-d06d-4fa9-a2bd-83f7bdb533a2\")>,\n",
       " <selenium.webdriver.remote.webelement.WebElement (session=\"3310f05e5e67a61c18b25f5b3fcf470b\", element=\"d02d5111-0bf0-4baa-8a13-44f7e40fd45d\")>,\n",
       " <selenium.webdriver.remote.webelement.WebElement (session=\"3310f05e5e67a61c18b25f5b3fcf470b\", element=\"e964b469-675f-4aac-913d-d804fad624be\")>,\n",
       " <selenium.webdriver.remote.webelement.WebElement (session=\"3310f05e5e67a61c18b25f5b3fcf470b\", element=\"cfe889a1-46e5-441c-93a1-6929cf7391a1\")>,\n",
       " <selenium.webdriver.remote.webelement.WebElement (session=\"3310f05e5e67a61c18b25f5b3fcf470b\", element=\"f3099ee1-7d6b-4a49-ac17-d92213636bc1\")>,\n",
       " <selenium.webdriver.remote.webelement.WebElement (session=\"3310f05e5e67a61c18b25f5b3fcf470b\", element=\"8db060aa-d1c8-4d19-9d65-4707160a0e94\")>,\n",
       " <selenium.webdriver.remote.webelement.WebElement (session=\"3310f05e5e67a61c18b25f5b3fcf470b\", element=\"529e13da-5690-4885-a095-bd217ea8c666\")>,\n",
       " <selenium.webdriver.remote.webelement.WebElement (session=\"3310f05e5e67a61c18b25f5b3fcf470b\", element=\"fcb173a5-29cc-4cb5-8938-1f07256b998b\")>,\n",
       " <selenium.webdriver.remote.webelement.WebElement (session=\"3310f05e5e67a61c18b25f5b3fcf470b\", element=\"7c2965bb-efbe-4547-bf95-1049b8e1941e\")>,\n",
       " <selenium.webdriver.remote.webelement.WebElement (session=\"3310f05e5e67a61c18b25f5b3fcf470b\", element=\"cbcf9914-3ef0-4986-a54c-da8db168706f\")>,\n",
       " <selenium.webdriver.remote.webelement.WebElement (session=\"3310f05e5e67a61c18b25f5b3fcf470b\", element=\"cab2a0dc-0fcb-46a7-990a-9aecd70c600f\")>]"
      ]
     },
     "execution_count": 299,
     "metadata": {},
     "output_type": "execute_result"
    }
   ],
   "source": [
    "expr=connect.find_elements_by_xpath('//li[@class=\"fleft grey-text br2 placeHolderLi experience\"]/span')\n",
    "expr"
   ]
  },
  {
   "cell_type": "code",
   "execution_count": 300,
   "id": "3716d025",
   "metadata": {},
   "outputs": [],
   "source": [
    "exprience=[]"
   ]
  },
  {
   "cell_type": "code",
   "execution_count": 301,
   "id": "f7ed30fa",
   "metadata": {},
   "outputs": [],
   "source": [
    "for i in expr:\n",
    "    expr=i.text\n",
    "    exprience.append(expr)"
   ]
  },
  {
   "cell_type": "code",
   "execution_count": 302,
   "id": "700992c0",
   "metadata": {},
   "outputs": [
    {
     "data": {
      "text/plain": [
       "['3-8 Yrs',\n",
       " '4-9 Yrs',\n",
       " '5-9 Yrs',\n",
       " '2-6 Yrs',\n",
       " '10-18 Yrs',\n",
       " '10-18 Yrs',\n",
       " '3-8 Yrs',\n",
       " '3-7 Yrs',\n",
       " '1-6 Yrs',\n",
       " '12-18 Yrs',\n",
       " '6-10 Yrs',\n",
       " '0-2 Yrs',\n",
       " '2-4 Yrs',\n",
       " '3-8 Yrs',\n",
       " '2-5 Yrs',\n",
       " '4-6 Yrs',\n",
       " '3-8 Yrs',\n",
       " '3-7 Yrs',\n",
       " '3-7 Yrs',\n",
       " '2-4 Yrs']"
      ]
     },
     "execution_count": 302,
     "metadata": {},
     "output_type": "execute_result"
    }
   ],
   "source": [
    "exprience"
   ]
  },
  {
   "cell_type": "code",
   "execution_count": 303,
   "id": "f51d2420",
   "metadata": {},
   "outputs": [
    {
     "data": {
      "text/html": [
       "<div>\n",
       "<style scoped>\n",
       "    .dataframe tbody tr th:only-of-type {\n",
       "        vertical-align: middle;\n",
       "    }\n",
       "\n",
       "    .dataframe tbody tr th {\n",
       "        vertical-align: top;\n",
       "    }\n",
       "\n",
       "    .dataframe thead th {\n",
       "        text-align: right;\n",
       "    }\n",
       "</style>\n",
       "<table border=\"1\" class=\"dataframe\">\n",
       "  <thead>\n",
       "    <tr style=\"text-align: right;\">\n",
       "      <th></th>\n",
       "      <th>Job Titles</th>\n",
       "      <th>Company Name</th>\n",
       "      <th>Exprience Needed</th>\n",
       "      <th>Job Location</th>\n",
       "    </tr>\n",
       "  </thead>\n",
       "  <tbody>\n",
       "    <tr>\n",
       "      <th>0</th>\n",
       "      <td>NaN</td>\n",
       "      <td>Concentrix Daksh Services\\n4.1\\n(10264 Reviews)</td>\n",
       "      <td>3-8 Yrs</td>\n",
       "      <td>Gurgaon/Gurugram, Bangalore/Bengaluru</td>\n",
       "    </tr>\n",
       "    <tr>\n",
       "      <th>1</th>\n",
       "      <td>NaN</td>\n",
       "      <td>TransOrg Solutions Services (P) Ltd.</td>\n",
       "      <td>4-9 Yrs</td>\n",
       "      <td>(WFH during Covid)</td>\n",
       "    </tr>\n",
       "    <tr>\n",
       "      <th>2</th>\n",
       "      <td>NaN</td>\n",
       "      <td>SPOTALENT</td>\n",
       "      <td>5-9 Yrs</td>\n",
       "      <td>Bangalore/Bengaluru, Delhi / NCR, Mumbai (All ...</td>\n",
       "    </tr>\n",
       "    <tr>\n",
       "      <th>3</th>\n",
       "      <td>NaN</td>\n",
       "      <td>ThinkBumblebee Analytics Pvt. Ltd.\\n2.5\\n(9 Re...</td>\n",
       "      <td>2-6 Yrs</td>\n",
       "      <td>(WFH during Covid)</td>\n",
       "    </tr>\n",
       "    <tr>\n",
       "      <th>4</th>\n",
       "      <td>NaN</td>\n",
       "      <td>Placewell Consultants</td>\n",
       "      <td>10-18 Yrs</td>\n",
       "      <td>Gurgaon/Gurugram, Bangalore/Bengaluru, Mumbai ...</td>\n",
       "    </tr>\n",
       "    <tr>\n",
       "      <th>5</th>\n",
       "      <td>NaN</td>\n",
       "      <td>Placewell Consultants</td>\n",
       "      <td>10-18 Yrs</td>\n",
       "      <td>Pune, Bangalore/Bengaluru, Delhi / NCR</td>\n",
       "    </tr>\n",
       "    <tr>\n",
       "      <th>6</th>\n",
       "      <td>NaN</td>\n",
       "      <td>Emmess technologies private Limited</td>\n",
       "      <td>3-8 Yrs</td>\n",
       "      <td>(WFH during Covid)</td>\n",
       "    </tr>\n",
       "    <tr>\n",
       "      <th>7</th>\n",
       "      <td>NaN</td>\n",
       "      <td>Mount Talent Consulting Private Limited</td>\n",
       "      <td>3-7 Yrs</td>\n",
       "      <td>Bangalore/Bengaluru, Delhi / NCR, Mumbai (All ...</td>\n",
       "    </tr>\n",
       "    <tr>\n",
       "      <th>8</th>\n",
       "      <td>NaN</td>\n",
       "      <td>GREAT LAKES E-LEARNING SERVICES PRIVATE LIMITE...</td>\n",
       "      <td>1-6 Yrs</td>\n",
       "      <td>Bangalore/Bengaluru, Delhi / NCR, Mumbai (All ...</td>\n",
       "    </tr>\n",
       "    <tr>\n",
       "      <th>9</th>\n",
       "      <td>NaN</td>\n",
       "      <td>Axmiyan HR Solution Pvt Ltd</td>\n",
       "      <td>12-18 Yrs</td>\n",
       "      <td>Noida, Gurgaon/Gurugram, Bangalore/Bengaluru, ...</td>\n",
       "    </tr>\n",
       "  </tbody>\n",
       "</table>\n",
       "</div>"
      ],
      "text/plain": [
       "   Job Titles                                       Company Name  \\\n",
       "0         NaN    Concentrix Daksh Services\\n4.1\\n(10264 Reviews)   \n",
       "1         NaN               TransOrg Solutions Services (P) Ltd.   \n",
       "2         NaN                                          SPOTALENT   \n",
       "3         NaN  ThinkBumblebee Analytics Pvt. Ltd.\\n2.5\\n(9 Re...   \n",
       "4         NaN                              Placewell Consultants   \n",
       "5         NaN                              Placewell Consultants   \n",
       "6         NaN                Emmess technologies private Limited   \n",
       "7         NaN            Mount Talent Consulting Private Limited   \n",
       "8         NaN  GREAT LAKES E-LEARNING SERVICES PRIVATE LIMITE...   \n",
       "9         NaN                        Axmiyan HR Solution Pvt Ltd   \n",
       "\n",
       "  Exprience Needed                                       Job Location  \n",
       "0          3-8 Yrs              Gurgaon/Gurugram, Bangalore/Bengaluru  \n",
       "1          4-9 Yrs                                 (WFH during Covid)  \n",
       "2          5-9 Yrs  Bangalore/Bengaluru, Delhi / NCR, Mumbai (All ...  \n",
       "3          2-6 Yrs                                 (WFH during Covid)  \n",
       "4        10-18 Yrs  Gurgaon/Gurugram, Bangalore/Bengaluru, Mumbai ...  \n",
       "5        10-18 Yrs             Pune, Bangalore/Bengaluru, Delhi / NCR  \n",
       "6          3-8 Yrs                                 (WFH during Covid)  \n",
       "7          3-7 Yrs  Bangalore/Bengaluru, Delhi / NCR, Mumbai (All ...  \n",
       "8          1-6 Yrs  Bangalore/Bengaluru, Delhi / NCR, Mumbai (All ...  \n",
       "9        12-18 Yrs  Noida, Gurgaon/Gurugram, Bangalore/Bengaluru, ...  "
      ]
     },
     "execution_count": 303,
     "metadata": {},
     "output_type": "execute_result"
    }
   ],
   "source": [
    "data_scientist_jobs=pd.DataFrame({})\n",
    "data_scientist_jobs['Job Titles']=job_titles[0:10]\n",
    "data_scientist_jobs['Company Name']=organation[0:10]\n",
    "data_scientist_jobs['Exprience Needed']=exprience[0:10]\n",
    "data_scientist_jobs['Job Location']=location[0:10]\n",
    "data_scientist_jobs"
   ]
  },
  {
   "cell_type": "code",
   "execution_count": 308,
   "id": "b597f8b3",
   "metadata": {},
   "outputs": [],
   "source": [
    "connect.get('https://www.flipkart.com/')"
   ]
  },
  {
   "cell_type": "code",
   "execution_count": 310,
   "id": "35ba345b",
   "metadata": {},
   "outputs": [],
   "source": [
    "product=connect.find_element_by_xpath('//div[@class=\"_3OO5Xc\"]/input')\n",
    "product.send_keys('sunglasses')"
   ]
  },
  {
   "cell_type": "code",
   "execution_count": 311,
   "id": "1d1330c0",
   "metadata": {},
   "outputs": [],
   "source": [
    "button=connect.find_element_by_xpath('//button[@class=\"L0Z3Pu\"]')\n",
    "button.click()"
   ]
  },
  {
   "cell_type": "code",
   "execution_count": 312,
   "id": "9a39eed2",
   "metadata": {},
   "outputs": [
    {
     "data": {
      "text/plain": [
       "[<selenium.webdriver.remote.webelement.WebElement (session=\"3310f05e5e67a61c18b25f5b3fcf470b\", element=\"16cd903a-03de-4553-b5cf-5f7db13ad1f4\")>,\n",
       " <selenium.webdriver.remote.webelement.WebElement (session=\"3310f05e5e67a61c18b25f5b3fcf470b\", element=\"b0b4ba95-b91c-40d6-8943-bb32170a9ccd\")>,\n",
       " <selenium.webdriver.remote.webelement.WebElement (session=\"3310f05e5e67a61c18b25f5b3fcf470b\", element=\"0dbca96f-47d8-42cf-93e2-1f3b7c4ca134\")>,\n",
       " <selenium.webdriver.remote.webelement.WebElement (session=\"3310f05e5e67a61c18b25f5b3fcf470b\", element=\"02c7b14c-61bc-45c2-9d29-d7ecb3c038c1\")>,\n",
       " <selenium.webdriver.remote.webelement.WebElement (session=\"3310f05e5e67a61c18b25f5b3fcf470b\", element=\"1209aec2-4b82-4beb-acca-aa7451a734c0\")>,\n",
       " <selenium.webdriver.remote.webelement.WebElement (session=\"3310f05e5e67a61c18b25f5b3fcf470b\", element=\"8fd9c6c6-8927-48c7-98f7-2bc47bf927d1\")>,\n",
       " <selenium.webdriver.remote.webelement.WebElement (session=\"3310f05e5e67a61c18b25f5b3fcf470b\", element=\"0b64b9e6-b9ca-41ca-86ad-6ce6173def3b\")>,\n",
       " <selenium.webdriver.remote.webelement.WebElement (session=\"3310f05e5e67a61c18b25f5b3fcf470b\", element=\"9527deb1-b831-416e-bb41-6289eb4e5740\")>,\n",
       " <selenium.webdriver.remote.webelement.WebElement (session=\"3310f05e5e67a61c18b25f5b3fcf470b\", element=\"18c45fa3-e2b7-4ef2-ba83-ee11fb6e565d\")>,\n",
       " <selenium.webdriver.remote.webelement.WebElement (session=\"3310f05e5e67a61c18b25f5b3fcf470b\", element=\"66280beb-0bcf-4537-8010-851ad747e852\")>,\n",
       " <selenium.webdriver.remote.webelement.WebElement (session=\"3310f05e5e67a61c18b25f5b3fcf470b\", element=\"f75dcdd9-1d62-461c-a5ef-b29e5e7697d2\")>,\n",
       " <selenium.webdriver.remote.webelement.WebElement (session=\"3310f05e5e67a61c18b25f5b3fcf470b\", element=\"3fb0f026-daf8-4e9d-8bbd-e9309a6d4ac6\")>,\n",
       " <selenium.webdriver.remote.webelement.WebElement (session=\"3310f05e5e67a61c18b25f5b3fcf470b\", element=\"7917b97f-c676-405a-902b-52043ff4a318\")>,\n",
       " <selenium.webdriver.remote.webelement.WebElement (session=\"3310f05e5e67a61c18b25f5b3fcf470b\", element=\"c0b858b5-71ad-43e3-8700-044e8b763b98\")>,\n",
       " <selenium.webdriver.remote.webelement.WebElement (session=\"3310f05e5e67a61c18b25f5b3fcf470b\", element=\"9b3a4e34-7860-482c-b039-c6c4b64a3139\")>,\n",
       " <selenium.webdriver.remote.webelement.WebElement (session=\"3310f05e5e67a61c18b25f5b3fcf470b\", element=\"ffa01d6e-8331-46ce-ad35-8a8dd3bd82fb\")>,\n",
       " <selenium.webdriver.remote.webelement.WebElement (session=\"3310f05e5e67a61c18b25f5b3fcf470b\", element=\"07516f27-fa98-437d-baac-6160c7562e02\")>,\n",
       " <selenium.webdriver.remote.webelement.WebElement (session=\"3310f05e5e67a61c18b25f5b3fcf470b\", element=\"efb1d773-0ea9-4fe7-90b2-52956f007f7d\")>,\n",
       " <selenium.webdriver.remote.webelement.WebElement (session=\"3310f05e5e67a61c18b25f5b3fcf470b\", element=\"744e8ce9-fc9c-4c6f-8690-1f8d8b561b62\")>,\n",
       " <selenium.webdriver.remote.webelement.WebElement (session=\"3310f05e5e67a61c18b25f5b3fcf470b\", element=\"ae36c199-43ab-4acc-9d7d-baeb160d4df1\")>,\n",
       " <selenium.webdriver.remote.webelement.WebElement (session=\"3310f05e5e67a61c18b25f5b3fcf470b\", element=\"94a3d160-3f63-4106-bc83-a3161a37b3d5\")>,\n",
       " <selenium.webdriver.remote.webelement.WebElement (session=\"3310f05e5e67a61c18b25f5b3fcf470b\", element=\"7bdba76b-844a-4b0a-a91e-b116f0906964\")>,\n",
       " <selenium.webdriver.remote.webelement.WebElement (session=\"3310f05e5e67a61c18b25f5b3fcf470b\", element=\"59346c6c-49b3-40ed-8f5e-235af5b12811\")>,\n",
       " <selenium.webdriver.remote.webelement.WebElement (session=\"3310f05e5e67a61c18b25f5b3fcf470b\", element=\"4b11d11e-e871-499f-bf89-a5f8db844ab8\")>,\n",
       " <selenium.webdriver.remote.webelement.WebElement (session=\"3310f05e5e67a61c18b25f5b3fcf470b\", element=\"201f6b8a-a751-41f4-a10f-6b4ab1bc4510\")>,\n",
       " <selenium.webdriver.remote.webelement.WebElement (session=\"3310f05e5e67a61c18b25f5b3fcf470b\", element=\"5b16c02f-8b77-4f2e-8102-4efbf0790e6b\")>,\n",
       " <selenium.webdriver.remote.webelement.WebElement (session=\"3310f05e5e67a61c18b25f5b3fcf470b\", element=\"cb63b045-db0a-46a8-ac46-738750b0d386\")>,\n",
       " <selenium.webdriver.remote.webelement.WebElement (session=\"3310f05e5e67a61c18b25f5b3fcf470b\", element=\"e3776aea-edff-4bd2-9209-7c59aa25f68e\")>,\n",
       " <selenium.webdriver.remote.webelement.WebElement (session=\"3310f05e5e67a61c18b25f5b3fcf470b\", element=\"cbe9a796-101e-4d15-929b-db54fcdf140c\")>,\n",
       " <selenium.webdriver.remote.webelement.WebElement (session=\"3310f05e5e67a61c18b25f5b3fcf470b\", element=\"97a3f71d-b4cc-4b31-8cb1-c54d285a4bcf\")>,\n",
       " <selenium.webdriver.remote.webelement.WebElement (session=\"3310f05e5e67a61c18b25f5b3fcf470b\", element=\"79a5e01a-2562-4c81-ace7-be3450d600e6\")>,\n",
       " <selenium.webdriver.remote.webelement.WebElement (session=\"3310f05e5e67a61c18b25f5b3fcf470b\", element=\"71c5ef1a-6305-4696-a51d-e85c74aa51f3\")>,\n",
       " <selenium.webdriver.remote.webelement.WebElement (session=\"3310f05e5e67a61c18b25f5b3fcf470b\", element=\"d29ebf92-1cda-4aa2-a1d4-6fa6978cd393\")>,\n",
       " <selenium.webdriver.remote.webelement.WebElement (session=\"3310f05e5e67a61c18b25f5b3fcf470b\", element=\"7ddb7f3d-b75d-4e69-9ea4-04e28573ebaf\")>,\n",
       " <selenium.webdriver.remote.webelement.WebElement (session=\"3310f05e5e67a61c18b25f5b3fcf470b\", element=\"7a470011-8306-4f15-aad1-98b81c094a63\")>,\n",
       " <selenium.webdriver.remote.webelement.WebElement (session=\"3310f05e5e67a61c18b25f5b3fcf470b\", element=\"dc4697b9-6f73-47f8-891b-5f0cc369b655\")>,\n",
       " <selenium.webdriver.remote.webelement.WebElement (session=\"3310f05e5e67a61c18b25f5b3fcf470b\", element=\"0fa91321-f396-4edf-9bcb-e9b6d3a406eb\")>,\n",
       " <selenium.webdriver.remote.webelement.WebElement (session=\"3310f05e5e67a61c18b25f5b3fcf470b\", element=\"17f4a2b3-a483-49cb-8903-70b6b42ea819\")>,\n",
       " <selenium.webdriver.remote.webelement.WebElement (session=\"3310f05e5e67a61c18b25f5b3fcf470b\", element=\"66db802c-bb2b-4a85-84f9-8af60d2b7f3a\")>,\n",
       " <selenium.webdriver.remote.webelement.WebElement (session=\"3310f05e5e67a61c18b25f5b3fcf470b\", element=\"7e532074-841c-4cb4-8877-b060a0f3b74c\")>]"
      ]
     },
     "execution_count": 312,
     "metadata": {},
     "output_type": "execute_result"
    }
   ],
   "source": [
    "brand=connect.find_elements_by_xpath('//div[@class=\"_2WkVRV\"]')\n",
    "brand"
   ]
  },
  {
   "cell_type": "code",
   "execution_count": 314,
   "id": "c3f87cf0",
   "metadata": {},
   "outputs": [],
   "source": [
    "brand_name=[]"
   ]
  },
  {
   "cell_type": "code",
   "execution_count": 315,
   "id": "24896f97",
   "metadata": {},
   "outputs": [],
   "source": [
    "for i in brand:\n",
    "    brand=i.text\n",
    "    brand_name.append(brand)"
   ]
  },
  {
   "cell_type": "code",
   "execution_count": 316,
   "id": "4c5bb039",
   "metadata": {},
   "outputs": [
    {
     "data": {
      "text/plain": [
       "['SRPM',\n",
       " 'SUNBEE',\n",
       " 'Fastrack',\n",
       " 'VINCENT CHASE',\n",
       " 'Elligator',\n",
       " 'PIRASO',\n",
       " 'SHAAH COLLECTIONS',\n",
       " 'VINCENT CHASE',\n",
       " 'SHAAH COLLECTIONS',\n",
       " 'kingsunglasses',\n",
       " 'kingsunglasses',\n",
       " 'VINCENT CHASE',\n",
       " 'PIRASO',\n",
       " 'GANSTA',\n",
       " 'PHENOMENAL',\n",
       " 'VINCENT CHASE',\n",
       " 'hipe',\n",
       " 'Rich Club',\n",
       " 'New Specs',\n",
       " 'VINCENT CHASE',\n",
       " 'PIRASO',\n",
       " 'New Specs',\n",
       " 'ROZZETTA CRAFT',\n",
       " 'VINCENT CHASE',\n",
       " 'Fastrack',\n",
       " 'Elligator',\n",
       " 'NuVew',\n",
       " 'VINCENT CHASE',\n",
       " 'ROYAL SON',\n",
       " 'elegante',\n",
       " 'PHENOMENAL',\n",
       " 'VINCENT CHASE',\n",
       " 'hipe',\n",
       " 'Fastrack',\n",
       " 'HIPPON',\n",
       " 'ROYAL SON',\n",
       " 'kingsunglasses',\n",
       " 'SUNBEE',\n",
       " 'Elligator',\n",
       " 'VINCENT CHASE']"
      ]
     },
     "execution_count": 316,
     "metadata": {},
     "output_type": "execute_result"
    }
   ],
   "source": [
    "brand_name"
   ]
  },
  {
   "cell_type": "code",
   "execution_count": 317,
   "id": "0ec56ff1",
   "metadata": {},
   "outputs": [
    {
     "data": {
      "text/plain": [
       "[<selenium.webdriver.remote.webelement.WebElement (session=\"3310f05e5e67a61c18b25f5b3fcf470b\", element=\"21c045c1-d6af-44d6-8521-31d614e2712e\")>,\n",
       " <selenium.webdriver.remote.webelement.WebElement (session=\"3310f05e5e67a61c18b25f5b3fcf470b\", element=\"3a7491eb-93a8-4764-8cdf-0a149c764b95\")>,\n",
       " <selenium.webdriver.remote.webelement.WebElement (session=\"3310f05e5e67a61c18b25f5b3fcf470b\", element=\"16341eab-7999-4a63-a39d-e2b2fd32bb3b\")>,\n",
       " <selenium.webdriver.remote.webelement.WebElement (session=\"3310f05e5e67a61c18b25f5b3fcf470b\", element=\"6694efe2-5218-40e0-9610-f79f7d704fbc\")>,\n",
       " <selenium.webdriver.remote.webelement.WebElement (session=\"3310f05e5e67a61c18b25f5b3fcf470b\", element=\"243b3d87-5422-43c6-aea3-03fefaacc0af\")>,\n",
       " <selenium.webdriver.remote.webelement.WebElement (session=\"3310f05e5e67a61c18b25f5b3fcf470b\", element=\"bab4ab06-055e-43fa-baf2-341f84d8964b\")>,\n",
       " <selenium.webdriver.remote.webelement.WebElement (session=\"3310f05e5e67a61c18b25f5b3fcf470b\", element=\"73797cb6-300c-4d9a-91e7-b8b555acf2e7\")>,\n",
       " <selenium.webdriver.remote.webelement.WebElement (session=\"3310f05e5e67a61c18b25f5b3fcf470b\", element=\"640492bd-186e-4fc3-a0ab-fcd95c656ea7\")>,\n",
       " <selenium.webdriver.remote.webelement.WebElement (session=\"3310f05e5e67a61c18b25f5b3fcf470b\", element=\"851ba2df-1bce-40fd-858c-04376d2b7fa9\")>,\n",
       " <selenium.webdriver.remote.webelement.WebElement (session=\"3310f05e5e67a61c18b25f5b3fcf470b\", element=\"fd114089-be81-4d5b-b9bb-eaa2ea1ffada\")>,\n",
       " <selenium.webdriver.remote.webelement.WebElement (session=\"3310f05e5e67a61c18b25f5b3fcf470b\", element=\"003d10a8-aad8-4497-9466-00dcd04273f5\")>,\n",
       " <selenium.webdriver.remote.webelement.WebElement (session=\"3310f05e5e67a61c18b25f5b3fcf470b\", element=\"df46679e-a87f-4750-b3f7-566e77ee9858\")>,\n",
       " <selenium.webdriver.remote.webelement.WebElement (session=\"3310f05e5e67a61c18b25f5b3fcf470b\", element=\"dfc69816-9016-4bef-9ef9-d22c9da5200a\")>,\n",
       " <selenium.webdriver.remote.webelement.WebElement (session=\"3310f05e5e67a61c18b25f5b3fcf470b\", element=\"08a07140-8e7e-4efc-94d3-832f6b0e83b4\")>,\n",
       " <selenium.webdriver.remote.webelement.WebElement (session=\"3310f05e5e67a61c18b25f5b3fcf470b\", element=\"aedda530-1d52-4b74-8ed7-36b56b344ffa\")>,\n",
       " <selenium.webdriver.remote.webelement.WebElement (session=\"3310f05e5e67a61c18b25f5b3fcf470b\", element=\"884ebb40-c315-4e2d-8c01-d8cc09c2da00\")>,\n",
       " <selenium.webdriver.remote.webelement.WebElement (session=\"3310f05e5e67a61c18b25f5b3fcf470b\", element=\"ab1531aa-ccfa-476a-a522-cd3d228b80c1\")>,\n",
       " <selenium.webdriver.remote.webelement.WebElement (session=\"3310f05e5e67a61c18b25f5b3fcf470b\", element=\"deb8d2b5-35e5-41dc-89ea-1f4fc1c572ce\")>,\n",
       " <selenium.webdriver.remote.webelement.WebElement (session=\"3310f05e5e67a61c18b25f5b3fcf470b\", element=\"08b3a48a-b014-4339-b503-e5d83bf4455d\")>,\n",
       " <selenium.webdriver.remote.webelement.WebElement (session=\"3310f05e5e67a61c18b25f5b3fcf470b\", element=\"7d5d443c-badc-4289-8758-e970922d8827\")>,\n",
       " <selenium.webdriver.remote.webelement.WebElement (session=\"3310f05e5e67a61c18b25f5b3fcf470b\", element=\"e03b2e74-f888-48aa-a5c9-6d1db0d69155\")>,\n",
       " <selenium.webdriver.remote.webelement.WebElement (session=\"3310f05e5e67a61c18b25f5b3fcf470b\", element=\"7b5e6a06-2a6a-498c-ac35-6014568be611\")>,\n",
       " <selenium.webdriver.remote.webelement.WebElement (session=\"3310f05e5e67a61c18b25f5b3fcf470b\", element=\"b578ffb1-8293-492a-ad9d-c42dd2f2b036\")>,\n",
       " <selenium.webdriver.remote.webelement.WebElement (session=\"3310f05e5e67a61c18b25f5b3fcf470b\", element=\"e8dbeabe-4f68-492a-a7d9-19383f6636a1\")>,\n",
       " <selenium.webdriver.remote.webelement.WebElement (session=\"3310f05e5e67a61c18b25f5b3fcf470b\", element=\"fcf771ef-1ccf-41c7-b2c6-1685de964a30\")>,\n",
       " <selenium.webdriver.remote.webelement.WebElement (session=\"3310f05e5e67a61c18b25f5b3fcf470b\", element=\"9c931301-00bd-4340-93c6-021b5c0f4f2d\")>,\n",
       " <selenium.webdriver.remote.webelement.WebElement (session=\"3310f05e5e67a61c18b25f5b3fcf470b\", element=\"688a06c8-b5e9-4170-bbad-3e0501399738\")>,\n",
       " <selenium.webdriver.remote.webelement.WebElement (session=\"3310f05e5e67a61c18b25f5b3fcf470b\", element=\"6a07c2c1-4ae7-4d69-84b1-04e7a00a5539\")>,\n",
       " <selenium.webdriver.remote.webelement.WebElement (session=\"3310f05e5e67a61c18b25f5b3fcf470b\", element=\"630be2f8-e0ac-4088-9b1e-e4d241bcedd0\")>,\n",
       " <selenium.webdriver.remote.webelement.WebElement (session=\"3310f05e5e67a61c18b25f5b3fcf470b\", element=\"46ffef6a-ba4e-4532-9a9c-e0fb027080d4\")>,\n",
       " <selenium.webdriver.remote.webelement.WebElement (session=\"3310f05e5e67a61c18b25f5b3fcf470b\", element=\"5c6d179a-590c-45bf-8a9b-713d37ba7e8c\")>,\n",
       " <selenium.webdriver.remote.webelement.WebElement (session=\"3310f05e5e67a61c18b25f5b3fcf470b\", element=\"c2dcbbe6-6235-4059-92a7-85328aedfc6e\")>,\n",
       " <selenium.webdriver.remote.webelement.WebElement (session=\"3310f05e5e67a61c18b25f5b3fcf470b\", element=\"e1b8e792-1178-43f0-a7f3-9254babb9e7b\")>,\n",
       " <selenium.webdriver.remote.webelement.WebElement (session=\"3310f05e5e67a61c18b25f5b3fcf470b\", element=\"82e0d3fa-6adb-4448-a1b1-1bcaf794b3a4\")>,\n",
       " <selenium.webdriver.remote.webelement.WebElement (session=\"3310f05e5e67a61c18b25f5b3fcf470b\", element=\"957cd373-afbd-4689-a9cb-6b0a21b439ee\")>,\n",
       " <selenium.webdriver.remote.webelement.WebElement (session=\"3310f05e5e67a61c18b25f5b3fcf470b\", element=\"6a11fe52-9a65-431b-b6b4-652a6d2db29a\")>,\n",
       " <selenium.webdriver.remote.webelement.WebElement (session=\"3310f05e5e67a61c18b25f5b3fcf470b\", element=\"21c2846c-b162-4ddf-81f7-db6937078363\")>,\n",
       " <selenium.webdriver.remote.webelement.WebElement (session=\"3310f05e5e67a61c18b25f5b3fcf470b\", element=\"0692c81b-391b-456e-8a63-ec5359f19737\")>,\n",
       " <selenium.webdriver.remote.webelement.WebElement (session=\"3310f05e5e67a61c18b25f5b3fcf470b\", element=\"a21980e3-5135-492a-a2ff-6fff00c76631\")>,\n",
       " <selenium.webdriver.remote.webelement.WebElement (session=\"3310f05e5e67a61c18b25f5b3fcf470b\", element=\"e40715c8-14ea-42cd-902b-6f0777703f3b\")>]"
      ]
     },
     "execution_count": 317,
     "metadata": {},
     "output_type": "execute_result"
    }
   ],
   "source": [
    "product_description=connect.find_elements_by_xpath('//a[@class=\"IRpwTa\"]')\n",
    "product_description"
   ]
  },
  {
   "cell_type": "code",
   "execution_count": 318,
   "id": "4d1f636b",
   "metadata": {},
   "outputs": [
    {
     "data": {
      "text/plain": [
       "['UV Protection Wayfarer Sunglasses (56)',\n",
       " 'UV Protection, Polarized, Mirrored Round Sunglasses (Fr...',\n",
       " 'UV Protection Rectangular Sunglasses (Free Size)',\n",
       " 'by Lenskart Polarized, UV Protection Wayfarer Sunglasse...',\n",
       " 'UV Protection Round Sunglasses (54)',\n",
       " 'UV Protection Aviator Sunglasses (54)',\n",
       " 'UV Protection, Polarized, Mirrored Rectangular Sunglass...',\n",
       " 'Polarized, UV Protection Wayfarer Sunglasses (57)',\n",
       " 'UV Protection, Polarized, Mirrored Rectangular Sunglass...',\n",
       " 'UV Protection Round Sunglasses (54)',\n",
       " 'Mirrored, UV Protection Wayfarer Sunglasses (Free Size)',\n",
       " 'Polarized, UV Protection Wayfarer Sunglasses (Free Size...',\n",
       " 'UV Protection Aviator Sunglasses (54)',\n",
       " 'UV Protection Aviator Sunglasses (57)',\n",
       " 'UV Protection Retro Square Sunglasses (Free Size)',\n",
       " 'Polarized, UV Protection Wayfarer Sunglasses (53)',\n",
       " 'Mirrored, UV Protection, Gradient Round Sunglasses (55)',\n",
       " 'Polarized Round Sunglasses (48)',\n",
       " 'UV Protection Rectangular Sunglasses (Free Size)',\n",
       " 'Polarized, UV Protection Aviator Sunglasses (58)',\n",
       " 'UV Protection Aviator Sunglasses (54)',\n",
       " 'Mirrored, UV Protection, Riding Glasses, Others Round S...',\n",
       " 'UV Protection Retro Square Sunglasses (Free Size)',\n",
       " 'Polarized, UV Protection Wayfarer Sunglasses (57)',\n",
       " 'UV Protection Aviator Sunglasses (Free Size)',\n",
       " 'UV Protection Round Sunglasses (55)',\n",
       " 'UV Protection, Night Vision, Riding Glasses Sports Sung...',\n",
       " 'Polarized, UV Protection Aviator Sunglasses (58)',\n",
       " 'Mirrored Aviator Sunglasses (55)',\n",
       " 'Mirrored Round Sunglasses (Free Size)',\n",
       " 'UV Protection, Mirrored Retro Square Sunglasses (53)',\n",
       " 'Polarized, UV Protection Wayfarer Sunglasses (53)',\n",
       " 'UV Protection, Gradient, Mirrored, Riding Glasses Aviat...',\n",
       " 'Gradient, UV Protection Wayfarer Sunglasses (Free Size)',\n",
       " 'UV Protection Wayfarer Sunglasses (55)',\n",
       " 'UV Protection, Gradient Over-sized Sunglasses (56)',\n",
       " 'UV Protection Rectangular Sunglasses (55)',\n",
       " 'UV Protection, Polarized, Mirrored Wayfarer Sunglasses ...',\n",
       " 'UV Protection Aviator Sunglasses (55)',\n",
       " 'UV Protection Aviator Sunglasses (Free Size)']"
      ]
     },
     "execution_count": 318,
     "metadata": {},
     "output_type": "execute_result"
    }
   ],
   "source": [
    "description=[]\n",
    "for i in product_description:\n",
    "    product_description=i.text\n",
    "    description.append(product_description)\n",
    "description"
   ]
  },
  {
   "cell_type": "code",
   "execution_count": 319,
   "id": "92ee1961",
   "metadata": {},
   "outputs": [
    {
     "data": {
      "text/plain": [
       "[<selenium.webdriver.remote.webelement.WebElement (session=\"3310f05e5e67a61c18b25f5b3fcf470b\", element=\"2ebd1ba0-0bf7-4eb1-bade-60a8bd906485\")>,\n",
       " <selenium.webdriver.remote.webelement.WebElement (session=\"3310f05e5e67a61c18b25f5b3fcf470b\", element=\"48736a4f-b717-47e7-a65d-6e070b6695fb\")>,\n",
       " <selenium.webdriver.remote.webelement.WebElement (session=\"3310f05e5e67a61c18b25f5b3fcf470b\", element=\"0c48a2f5-4508-47d8-91a1-4db16701053d\")>,\n",
       " <selenium.webdriver.remote.webelement.WebElement (session=\"3310f05e5e67a61c18b25f5b3fcf470b\", element=\"1bd67025-e7d0-4b54-a37c-fbe63d460fdc\")>,\n",
       " <selenium.webdriver.remote.webelement.WebElement (session=\"3310f05e5e67a61c18b25f5b3fcf470b\", element=\"f937a282-2c0a-41b1-ab71-78a2be0ac8d2\")>,\n",
       " <selenium.webdriver.remote.webelement.WebElement (session=\"3310f05e5e67a61c18b25f5b3fcf470b\", element=\"d37788a0-99dc-40d8-941e-3e063b90866a\")>,\n",
       " <selenium.webdriver.remote.webelement.WebElement (session=\"3310f05e5e67a61c18b25f5b3fcf470b\", element=\"c4ad98d8-399c-44b6-99ab-c33b74ef1781\")>,\n",
       " <selenium.webdriver.remote.webelement.WebElement (session=\"3310f05e5e67a61c18b25f5b3fcf470b\", element=\"0ac0191d-0558-4ba7-823f-24f09be77531\")>,\n",
       " <selenium.webdriver.remote.webelement.WebElement (session=\"3310f05e5e67a61c18b25f5b3fcf470b\", element=\"26bf2dbb-8516-49ac-bbb0-9c663e3fa466\")>,\n",
       " <selenium.webdriver.remote.webelement.WebElement (session=\"3310f05e5e67a61c18b25f5b3fcf470b\", element=\"b852aafa-6b9e-43af-b306-c1f2ca7a18b8\")>,\n",
       " <selenium.webdriver.remote.webelement.WebElement (session=\"3310f05e5e67a61c18b25f5b3fcf470b\", element=\"5206fdbd-426d-4471-804a-db16e919eed7\")>,\n",
       " <selenium.webdriver.remote.webelement.WebElement (session=\"3310f05e5e67a61c18b25f5b3fcf470b\", element=\"10f23106-ccce-4fcc-80ed-78350b9c3f38\")>,\n",
       " <selenium.webdriver.remote.webelement.WebElement (session=\"3310f05e5e67a61c18b25f5b3fcf470b\", element=\"81f20edc-6d7d-43b7-8939-ebd822afc41f\")>,\n",
       " <selenium.webdriver.remote.webelement.WebElement (session=\"3310f05e5e67a61c18b25f5b3fcf470b\", element=\"7255687d-9ddb-4f25-aae6-43176d3a7ed0\")>,\n",
       " <selenium.webdriver.remote.webelement.WebElement (session=\"3310f05e5e67a61c18b25f5b3fcf470b\", element=\"96af0b7d-3b1a-424d-a404-f8f1e2444c76\")>,\n",
       " <selenium.webdriver.remote.webelement.WebElement (session=\"3310f05e5e67a61c18b25f5b3fcf470b\", element=\"6072a460-e561-4930-b32e-4649bee49e4a\")>,\n",
       " <selenium.webdriver.remote.webelement.WebElement (session=\"3310f05e5e67a61c18b25f5b3fcf470b\", element=\"c426318b-9d47-49a3-a180-231480c965a6\")>,\n",
       " <selenium.webdriver.remote.webelement.WebElement (session=\"3310f05e5e67a61c18b25f5b3fcf470b\", element=\"2faba772-1973-44b9-aa58-53820b911fef\")>,\n",
       " <selenium.webdriver.remote.webelement.WebElement (session=\"3310f05e5e67a61c18b25f5b3fcf470b\", element=\"164419f2-5b01-4110-9869-ea585edb8c68\")>,\n",
       " <selenium.webdriver.remote.webelement.WebElement (session=\"3310f05e5e67a61c18b25f5b3fcf470b\", element=\"8bf1bd74-d0cc-459b-9af0-b6a2a65f8027\")>,\n",
       " <selenium.webdriver.remote.webelement.WebElement (session=\"3310f05e5e67a61c18b25f5b3fcf470b\", element=\"ce561d77-53a8-41e8-b06c-47968be50907\")>,\n",
       " <selenium.webdriver.remote.webelement.WebElement (session=\"3310f05e5e67a61c18b25f5b3fcf470b\", element=\"eeaf8a00-8c17-4230-8939-53ac67c699b2\")>,\n",
       " <selenium.webdriver.remote.webelement.WebElement (session=\"3310f05e5e67a61c18b25f5b3fcf470b\", element=\"18ca56d7-490e-4b8b-ab73-bb0fc72b1ee7\")>,\n",
       " <selenium.webdriver.remote.webelement.WebElement (session=\"3310f05e5e67a61c18b25f5b3fcf470b\", element=\"43487bf5-9245-449d-b7ae-ec919fa071ad\")>,\n",
       " <selenium.webdriver.remote.webelement.WebElement (session=\"3310f05e5e67a61c18b25f5b3fcf470b\", element=\"7a2c147f-117f-4b88-a602-ec470796029d\")>,\n",
       " <selenium.webdriver.remote.webelement.WebElement (session=\"3310f05e5e67a61c18b25f5b3fcf470b\", element=\"db1d78ee-afd0-4df7-a926-ea142fd9e894\")>,\n",
       " <selenium.webdriver.remote.webelement.WebElement (session=\"3310f05e5e67a61c18b25f5b3fcf470b\", element=\"51a48f29-01c9-4def-bde3-86dc67c9ea61\")>,\n",
       " <selenium.webdriver.remote.webelement.WebElement (session=\"3310f05e5e67a61c18b25f5b3fcf470b\", element=\"e3555a36-dffc-488a-b8ce-132bc2c944a4\")>,\n",
       " <selenium.webdriver.remote.webelement.WebElement (session=\"3310f05e5e67a61c18b25f5b3fcf470b\", element=\"f323052e-b7ec-4046-9dac-a2db917ee8c1\")>,\n",
       " <selenium.webdriver.remote.webelement.WebElement (session=\"3310f05e5e67a61c18b25f5b3fcf470b\", element=\"421b2529-01d8-4b2f-9e07-7acf70b8365c\")>,\n",
       " <selenium.webdriver.remote.webelement.WebElement (session=\"3310f05e5e67a61c18b25f5b3fcf470b\", element=\"78f3440d-f73b-4217-b6d2-8d23f36c67aa\")>,\n",
       " <selenium.webdriver.remote.webelement.WebElement (session=\"3310f05e5e67a61c18b25f5b3fcf470b\", element=\"ea4b4401-b82f-46ec-b21a-018b38267121\")>,\n",
       " <selenium.webdriver.remote.webelement.WebElement (session=\"3310f05e5e67a61c18b25f5b3fcf470b\", element=\"d3ed701a-0150-4d0f-bfea-1d7c980639cf\")>,\n",
       " <selenium.webdriver.remote.webelement.WebElement (session=\"3310f05e5e67a61c18b25f5b3fcf470b\", element=\"c12a15ad-6247-4d5c-9028-e353917864aa\")>,\n",
       " <selenium.webdriver.remote.webelement.WebElement (session=\"3310f05e5e67a61c18b25f5b3fcf470b\", element=\"48c470ad-19ba-4cd9-b3e9-79ea67219c5f\")>,\n",
       " <selenium.webdriver.remote.webelement.WebElement (session=\"3310f05e5e67a61c18b25f5b3fcf470b\", element=\"14684857-deef-4ba1-b5b5-61f0cc86c3b6\")>,\n",
       " <selenium.webdriver.remote.webelement.WebElement (session=\"3310f05e5e67a61c18b25f5b3fcf470b\", element=\"6dae2c62-0bd7-41e7-9fdd-677cfd8a8978\")>,\n",
       " <selenium.webdriver.remote.webelement.WebElement (session=\"3310f05e5e67a61c18b25f5b3fcf470b\", element=\"44db8c45-b13f-4563-8578-73ef5f073516\")>,\n",
       " <selenium.webdriver.remote.webelement.WebElement (session=\"3310f05e5e67a61c18b25f5b3fcf470b\", element=\"cf4135d1-b663-4a75-bebb-0c70cf7959da\")>,\n",
       " <selenium.webdriver.remote.webelement.WebElement (session=\"3310f05e5e67a61c18b25f5b3fcf470b\", element=\"c18807df-df93-4cc4-ad62-b684830beb34\")>]"
      ]
     },
     "execution_count": 319,
     "metadata": {},
     "output_type": "execute_result"
    }
   ],
   "source": [
    "price=connect.find_elements_by_xpath('//div[@class=\"_30jeq3\"]')\n",
    "price"
   ]
  },
  {
   "cell_type": "code",
   "execution_count": 320,
   "id": "9db8e3fc",
   "metadata": {},
   "outputs": [
    {
     "data": {
      "text/plain": [
       "['₹188',\n",
       " '₹276',\n",
       " '₹639',\n",
       " '₹999',\n",
       " '₹248',\n",
       " '₹200',\n",
       " '₹177',\n",
       " '₹799',\n",
       " '₹189',\n",
       " '₹189',\n",
       " '₹259',\n",
       " '₹799',\n",
       " '₹187',\n",
       " '₹269',\n",
       " '₹329',\n",
       " '₹799',\n",
       " '₹189',\n",
       " '₹189',\n",
       " '₹259',\n",
       " '₹999',\n",
       " '₹187',\n",
       " '₹269',\n",
       " '₹499',\n",
       " '₹999',\n",
       " '₹689',\n",
       " '₹239',\n",
       " '₹270',\n",
       " '₹999',\n",
       " '₹359',\n",
       " '₹340',\n",
       " '₹311',\n",
       " '₹1,533',\n",
       " '₹209',\n",
       " '₹509',\n",
       " '₹231',\n",
       " '₹664',\n",
       " '₹259',\n",
       " '₹215',\n",
       " '₹294',\n",
       " '₹999']"
      ]
     },
     "execution_count": 320,
     "metadata": {},
     "output_type": "execute_result"
    }
   ],
   "source": [
    "cost=[]\n",
    "for i in price:\n",
    "    price=i.text\n",
    "    cost.append(price)\n",
    "cost"
   ]
  },
  {
   "cell_type": "code",
   "execution_count": 321,
   "id": "e6e7604f",
   "metadata": {},
   "outputs": [
    {
     "data": {
      "text/html": [
       "<div>\n",
       "<style scoped>\n",
       "    .dataframe tbody tr th:only-of-type {\n",
       "        vertical-align: middle;\n",
       "    }\n",
       "\n",
       "    .dataframe tbody tr th {\n",
       "        vertical-align: top;\n",
       "    }\n",
       "\n",
       "    .dataframe thead th {\n",
       "        text-align: right;\n",
       "    }\n",
       "</style>\n",
       "<table border=\"1\" class=\"dataframe\">\n",
       "  <thead>\n",
       "    <tr style=\"text-align: right;\">\n",
       "      <th></th>\n",
       "      <th>Brand Name</th>\n",
       "      <th>Product Description</th>\n",
       "      <th>Price</th>\n",
       "    </tr>\n",
       "  </thead>\n",
       "  <tbody>\n",
       "    <tr>\n",
       "      <th>0</th>\n",
       "      <td>SRPM</td>\n",
       "      <td>UV Protection Wayfarer Sunglasses (56)</td>\n",
       "      <td>₹188</td>\n",
       "    </tr>\n",
       "    <tr>\n",
       "      <th>1</th>\n",
       "      <td>SUNBEE</td>\n",
       "      <td>UV Protection, Polarized, Mirrored Round Sungl...</td>\n",
       "      <td>₹276</td>\n",
       "    </tr>\n",
       "    <tr>\n",
       "      <th>2</th>\n",
       "      <td>Fastrack</td>\n",
       "      <td>UV Protection Rectangular Sunglasses (Free Size)</td>\n",
       "      <td>₹639</td>\n",
       "    </tr>\n",
       "    <tr>\n",
       "      <th>3</th>\n",
       "      <td>VINCENT CHASE</td>\n",
       "      <td>by Lenskart Polarized, UV Protection Wayfarer ...</td>\n",
       "      <td>₹999</td>\n",
       "    </tr>\n",
       "    <tr>\n",
       "      <th>4</th>\n",
       "      <td>Elligator</td>\n",
       "      <td>UV Protection Round Sunglasses (54)</td>\n",
       "      <td>₹248</td>\n",
       "    </tr>\n",
       "    <tr>\n",
       "      <th>5</th>\n",
       "      <td>PIRASO</td>\n",
       "      <td>UV Protection Aviator Sunglasses (54)</td>\n",
       "      <td>₹200</td>\n",
       "    </tr>\n",
       "    <tr>\n",
       "      <th>6</th>\n",
       "      <td>SHAAH COLLECTIONS</td>\n",
       "      <td>UV Protection, Polarized, Mirrored Rectangular...</td>\n",
       "      <td>₹177</td>\n",
       "    </tr>\n",
       "    <tr>\n",
       "      <th>7</th>\n",
       "      <td>VINCENT CHASE</td>\n",
       "      <td>Polarized, UV Protection Wayfarer Sunglasses (57)</td>\n",
       "      <td>₹799</td>\n",
       "    </tr>\n",
       "    <tr>\n",
       "      <th>8</th>\n",
       "      <td>SHAAH COLLECTIONS</td>\n",
       "      <td>UV Protection, Polarized, Mirrored Rectangular...</td>\n",
       "      <td>₹189</td>\n",
       "    </tr>\n",
       "    <tr>\n",
       "      <th>9</th>\n",
       "      <td>kingsunglasses</td>\n",
       "      <td>UV Protection Round Sunglasses (54)</td>\n",
       "      <td>₹189</td>\n",
       "    </tr>\n",
       "    <tr>\n",
       "      <th>10</th>\n",
       "      <td>kingsunglasses</td>\n",
       "      <td>Mirrored, UV Protection Wayfarer Sunglasses (F...</td>\n",
       "      <td>₹259</td>\n",
       "    </tr>\n",
       "    <tr>\n",
       "      <th>11</th>\n",
       "      <td>VINCENT CHASE</td>\n",
       "      <td>Polarized, UV Protection Wayfarer Sunglasses (...</td>\n",
       "      <td>₹799</td>\n",
       "    </tr>\n",
       "    <tr>\n",
       "      <th>12</th>\n",
       "      <td>PIRASO</td>\n",
       "      <td>UV Protection Aviator Sunglasses (54)</td>\n",
       "      <td>₹187</td>\n",
       "    </tr>\n",
       "    <tr>\n",
       "      <th>13</th>\n",
       "      <td>GANSTA</td>\n",
       "      <td>UV Protection Aviator Sunglasses (57)</td>\n",
       "      <td>₹269</td>\n",
       "    </tr>\n",
       "    <tr>\n",
       "      <th>14</th>\n",
       "      <td>PHENOMENAL</td>\n",
       "      <td>UV Protection Retro Square Sunglasses (Free Size)</td>\n",
       "      <td>₹329</td>\n",
       "    </tr>\n",
       "    <tr>\n",
       "      <th>15</th>\n",
       "      <td>VINCENT CHASE</td>\n",
       "      <td>Polarized, UV Protection Wayfarer Sunglasses (53)</td>\n",
       "      <td>₹799</td>\n",
       "    </tr>\n",
       "    <tr>\n",
       "      <th>16</th>\n",
       "      <td>hipe</td>\n",
       "      <td>Mirrored, UV Protection, Gradient Round Sungla...</td>\n",
       "      <td>₹189</td>\n",
       "    </tr>\n",
       "    <tr>\n",
       "      <th>17</th>\n",
       "      <td>Rich Club</td>\n",
       "      <td>Polarized Round Sunglasses (48)</td>\n",
       "      <td>₹189</td>\n",
       "    </tr>\n",
       "    <tr>\n",
       "      <th>18</th>\n",
       "      <td>New Specs</td>\n",
       "      <td>UV Protection Rectangular Sunglasses (Free Size)</td>\n",
       "      <td>₹259</td>\n",
       "    </tr>\n",
       "    <tr>\n",
       "      <th>19</th>\n",
       "      <td>VINCENT CHASE</td>\n",
       "      <td>Polarized, UV Protection Aviator Sunglasses (58)</td>\n",
       "      <td>₹999</td>\n",
       "    </tr>\n",
       "    <tr>\n",
       "      <th>20</th>\n",
       "      <td>PIRASO</td>\n",
       "      <td>UV Protection Aviator Sunglasses (54)</td>\n",
       "      <td>₹187</td>\n",
       "    </tr>\n",
       "    <tr>\n",
       "      <th>21</th>\n",
       "      <td>New Specs</td>\n",
       "      <td>Mirrored, UV Protection, Riding Glasses, Other...</td>\n",
       "      <td>₹269</td>\n",
       "    </tr>\n",
       "    <tr>\n",
       "      <th>22</th>\n",
       "      <td>ROZZETTA CRAFT</td>\n",
       "      <td>UV Protection Retro Square Sunglasses (Free Size)</td>\n",
       "      <td>₹499</td>\n",
       "    </tr>\n",
       "    <tr>\n",
       "      <th>23</th>\n",
       "      <td>VINCENT CHASE</td>\n",
       "      <td>Polarized, UV Protection Wayfarer Sunglasses (57)</td>\n",
       "      <td>₹999</td>\n",
       "    </tr>\n",
       "    <tr>\n",
       "      <th>24</th>\n",
       "      <td>Fastrack</td>\n",
       "      <td>UV Protection Aviator Sunglasses (Free Size)</td>\n",
       "      <td>₹689</td>\n",
       "    </tr>\n",
       "    <tr>\n",
       "      <th>25</th>\n",
       "      <td>Elligator</td>\n",
       "      <td>UV Protection Round Sunglasses (55)</td>\n",
       "      <td>₹239</td>\n",
       "    </tr>\n",
       "    <tr>\n",
       "      <th>26</th>\n",
       "      <td>NuVew</td>\n",
       "      <td>UV Protection, Night Vision, Riding Glasses Sp...</td>\n",
       "      <td>₹270</td>\n",
       "    </tr>\n",
       "    <tr>\n",
       "      <th>27</th>\n",
       "      <td>VINCENT CHASE</td>\n",
       "      <td>Polarized, UV Protection Aviator Sunglasses (58)</td>\n",
       "      <td>₹999</td>\n",
       "    </tr>\n",
       "    <tr>\n",
       "      <th>28</th>\n",
       "      <td>ROYAL SON</td>\n",
       "      <td>Mirrored Aviator Sunglasses (55)</td>\n",
       "      <td>₹359</td>\n",
       "    </tr>\n",
       "    <tr>\n",
       "      <th>29</th>\n",
       "      <td>elegante</td>\n",
       "      <td>Mirrored Round Sunglasses (Free Size)</td>\n",
       "      <td>₹340</td>\n",
       "    </tr>\n",
       "    <tr>\n",
       "      <th>30</th>\n",
       "      <td>PHENOMENAL</td>\n",
       "      <td>UV Protection, Mirrored Retro Square Sunglasse...</td>\n",
       "      <td>₹311</td>\n",
       "    </tr>\n",
       "    <tr>\n",
       "      <th>31</th>\n",
       "      <td>VINCENT CHASE</td>\n",
       "      <td>Polarized, UV Protection Wayfarer Sunglasses (53)</td>\n",
       "      <td>₹1,533</td>\n",
       "    </tr>\n",
       "    <tr>\n",
       "      <th>32</th>\n",
       "      <td>hipe</td>\n",
       "      <td>UV Protection, Gradient, Mirrored, Riding Glas...</td>\n",
       "      <td>₹209</td>\n",
       "    </tr>\n",
       "    <tr>\n",
       "      <th>33</th>\n",
       "      <td>Fastrack</td>\n",
       "      <td>Gradient, UV Protection Wayfarer Sunglasses (F...</td>\n",
       "      <td>₹509</td>\n",
       "    </tr>\n",
       "    <tr>\n",
       "      <th>34</th>\n",
       "      <td>HIPPON</td>\n",
       "      <td>UV Protection Wayfarer Sunglasses (55)</td>\n",
       "      <td>₹231</td>\n",
       "    </tr>\n",
       "    <tr>\n",
       "      <th>35</th>\n",
       "      <td>ROYAL SON</td>\n",
       "      <td>UV Protection, Gradient Over-sized Sunglasses ...</td>\n",
       "      <td>₹664</td>\n",
       "    </tr>\n",
       "    <tr>\n",
       "      <th>36</th>\n",
       "      <td>kingsunglasses</td>\n",
       "      <td>UV Protection Rectangular Sunglasses (55)</td>\n",
       "      <td>₹259</td>\n",
       "    </tr>\n",
       "    <tr>\n",
       "      <th>37</th>\n",
       "      <td>SUNBEE</td>\n",
       "      <td>UV Protection, Polarized, Mirrored Wayfarer Su...</td>\n",
       "      <td>₹215</td>\n",
       "    </tr>\n",
       "    <tr>\n",
       "      <th>38</th>\n",
       "      <td>Elligator</td>\n",
       "      <td>UV Protection Aviator Sunglasses (55)</td>\n",
       "      <td>₹294</td>\n",
       "    </tr>\n",
       "    <tr>\n",
       "      <th>39</th>\n",
       "      <td>VINCENT CHASE</td>\n",
       "      <td>UV Protection Aviator Sunglasses (Free Size)</td>\n",
       "      <td>₹999</td>\n",
       "    </tr>\n",
       "  </tbody>\n",
       "</table>\n",
       "</div>"
      ],
      "text/plain": [
       "           Brand Name                                Product Description  \\\n",
       "0                SRPM             UV Protection Wayfarer Sunglasses (56)   \n",
       "1              SUNBEE  UV Protection, Polarized, Mirrored Round Sungl...   \n",
       "2            Fastrack   UV Protection Rectangular Sunglasses (Free Size)   \n",
       "3       VINCENT CHASE  by Lenskart Polarized, UV Protection Wayfarer ...   \n",
       "4           Elligator                UV Protection Round Sunglasses (54)   \n",
       "5              PIRASO              UV Protection Aviator Sunglasses (54)   \n",
       "6   SHAAH COLLECTIONS  UV Protection, Polarized, Mirrored Rectangular...   \n",
       "7       VINCENT CHASE  Polarized, UV Protection Wayfarer Sunglasses (57)   \n",
       "8   SHAAH COLLECTIONS  UV Protection, Polarized, Mirrored Rectangular...   \n",
       "9      kingsunglasses                UV Protection Round Sunglasses (54)   \n",
       "10     kingsunglasses  Mirrored, UV Protection Wayfarer Sunglasses (F...   \n",
       "11      VINCENT CHASE  Polarized, UV Protection Wayfarer Sunglasses (...   \n",
       "12             PIRASO              UV Protection Aviator Sunglasses (54)   \n",
       "13             GANSTA              UV Protection Aviator Sunglasses (57)   \n",
       "14         PHENOMENAL  UV Protection Retro Square Sunglasses (Free Size)   \n",
       "15      VINCENT CHASE  Polarized, UV Protection Wayfarer Sunglasses (53)   \n",
       "16               hipe  Mirrored, UV Protection, Gradient Round Sungla...   \n",
       "17          Rich Club                    Polarized Round Sunglasses (48)   \n",
       "18          New Specs   UV Protection Rectangular Sunglasses (Free Size)   \n",
       "19      VINCENT CHASE   Polarized, UV Protection Aviator Sunglasses (58)   \n",
       "20             PIRASO              UV Protection Aviator Sunglasses (54)   \n",
       "21          New Specs  Mirrored, UV Protection, Riding Glasses, Other...   \n",
       "22     ROZZETTA CRAFT  UV Protection Retro Square Sunglasses (Free Size)   \n",
       "23      VINCENT CHASE  Polarized, UV Protection Wayfarer Sunglasses (57)   \n",
       "24           Fastrack       UV Protection Aviator Sunglasses (Free Size)   \n",
       "25          Elligator                UV Protection Round Sunglasses (55)   \n",
       "26              NuVew  UV Protection, Night Vision, Riding Glasses Sp...   \n",
       "27      VINCENT CHASE   Polarized, UV Protection Aviator Sunglasses (58)   \n",
       "28          ROYAL SON                   Mirrored Aviator Sunglasses (55)   \n",
       "29           elegante              Mirrored Round Sunglasses (Free Size)   \n",
       "30         PHENOMENAL  UV Protection, Mirrored Retro Square Sunglasse...   \n",
       "31      VINCENT CHASE  Polarized, UV Protection Wayfarer Sunglasses (53)   \n",
       "32               hipe  UV Protection, Gradient, Mirrored, Riding Glas...   \n",
       "33           Fastrack  Gradient, UV Protection Wayfarer Sunglasses (F...   \n",
       "34             HIPPON             UV Protection Wayfarer Sunglasses (55)   \n",
       "35          ROYAL SON  UV Protection, Gradient Over-sized Sunglasses ...   \n",
       "36     kingsunglasses          UV Protection Rectangular Sunglasses (55)   \n",
       "37             SUNBEE  UV Protection, Polarized, Mirrored Wayfarer Su...   \n",
       "38          Elligator              UV Protection Aviator Sunglasses (55)   \n",
       "39      VINCENT CHASE       UV Protection Aviator Sunglasses (Free Size)   \n",
       "\n",
       "     Price  \n",
       "0     ₹188  \n",
       "1     ₹276  \n",
       "2     ₹639  \n",
       "3     ₹999  \n",
       "4     ₹248  \n",
       "5     ₹200  \n",
       "6     ₹177  \n",
       "7     ₹799  \n",
       "8     ₹189  \n",
       "9     ₹189  \n",
       "10    ₹259  \n",
       "11    ₹799  \n",
       "12    ₹187  \n",
       "13    ₹269  \n",
       "14    ₹329  \n",
       "15    ₹799  \n",
       "16    ₹189  \n",
       "17    ₹189  \n",
       "18    ₹259  \n",
       "19    ₹999  \n",
       "20    ₹187  \n",
       "21    ₹269  \n",
       "22    ₹499  \n",
       "23    ₹999  \n",
       "24    ₹689  \n",
       "25    ₹239  \n",
       "26    ₹270  \n",
       "27    ₹999  \n",
       "28    ₹359  \n",
       "29    ₹340  \n",
       "30    ₹311  \n",
       "31  ₹1,533  \n",
       "32    ₹209  \n",
       "33    ₹509  \n",
       "34    ₹231  \n",
       "35    ₹664  \n",
       "36    ₹259  \n",
       "37    ₹215  \n",
       "38    ₹294  \n",
       "39    ₹999  "
      ]
     },
     "execution_count": 321,
     "metadata": {},
     "output_type": "execute_result"
    }
   ],
   "source": [
    "sunglasses=pd.DataFrame({})\n",
    "sunglasses['Brand Name']=brand_name\n",
    "sunglasses['Product Description']=description\n",
    "sunglasses['Price']=cost\n",
    "sunglasses"
   ]
  },
  {
   "cell_type": "code",
   "execution_count": 322,
   "id": "0b8202de",
   "metadata": {},
   "outputs": [
    {
     "data": {
      "text/plain": [
       "[<selenium.webdriver.remote.webelement.WebElement (session=\"3310f05e5e67a61c18b25f5b3fcf470b\", element=\"bf79262e-206f-48a1-a8f5-7eae9874a472\")>,\n",
       " <selenium.webdriver.remote.webelement.WebElement (session=\"3310f05e5e67a61c18b25f5b3fcf470b\", element=\"57a7f003-14a0-4288-82a8-5d34a5c19d12\")>,\n",
       " <selenium.webdriver.remote.webelement.WebElement (session=\"3310f05e5e67a61c18b25f5b3fcf470b\", element=\"b26ad6c2-fdae-4a41-92e7-68757aebd35e\")>,\n",
       " <selenium.webdriver.remote.webelement.WebElement (session=\"3310f05e5e67a61c18b25f5b3fcf470b\", element=\"b0e9f91e-11d9-4267-9396-c6301bd77eda\")>,\n",
       " <selenium.webdriver.remote.webelement.WebElement (session=\"3310f05e5e67a61c18b25f5b3fcf470b\", element=\"e0345c15-6fa8-45ed-a43f-9026aa285b15\")>,\n",
       " <selenium.webdriver.remote.webelement.WebElement (session=\"3310f05e5e67a61c18b25f5b3fcf470b\", element=\"03e689e0-815f-4b9e-9a25-b2c6460fd469\")>,\n",
       " <selenium.webdriver.remote.webelement.WebElement (session=\"3310f05e5e67a61c18b25f5b3fcf470b\", element=\"a987a541-2f22-44f5-a848-7c6621f25566\")>,\n",
       " <selenium.webdriver.remote.webelement.WebElement (session=\"3310f05e5e67a61c18b25f5b3fcf470b\", element=\"59779735-2b8d-498c-975b-c8c380e2d50b\")>,\n",
       " <selenium.webdriver.remote.webelement.WebElement (session=\"3310f05e5e67a61c18b25f5b3fcf470b\", element=\"1e706e7f-d6f9-45b4-a3f0-e6df36abdaa1\")>]"
      ]
     },
     "execution_count": 322,
     "metadata": {},
     "output_type": "execute_result"
    }
   ],
   "source": [
    "filter_button=connect.find_elements_by_xpath('//a[@class=\"ge-49M\"]')\n",
    "filter_button"
   ]
  },
  {
   "cell_type": "code",
   "execution_count": 323,
   "id": "396a13ec",
   "metadata": {},
   "outputs": [],
   "source": [
    "for i in filter_button:\n",
    "    if i.text=='2':\n",
    "        i.click()\n",
    "        break"
   ]
  },
  {
   "cell_type": "code",
   "execution_count": 324,
   "id": "8723b796",
   "metadata": {},
   "outputs": [
    {
     "data": {
      "text/plain": [
       "[<selenium.webdriver.remote.webelement.WebElement (session=\"3310f05e5e67a61c18b25f5b3fcf470b\", element=\"f03fee2b-1dbc-429e-9503-03def65faa0e\")>,\n",
       " <selenium.webdriver.remote.webelement.WebElement (session=\"3310f05e5e67a61c18b25f5b3fcf470b\", element=\"a0109550-4643-44a8-b028-101bf307b32d\")>,\n",
       " <selenium.webdriver.remote.webelement.WebElement (session=\"3310f05e5e67a61c18b25f5b3fcf470b\", element=\"25d6df98-b466-4f66-9d8e-320cd206255f\")>,\n",
       " <selenium.webdriver.remote.webelement.WebElement (session=\"3310f05e5e67a61c18b25f5b3fcf470b\", element=\"3109d13d-1b8b-4499-93ee-612f712c6e97\")>,\n",
       " <selenium.webdriver.remote.webelement.WebElement (session=\"3310f05e5e67a61c18b25f5b3fcf470b\", element=\"0e19839e-5c07-4315-b733-555be9c3f4ab\")>,\n",
       " <selenium.webdriver.remote.webelement.WebElement (session=\"3310f05e5e67a61c18b25f5b3fcf470b\", element=\"a232ed46-0791-4b66-9039-2fffe8956d78\")>,\n",
       " <selenium.webdriver.remote.webelement.WebElement (session=\"3310f05e5e67a61c18b25f5b3fcf470b\", element=\"7be12db5-8709-43c1-a75f-9973ef3d2203\")>,\n",
       " <selenium.webdriver.remote.webelement.WebElement (session=\"3310f05e5e67a61c18b25f5b3fcf470b\", element=\"6d35187e-c093-48ab-914b-454d2deaa687\")>,\n",
       " <selenium.webdriver.remote.webelement.WebElement (session=\"3310f05e5e67a61c18b25f5b3fcf470b\", element=\"9a2621c8-9062-4df7-a0ef-d171d2d26bd1\")>,\n",
       " <selenium.webdriver.remote.webelement.WebElement (session=\"3310f05e5e67a61c18b25f5b3fcf470b\", element=\"9850a2f4-d748-4edc-872e-34ac4217452b\")>,\n",
       " <selenium.webdriver.remote.webelement.WebElement (session=\"3310f05e5e67a61c18b25f5b3fcf470b\", element=\"dfda383b-0432-4d11-97f9-11f25834a996\")>,\n",
       " <selenium.webdriver.remote.webelement.WebElement (session=\"3310f05e5e67a61c18b25f5b3fcf470b\", element=\"b4e940a3-76d3-4a4a-93c4-f2976612962b\")>,\n",
       " <selenium.webdriver.remote.webelement.WebElement (session=\"3310f05e5e67a61c18b25f5b3fcf470b\", element=\"0e83692b-4d33-44be-bc16-eb2d8e9aa1de\")>,\n",
       " <selenium.webdriver.remote.webelement.WebElement (session=\"3310f05e5e67a61c18b25f5b3fcf470b\", element=\"5c948bd1-d3ad-4394-ac83-db1c8fa10585\")>,\n",
       " <selenium.webdriver.remote.webelement.WebElement (session=\"3310f05e5e67a61c18b25f5b3fcf470b\", element=\"9f7cca85-a383-4809-8beb-c9a9b7369aaa\")>,\n",
       " <selenium.webdriver.remote.webelement.WebElement (session=\"3310f05e5e67a61c18b25f5b3fcf470b\", element=\"5150d9d6-b0ff-4a1a-ba82-d20b2918b144\")>,\n",
       " <selenium.webdriver.remote.webelement.WebElement (session=\"3310f05e5e67a61c18b25f5b3fcf470b\", element=\"a57c2c34-d06d-4f82-a10a-40f9b3e09f69\")>,\n",
       " <selenium.webdriver.remote.webelement.WebElement (session=\"3310f05e5e67a61c18b25f5b3fcf470b\", element=\"2d441bce-50d8-4c98-a159-1ab3bbf7eadc\")>,\n",
       " <selenium.webdriver.remote.webelement.WebElement (session=\"3310f05e5e67a61c18b25f5b3fcf470b\", element=\"26071763-dd70-4040-84d7-58cd4477d4e0\")>,\n",
       " <selenium.webdriver.remote.webelement.WebElement (session=\"3310f05e5e67a61c18b25f5b3fcf470b\", element=\"1dd1b6d7-8183-4d1d-9418-128850601dd3\")>,\n",
       " <selenium.webdriver.remote.webelement.WebElement (session=\"3310f05e5e67a61c18b25f5b3fcf470b\", element=\"b559e754-9233-405f-b6d8-7279b3e090c2\")>,\n",
       " <selenium.webdriver.remote.webelement.WebElement (session=\"3310f05e5e67a61c18b25f5b3fcf470b\", element=\"84db4319-927f-4587-bf5b-1f65c22458f4\")>,\n",
       " <selenium.webdriver.remote.webelement.WebElement (session=\"3310f05e5e67a61c18b25f5b3fcf470b\", element=\"30ea48bf-0850-4d89-ad4d-8e8c7f9caa8a\")>,\n",
       " <selenium.webdriver.remote.webelement.WebElement (session=\"3310f05e5e67a61c18b25f5b3fcf470b\", element=\"67fc7721-d9c4-42ca-b4f6-67a427a9a518\")>,\n",
       " <selenium.webdriver.remote.webelement.WebElement (session=\"3310f05e5e67a61c18b25f5b3fcf470b\", element=\"71312fbd-3835-4d14-9b3d-b3a1f85a4e67\")>,\n",
       " <selenium.webdriver.remote.webelement.WebElement (session=\"3310f05e5e67a61c18b25f5b3fcf470b\", element=\"6a5f9960-3cf2-4390-b77c-311272559917\")>,\n",
       " <selenium.webdriver.remote.webelement.WebElement (session=\"3310f05e5e67a61c18b25f5b3fcf470b\", element=\"2f13cc09-4cbd-4fef-86cd-bed6471e2664\")>,\n",
       " <selenium.webdriver.remote.webelement.WebElement (session=\"3310f05e5e67a61c18b25f5b3fcf470b\", element=\"b8499faa-d6b9-4ba6-9442-bda2f0d4f46e\")>,\n",
       " <selenium.webdriver.remote.webelement.WebElement (session=\"3310f05e5e67a61c18b25f5b3fcf470b\", element=\"dd52f157-cd77-4891-a73c-db508a3a2a4c\")>,\n",
       " <selenium.webdriver.remote.webelement.WebElement (session=\"3310f05e5e67a61c18b25f5b3fcf470b\", element=\"fd950924-9eef-41b4-937b-bc7621223c30\")>,\n",
       " <selenium.webdriver.remote.webelement.WebElement (session=\"3310f05e5e67a61c18b25f5b3fcf470b\", element=\"ecf62ae0-da09-4c6c-879d-a27f53cbb63f\")>,\n",
       " <selenium.webdriver.remote.webelement.WebElement (session=\"3310f05e5e67a61c18b25f5b3fcf470b\", element=\"8e236920-2b67-46b1-b608-1aa8b1af7ab4\")>,\n",
       " <selenium.webdriver.remote.webelement.WebElement (session=\"3310f05e5e67a61c18b25f5b3fcf470b\", element=\"e7e87954-b12f-4b92-8fb2-1afc88f66300\")>,\n",
       " <selenium.webdriver.remote.webelement.WebElement (session=\"3310f05e5e67a61c18b25f5b3fcf470b\", element=\"a9c5496d-541c-46d3-bc59-bfc074674ca3\")>,\n",
       " <selenium.webdriver.remote.webelement.WebElement (session=\"3310f05e5e67a61c18b25f5b3fcf470b\", element=\"a711bdb0-2231-49f6-b342-e1306ce13344\")>,\n",
       " <selenium.webdriver.remote.webelement.WebElement (session=\"3310f05e5e67a61c18b25f5b3fcf470b\", element=\"a457f6ec-65dc-449f-b6da-2603ba592111\")>,\n",
       " <selenium.webdriver.remote.webelement.WebElement (session=\"3310f05e5e67a61c18b25f5b3fcf470b\", element=\"1f355a3e-17eb-4e6a-b2fe-861b99ff001a\")>,\n",
       " <selenium.webdriver.remote.webelement.WebElement (session=\"3310f05e5e67a61c18b25f5b3fcf470b\", element=\"4b9d25a2-e04e-40b7-b31e-951161f58ce1\")>,\n",
       " <selenium.webdriver.remote.webelement.WebElement (session=\"3310f05e5e67a61c18b25f5b3fcf470b\", element=\"96f06dea-b6ba-409a-af15-99467f3472f6\")>,\n",
       " <selenium.webdriver.remote.webelement.WebElement (session=\"3310f05e5e67a61c18b25f5b3fcf470b\", element=\"74fd1fd4-f5f0-4856-9f44-e95fa4e502a9\")>]"
      ]
     },
     "execution_count": 324,
     "metadata": {},
     "output_type": "execute_result"
    }
   ],
   "source": [
    "product_descriptio=connect.find_elements_by_xpath('//a[@class=\"IRpwTa\"]')\n",
    "product_descriptio"
   ]
  },
  {
   "cell_type": "code",
   "execution_count": 325,
   "id": "f3ae74e3",
   "metadata": {},
   "outputs": [
    {
     "data": {
      "text/plain": [
       "['UV Protection Wayfarer Sunglasses (56)',\n",
       " 'UV Protection, Polarized, Mirrored Round Sunglasses (Fr...',\n",
       " 'UV Protection Rectangular Sunglasses (Free Size)',\n",
       " 'by Lenskart Polarized, UV Protection Wayfarer Sunglasse...',\n",
       " 'UV Protection Round Sunglasses (54)',\n",
       " 'UV Protection Aviator Sunglasses (54)',\n",
       " 'UV Protection, Polarized, Mirrored Rectangular Sunglass...',\n",
       " 'Polarized, UV Protection Wayfarer Sunglasses (57)',\n",
       " 'UV Protection, Polarized, Mirrored Rectangular Sunglass...',\n",
       " 'UV Protection Round Sunglasses (54)',\n",
       " 'Mirrored, UV Protection Wayfarer Sunglasses (Free Size)',\n",
       " 'Polarized, UV Protection Wayfarer Sunglasses (Free Size...',\n",
       " 'UV Protection Aviator Sunglasses (54)',\n",
       " 'UV Protection Aviator Sunglasses (57)',\n",
       " 'UV Protection Retro Square Sunglasses (Free Size)',\n",
       " 'Polarized, UV Protection Wayfarer Sunglasses (53)',\n",
       " 'Mirrored, UV Protection, Gradient Round Sunglasses (55)',\n",
       " 'Polarized Round Sunglasses (48)',\n",
       " 'UV Protection Rectangular Sunglasses (Free Size)',\n",
       " 'Polarized, UV Protection Aviator Sunglasses (58)',\n",
       " 'UV Protection Aviator Sunglasses (54)',\n",
       " 'Mirrored, UV Protection, Riding Glasses, Others Round S...',\n",
       " 'UV Protection Retro Square Sunglasses (Free Size)',\n",
       " 'Polarized, UV Protection Wayfarer Sunglasses (57)',\n",
       " 'UV Protection Aviator Sunglasses (Free Size)',\n",
       " 'UV Protection Round Sunglasses (55)',\n",
       " 'UV Protection, Night Vision, Riding Glasses Sports Sung...',\n",
       " 'Polarized, UV Protection Aviator Sunglasses (58)',\n",
       " 'Mirrored Aviator Sunglasses (55)',\n",
       " 'Mirrored Round Sunglasses (Free Size)',\n",
       " 'UV Protection, Mirrored Retro Square Sunglasses (53)',\n",
       " 'Polarized, UV Protection Wayfarer Sunglasses (53)',\n",
       " 'UV Protection, Gradient, Mirrored, Riding Glasses Aviat...',\n",
       " 'Gradient, UV Protection Wayfarer Sunglasses (Free Size)',\n",
       " 'UV Protection Wayfarer Sunglasses (55)',\n",
       " 'UV Protection, Gradient Over-sized Sunglasses (56)',\n",
       " 'UV Protection Rectangular Sunglasses (55)',\n",
       " 'UV Protection, Polarized, Mirrored Wayfarer Sunglasses ...',\n",
       " 'UV Protection Aviator Sunglasses (55)',\n",
       " 'UV Protection Aviator Sunglasses (Free Size)',\n",
       " 'UV Protection Wayfarer Sunglasses (Free Size)',\n",
       " 'UV Protection, Riding Glasses Wayfarer Sunglasses (53)',\n",
       " 'Riding Glasses, Night Vision Wrap-around Sunglasses (Fr...',\n",
       " 'UV Protection Retro Square Sunglasses (Free Size)',\n",
       " 'UV Protection Aviator Sunglasses (58)',\n",
       " 'UV Protection, Gradient Rectangular Sunglasses (Free Si...',\n",
       " 'UV Protection Wayfarer Sunglasses (Free Size)',\n",
       " 'UV Protection Round Sunglasses (Free Size)',\n",
       " 'UV Protection Rectangular Sunglasses (58)',\n",
       " 'Mirrored, UV Protection Wayfarer Sunglasses (Free Size)',\n",
       " 'UV Protection, Riding Glasses Rectangular, Retro Square...',\n",
       " 'UV Protection Wayfarer Sunglasses (57)',\n",
       " 'UV Protection, Mirrored Round Sunglasses (Free Size)',\n",
       " 'UV Protection, Night Vision, Riding Glasses, Gradient, ...',\n",
       " 'UV Protection, Mirrored Retro Square Sunglasses (Free S...',\n",
       " 'UV Protection, Polarized Aviator Sunglasses (32)',\n",
       " 'Gradient Aviator Sunglasses (55)',\n",
       " 'UV Protection, Mirrored Round Sunglasses (54)',\n",
       " 'UV Protection Aviator Sunglasses (54)',\n",
       " 'UV Protection Round Sunglasses (Free Size)',\n",
       " 'UV Protection, Riding Glasses Rectangular, Retro Square...',\n",
       " 'UV Protection Butterfly Sunglasses (65)',\n",
       " 'UV Protection, Polarized, Mirrored Round Sunglasses (Fr...',\n",
       " 'UV Protection Wayfarer Sunglasses (32)',\n",
       " 'UV Protection Round Sunglasses (50)',\n",
       " 'UV Protection Round Sunglasses (54)',\n",
       " 'Riding Glasses, UV Protection, Others Aviator Sunglasse...',\n",
       " 'UV Protection, Night Vision, Gradient, Mirrored Round, ...',\n",
       " 'Mirrored, UV Protection Wayfarer Sunglasses (53)',\n",
       " 'UV Protection, Mirrored Retro Square Sunglasses (53)',\n",
       " 'Polarized, UV Protection, Riding Glasses Wayfarer Sungl...',\n",
       " 'UV Protection, Night Vision, Riding Glasses Sports Sung...',\n",
       " 'UV Protection, Riding Glasses Rectangular, Retro Square...',\n",
       " 'Polarized Rectangular Sunglasses (65)',\n",
       " 'UV Protection Wayfarer Sunglasses (53)',\n",
       " 'Polarized Round Sunglasses (48)',\n",
       " 'UV Protection, Riding Glasses, Others Aviator, Wayfarer...',\n",
       " 'Mirrored Round Sunglasses (53)',\n",
       " 'UV Protection Rectangular Sunglasses (Free Size)',\n",
       " 'UV Protection, Gradient Retro Square Sunglasses (Free S...']"
      ]
     },
     "execution_count": 325,
     "metadata": {},
     "output_type": "execute_result"
    }
   ],
   "source": [
    "for i in product_descriptio:\n",
    "    product_descriptio=i.text\n",
    "    description.append(product_descriptio)\n",
    "description"
   ]
  },
  {
   "cell_type": "code",
   "execution_count": 326,
   "id": "ae5315c7",
   "metadata": {},
   "outputs": [
    {
     "data": {
      "text/plain": [
       "[<selenium.webdriver.remote.webelement.WebElement (session=\"3310f05e5e67a61c18b25f5b3fcf470b\", element=\"292cb734-3ab3-44df-b0b9-60c4c9728681\")>,\n",
       " <selenium.webdriver.remote.webelement.WebElement (session=\"3310f05e5e67a61c18b25f5b3fcf470b\", element=\"c362ce6c-c222-4fa6-952e-ad6ea972b004\")>,\n",
       " <selenium.webdriver.remote.webelement.WebElement (session=\"3310f05e5e67a61c18b25f5b3fcf470b\", element=\"43aa9a3f-478e-4c59-b88c-e8890390d779\")>,\n",
       " <selenium.webdriver.remote.webelement.WebElement (session=\"3310f05e5e67a61c18b25f5b3fcf470b\", element=\"5bd4039b-5ec1-4a3b-a28a-07bb21e882c7\")>,\n",
       " <selenium.webdriver.remote.webelement.WebElement (session=\"3310f05e5e67a61c18b25f5b3fcf470b\", element=\"6dddd997-5356-496c-aeb3-13183945b3ea\")>,\n",
       " <selenium.webdriver.remote.webelement.WebElement (session=\"3310f05e5e67a61c18b25f5b3fcf470b\", element=\"65e68435-4789-40d5-9214-621a445e2acb\")>,\n",
       " <selenium.webdriver.remote.webelement.WebElement (session=\"3310f05e5e67a61c18b25f5b3fcf470b\", element=\"96d1ca12-1375-45b2-a6dc-65214015b498\")>,\n",
       " <selenium.webdriver.remote.webelement.WebElement (session=\"3310f05e5e67a61c18b25f5b3fcf470b\", element=\"9799652c-c023-4acc-bb10-a656a1f87622\")>,\n",
       " <selenium.webdriver.remote.webelement.WebElement (session=\"3310f05e5e67a61c18b25f5b3fcf470b\", element=\"358fa801-5364-48a6-82d3-b51c60ce63ca\")>,\n",
       " <selenium.webdriver.remote.webelement.WebElement (session=\"3310f05e5e67a61c18b25f5b3fcf470b\", element=\"3ddf3312-40f3-4fcd-ae8b-794920ff77d2\")>,\n",
       " <selenium.webdriver.remote.webelement.WebElement (session=\"3310f05e5e67a61c18b25f5b3fcf470b\", element=\"93dd1fc7-a4dc-4861-a2fd-e5f936640ca6\")>,\n",
       " <selenium.webdriver.remote.webelement.WebElement (session=\"3310f05e5e67a61c18b25f5b3fcf470b\", element=\"44fc8305-df02-4dd2-a6b7-c7927db1219f\")>,\n",
       " <selenium.webdriver.remote.webelement.WebElement (session=\"3310f05e5e67a61c18b25f5b3fcf470b\", element=\"d0bb0eea-9449-428c-9deb-174b36bc7a93\")>,\n",
       " <selenium.webdriver.remote.webelement.WebElement (session=\"3310f05e5e67a61c18b25f5b3fcf470b\", element=\"740adec7-1362-47ee-a661-cc7b8c9ba7ac\")>,\n",
       " <selenium.webdriver.remote.webelement.WebElement (session=\"3310f05e5e67a61c18b25f5b3fcf470b\", element=\"e0c30fc5-1355-4f26-89df-35a065c5dc9e\")>,\n",
       " <selenium.webdriver.remote.webelement.WebElement (session=\"3310f05e5e67a61c18b25f5b3fcf470b\", element=\"ca3fb253-c20f-46ec-b7c5-4728d21be7a4\")>,\n",
       " <selenium.webdriver.remote.webelement.WebElement (session=\"3310f05e5e67a61c18b25f5b3fcf470b\", element=\"98af9530-ab3d-4b10-9457-434f7bd59b99\")>,\n",
       " <selenium.webdriver.remote.webelement.WebElement (session=\"3310f05e5e67a61c18b25f5b3fcf470b\", element=\"259c9694-d88a-4e28-b290-d389bc083226\")>,\n",
       " <selenium.webdriver.remote.webelement.WebElement (session=\"3310f05e5e67a61c18b25f5b3fcf470b\", element=\"3cbcfc66-1176-4662-9d10-82ccb330b0ff\")>,\n",
       " <selenium.webdriver.remote.webelement.WebElement (session=\"3310f05e5e67a61c18b25f5b3fcf470b\", element=\"d9e95a29-578f-4d34-97db-714d960234e3\")>,\n",
       " <selenium.webdriver.remote.webelement.WebElement (session=\"3310f05e5e67a61c18b25f5b3fcf470b\", element=\"71ddce3b-4a06-45e5-9c75-80b23108dd30\")>,\n",
       " <selenium.webdriver.remote.webelement.WebElement (session=\"3310f05e5e67a61c18b25f5b3fcf470b\", element=\"66f7d558-e338-4ba8-bc7b-07ded8542989\")>,\n",
       " <selenium.webdriver.remote.webelement.WebElement (session=\"3310f05e5e67a61c18b25f5b3fcf470b\", element=\"84719526-93ee-4469-8f23-1025f052d6ad\")>,\n",
       " <selenium.webdriver.remote.webelement.WebElement (session=\"3310f05e5e67a61c18b25f5b3fcf470b\", element=\"3486fef0-e815-400f-a5b9-19a34f519206\")>,\n",
       " <selenium.webdriver.remote.webelement.WebElement (session=\"3310f05e5e67a61c18b25f5b3fcf470b\", element=\"19498853-f576-4510-8643-90381ce40a2f\")>,\n",
       " <selenium.webdriver.remote.webelement.WebElement (session=\"3310f05e5e67a61c18b25f5b3fcf470b\", element=\"8d227cd1-9339-4b15-9361-d152031cc63b\")>,\n",
       " <selenium.webdriver.remote.webelement.WebElement (session=\"3310f05e5e67a61c18b25f5b3fcf470b\", element=\"cdcd9173-8ec6-4c07-a2f7-9524f5dafe00\")>,\n",
       " <selenium.webdriver.remote.webelement.WebElement (session=\"3310f05e5e67a61c18b25f5b3fcf470b\", element=\"88aa22f1-7e51-4346-8fd3-89f3cd7a6f84\")>,\n",
       " <selenium.webdriver.remote.webelement.WebElement (session=\"3310f05e5e67a61c18b25f5b3fcf470b\", element=\"39ced1ac-6c75-4af8-bc80-3e7761820b56\")>,\n",
       " <selenium.webdriver.remote.webelement.WebElement (session=\"3310f05e5e67a61c18b25f5b3fcf470b\", element=\"e4f5597b-f5d6-4bb4-b2f9-2f27f3ca4093\")>,\n",
       " <selenium.webdriver.remote.webelement.WebElement (session=\"3310f05e5e67a61c18b25f5b3fcf470b\", element=\"d8d111d2-22f2-4d1a-b3c3-1f2f8dc1820d\")>,\n",
       " <selenium.webdriver.remote.webelement.WebElement (session=\"3310f05e5e67a61c18b25f5b3fcf470b\", element=\"99be5d56-336d-441f-b838-81680517dd26\")>,\n",
       " <selenium.webdriver.remote.webelement.WebElement (session=\"3310f05e5e67a61c18b25f5b3fcf470b\", element=\"fd5e85b2-d216-4edb-bae2-70d0cfb12d5b\")>,\n",
       " <selenium.webdriver.remote.webelement.WebElement (session=\"3310f05e5e67a61c18b25f5b3fcf470b\", element=\"e0238a5d-af90-4892-9eb4-db6ad89abbad\")>,\n",
       " <selenium.webdriver.remote.webelement.WebElement (session=\"3310f05e5e67a61c18b25f5b3fcf470b\", element=\"97230736-4c44-4384-87c4-722542346960\")>,\n",
       " <selenium.webdriver.remote.webelement.WebElement (session=\"3310f05e5e67a61c18b25f5b3fcf470b\", element=\"6abab5d9-add9-487c-8112-78e283269a48\")>,\n",
       " <selenium.webdriver.remote.webelement.WebElement (session=\"3310f05e5e67a61c18b25f5b3fcf470b\", element=\"21a7f96c-d16a-4798-9702-cb7b54eda34f\")>,\n",
       " <selenium.webdriver.remote.webelement.WebElement (session=\"3310f05e5e67a61c18b25f5b3fcf470b\", element=\"d7d69fa3-56b6-4d4b-abbe-41b75ce54598\")>,\n",
       " <selenium.webdriver.remote.webelement.WebElement (session=\"3310f05e5e67a61c18b25f5b3fcf470b\", element=\"e3e67d9a-a9d5-433c-8dac-5a9e8f928e41\")>,\n",
       " <selenium.webdriver.remote.webelement.WebElement (session=\"3310f05e5e67a61c18b25f5b3fcf470b\", element=\"15f519d8-a9a2-486f-b031-a00f30b428f4\")>]"
      ]
     },
     "execution_count": 326,
     "metadata": {},
     "output_type": "execute_result"
    }
   ],
   "source": [
    "pric=connect.find_elements_by_xpath('//div[@class=\"_30jeq3\"]')\n",
    "pric"
   ]
  },
  {
   "cell_type": "code",
   "execution_count": 327,
   "id": "352a49ea",
   "metadata": {},
   "outputs": [
    {
     "data": {
      "text/plain": [
       "['₹188',\n",
       " '₹276',\n",
       " '₹639',\n",
       " '₹999',\n",
       " '₹248',\n",
       " '₹200',\n",
       " '₹177',\n",
       " '₹799',\n",
       " '₹189',\n",
       " '₹189',\n",
       " '₹259',\n",
       " '₹799',\n",
       " '₹187',\n",
       " '₹269',\n",
       " '₹329',\n",
       " '₹799',\n",
       " '₹189',\n",
       " '₹189',\n",
       " '₹259',\n",
       " '₹999',\n",
       " '₹187',\n",
       " '₹269',\n",
       " '₹499',\n",
       " '₹999',\n",
       " '₹689',\n",
       " '₹239',\n",
       " '₹270',\n",
       " '₹999',\n",
       " '₹359',\n",
       " '₹340',\n",
       " '₹311',\n",
       " '₹1,533',\n",
       " '₹209',\n",
       " '₹509',\n",
       " '₹231',\n",
       " '₹664',\n",
       " '₹259',\n",
       " '₹215',\n",
       " '₹294',\n",
       " '₹999',\n",
       " '₹759',\n",
       " '₹198',\n",
       " '₹276',\n",
       " '₹319',\n",
       " '₹299',\n",
       " '₹383',\n",
       " '₹246',\n",
       " '₹296',\n",
       " '₹449',\n",
       " '₹259',\n",
       " '₹318',\n",
       " '₹499',\n",
       " '₹249',\n",
       " '₹189',\n",
       " '₹329',\n",
       " '₹164',\n",
       " '₹196',\n",
       " '₹219',\n",
       " '₹250',\n",
       " '₹299',\n",
       " '₹276',\n",
       " '₹336',\n",
       " '₹276',\n",
       " '₹187',\n",
       " '₹359',\n",
       " '₹275',\n",
       " '₹252',\n",
       " '₹189',\n",
       " '₹299',\n",
       " '₹311',\n",
       " '₹249',\n",
       " '₹272',\n",
       " '₹332',\n",
       " '₹664',\n",
       " '₹220',\n",
       " '₹179',\n",
       " '₹229',\n",
       " '₹263',\n",
       " '₹449',\n",
       " '₹349']"
      ]
     },
     "execution_count": 327,
     "metadata": {},
     "output_type": "execute_result"
    }
   ],
   "source": [
    "for i in pric:\n",
    "    pric=i.text\n",
    "    cost.append(pric)\n",
    "cost"
   ]
  },
  {
   "cell_type": "code",
   "execution_count": 328,
   "id": "0926f4da",
   "metadata": {},
   "outputs": [
    {
     "data": {
      "text/plain": [
       "[<selenium.webdriver.remote.webelement.WebElement (session=\"3310f05e5e67a61c18b25f5b3fcf470b\", element=\"6cc48d13-a271-4474-ac7b-8cee2ac3862b\")>,\n",
       " <selenium.webdriver.remote.webelement.WebElement (session=\"3310f05e5e67a61c18b25f5b3fcf470b\", element=\"a31f8ecb-e6af-4108-bbcf-e67bfd5e4358\")>,\n",
       " <selenium.webdriver.remote.webelement.WebElement (session=\"3310f05e5e67a61c18b25f5b3fcf470b\", element=\"14fbdd84-41e8-4a07-bcd8-2178d6a4d43d\")>,\n",
       " <selenium.webdriver.remote.webelement.WebElement (session=\"3310f05e5e67a61c18b25f5b3fcf470b\", element=\"3bc6524f-8915-4a30-8f00-d896b7fd1dd5\")>,\n",
       " <selenium.webdriver.remote.webelement.WebElement (session=\"3310f05e5e67a61c18b25f5b3fcf470b\", element=\"ccc12ee7-2210-4e94-aaf1-fd1f8a69bc24\")>,\n",
       " <selenium.webdriver.remote.webelement.WebElement (session=\"3310f05e5e67a61c18b25f5b3fcf470b\", element=\"9ee86c9b-a497-4db9-a679-e00bbc0e00e4\")>,\n",
       " <selenium.webdriver.remote.webelement.WebElement (session=\"3310f05e5e67a61c18b25f5b3fcf470b\", element=\"e7c75eb6-2697-489d-9821-49ad2ae7deab\")>,\n",
       " <selenium.webdriver.remote.webelement.WebElement (session=\"3310f05e5e67a61c18b25f5b3fcf470b\", element=\"8e698fb3-4b48-4ec0-b062-8441b967091b\")>,\n",
       " <selenium.webdriver.remote.webelement.WebElement (session=\"3310f05e5e67a61c18b25f5b3fcf470b\", element=\"f20eea14-b587-4afc-83af-7a93fc817e1f\")>,\n",
       " <selenium.webdriver.remote.webelement.WebElement (session=\"3310f05e5e67a61c18b25f5b3fcf470b\", element=\"58f1604c-b971-44d5-a0eb-727eca710506\")>,\n",
       " <selenium.webdriver.remote.webelement.WebElement (session=\"3310f05e5e67a61c18b25f5b3fcf470b\", element=\"c7dd631e-93ba-4e0c-aa50-b221fb98bbdb\")>,\n",
       " <selenium.webdriver.remote.webelement.WebElement (session=\"3310f05e5e67a61c18b25f5b3fcf470b\", element=\"a4201fbb-b165-48ca-87ff-df2b9f4e360e\")>,\n",
       " <selenium.webdriver.remote.webelement.WebElement (session=\"3310f05e5e67a61c18b25f5b3fcf470b\", element=\"8e53b3c0-5d79-4572-8652-3b0929606ed3\")>,\n",
       " <selenium.webdriver.remote.webelement.WebElement (session=\"3310f05e5e67a61c18b25f5b3fcf470b\", element=\"8ffc255f-3721-4943-9509-1584f61044f6\")>,\n",
       " <selenium.webdriver.remote.webelement.WebElement (session=\"3310f05e5e67a61c18b25f5b3fcf470b\", element=\"171c311c-f4a4-4ede-a762-6afb59eed2ec\")>,\n",
       " <selenium.webdriver.remote.webelement.WebElement (session=\"3310f05e5e67a61c18b25f5b3fcf470b\", element=\"2c4abe7c-05c7-4689-a08f-051dad1f0fc8\")>,\n",
       " <selenium.webdriver.remote.webelement.WebElement (session=\"3310f05e5e67a61c18b25f5b3fcf470b\", element=\"469c3e65-6ddd-4d37-b327-e7953d65fd93\")>,\n",
       " <selenium.webdriver.remote.webelement.WebElement (session=\"3310f05e5e67a61c18b25f5b3fcf470b\", element=\"483871cf-80e4-4424-9723-3ac902f2585a\")>,\n",
       " <selenium.webdriver.remote.webelement.WebElement (session=\"3310f05e5e67a61c18b25f5b3fcf470b\", element=\"7f44a5a7-0781-478d-a030-1a21bd0b5508\")>,\n",
       " <selenium.webdriver.remote.webelement.WebElement (session=\"3310f05e5e67a61c18b25f5b3fcf470b\", element=\"3703cd22-66d4-4c67-a820-22599aef28f2\")>,\n",
       " <selenium.webdriver.remote.webelement.WebElement (session=\"3310f05e5e67a61c18b25f5b3fcf470b\", element=\"60cefb95-25ed-402d-9070-ba772fde3f37\")>,\n",
       " <selenium.webdriver.remote.webelement.WebElement (session=\"3310f05e5e67a61c18b25f5b3fcf470b\", element=\"e1ed58c4-6dd9-40d5-abff-cc02e2082263\")>,\n",
       " <selenium.webdriver.remote.webelement.WebElement (session=\"3310f05e5e67a61c18b25f5b3fcf470b\", element=\"cee26f2a-6858-4918-893a-90745322909a\")>,\n",
       " <selenium.webdriver.remote.webelement.WebElement (session=\"3310f05e5e67a61c18b25f5b3fcf470b\", element=\"f880424c-8e78-4d66-b059-01bfd1cc279d\")>,\n",
       " <selenium.webdriver.remote.webelement.WebElement (session=\"3310f05e5e67a61c18b25f5b3fcf470b\", element=\"a6a20eec-fda7-4801-b3dc-bb818bea7cda\")>,\n",
       " <selenium.webdriver.remote.webelement.WebElement (session=\"3310f05e5e67a61c18b25f5b3fcf470b\", element=\"b5b87c48-6d79-4cf6-ac5d-d0cc7bb7c6d6\")>,\n",
       " <selenium.webdriver.remote.webelement.WebElement (session=\"3310f05e5e67a61c18b25f5b3fcf470b\", element=\"809301f1-cb96-43aa-9fca-014cd8c8b219\")>,\n",
       " <selenium.webdriver.remote.webelement.WebElement (session=\"3310f05e5e67a61c18b25f5b3fcf470b\", element=\"fc612d11-393b-49f4-b4a6-a75ccc6738ae\")>,\n",
       " <selenium.webdriver.remote.webelement.WebElement (session=\"3310f05e5e67a61c18b25f5b3fcf470b\", element=\"248cbc83-0964-4f32-9c75-9b44cc1a17be\")>,\n",
       " <selenium.webdriver.remote.webelement.WebElement (session=\"3310f05e5e67a61c18b25f5b3fcf470b\", element=\"f73c2249-ebb0-4330-845c-0e4cd8a18512\")>,\n",
       " <selenium.webdriver.remote.webelement.WebElement (session=\"3310f05e5e67a61c18b25f5b3fcf470b\", element=\"52c72d7e-3fe7-4216-9e71-a4384d5221b9\")>,\n",
       " <selenium.webdriver.remote.webelement.WebElement (session=\"3310f05e5e67a61c18b25f5b3fcf470b\", element=\"5f0f8a55-c9bb-47b3-86ab-aa08df62582f\")>,\n",
       " <selenium.webdriver.remote.webelement.WebElement (session=\"3310f05e5e67a61c18b25f5b3fcf470b\", element=\"c02e8a4f-9dcc-4b32-a38d-bf6ff3cc0b53\")>,\n",
       " <selenium.webdriver.remote.webelement.WebElement (session=\"3310f05e5e67a61c18b25f5b3fcf470b\", element=\"8dc25438-65fa-4baf-8eb7-5a0a8dee3218\")>,\n",
       " <selenium.webdriver.remote.webelement.WebElement (session=\"3310f05e5e67a61c18b25f5b3fcf470b\", element=\"5c6ce73e-c9d8-4208-a359-1ea7f65fbed5\")>,\n",
       " <selenium.webdriver.remote.webelement.WebElement (session=\"3310f05e5e67a61c18b25f5b3fcf470b\", element=\"1a5a7dfd-16e6-44aa-8421-a26da948ef26\")>,\n",
       " <selenium.webdriver.remote.webelement.WebElement (session=\"3310f05e5e67a61c18b25f5b3fcf470b\", element=\"ab7e80d0-e3a9-4c3a-abf0-20d7862f227d\")>,\n",
       " <selenium.webdriver.remote.webelement.WebElement (session=\"3310f05e5e67a61c18b25f5b3fcf470b\", element=\"60b0be40-13e4-4847-a1bb-70804e292a00\")>,\n",
       " <selenium.webdriver.remote.webelement.WebElement (session=\"3310f05e5e67a61c18b25f5b3fcf470b\", element=\"a13fb314-aedc-4e37-a6cc-95f597e8b888\")>,\n",
       " <selenium.webdriver.remote.webelement.WebElement (session=\"3310f05e5e67a61c18b25f5b3fcf470b\", element=\"8aec011d-c94d-48e0-a580-6c765c14d410\")>]"
      ]
     },
     "execution_count": 328,
     "metadata": {},
     "output_type": "execute_result"
    }
   ],
   "source": [
    "bran=connect.find_elements_by_xpath('//div[@class=\"_2WkVRV\"]')\n",
    "bran"
   ]
  },
  {
   "cell_type": "code",
   "execution_count": 329,
   "id": "c89fee45",
   "metadata": {},
   "outputs": [],
   "source": [
    "for i in bran:\n",
    "    bran=i.text\n",
    "    brand_name.append(bran)"
   ]
  },
  {
   "cell_type": "code",
   "execution_count": 330,
   "id": "c86873f5",
   "metadata": {},
   "outputs": [
    {
     "data": {
      "text/html": [
       "<div>\n",
       "<style scoped>\n",
       "    .dataframe tbody tr th:only-of-type {\n",
       "        vertical-align: middle;\n",
       "    }\n",
       "\n",
       "    .dataframe tbody tr th {\n",
       "        vertical-align: top;\n",
       "    }\n",
       "\n",
       "    .dataframe thead th {\n",
       "        text-align: right;\n",
       "    }\n",
       "</style>\n",
       "<table border=\"1\" class=\"dataframe\">\n",
       "  <thead>\n",
       "    <tr style=\"text-align: right;\">\n",
       "      <th></th>\n",
       "      <th>Brand Name</th>\n",
       "      <th>Product Description</th>\n",
       "      <th>Price</th>\n",
       "    </tr>\n",
       "  </thead>\n",
       "  <tbody>\n",
       "    <tr>\n",
       "      <th>0</th>\n",
       "      <td>SRPM</td>\n",
       "      <td>UV Protection Wayfarer Sunglasses (56)</td>\n",
       "      <td>₹188</td>\n",
       "    </tr>\n",
       "    <tr>\n",
       "      <th>1</th>\n",
       "      <td>SUNBEE</td>\n",
       "      <td>UV Protection, Polarized, Mirrored Round Sungl...</td>\n",
       "      <td>₹276</td>\n",
       "    </tr>\n",
       "    <tr>\n",
       "      <th>2</th>\n",
       "      <td>Fastrack</td>\n",
       "      <td>UV Protection Rectangular Sunglasses (Free Size)</td>\n",
       "      <td>₹639</td>\n",
       "    </tr>\n",
       "    <tr>\n",
       "      <th>3</th>\n",
       "      <td>VINCENT CHASE</td>\n",
       "      <td>by Lenskart Polarized, UV Protection Wayfarer ...</td>\n",
       "      <td>₹999</td>\n",
       "    </tr>\n",
       "    <tr>\n",
       "      <th>4</th>\n",
       "      <td>Elligator</td>\n",
       "      <td>UV Protection Round Sunglasses (54)</td>\n",
       "      <td>₹248</td>\n",
       "    </tr>\n",
       "    <tr>\n",
       "      <th>...</th>\n",
       "      <td>...</td>\n",
       "      <td>...</td>\n",
       "      <td>...</td>\n",
       "    </tr>\n",
       "    <tr>\n",
       "      <th>75</th>\n",
       "      <td>Rich Club</td>\n",
       "      <td>Polarized Round Sunglasses (48)</td>\n",
       "      <td>₹179</td>\n",
       "    </tr>\n",
       "    <tr>\n",
       "      <th>76</th>\n",
       "      <td>Singco India</td>\n",
       "      <td>UV Protection, Riding Glasses, Others Aviator,...</td>\n",
       "      <td>₹229</td>\n",
       "    </tr>\n",
       "    <tr>\n",
       "      <th>77</th>\n",
       "      <td>Elligator</td>\n",
       "      <td>Mirrored Round Sunglasses (53)</td>\n",
       "      <td>₹263</td>\n",
       "    </tr>\n",
       "    <tr>\n",
       "      <th>78</th>\n",
       "      <td>ROYAL SON</td>\n",
       "      <td>UV Protection Rectangular Sunglasses (Free Size)</td>\n",
       "      <td>₹449</td>\n",
       "    </tr>\n",
       "    <tr>\n",
       "      <th>79</th>\n",
       "      <td>ROZZETTA CRAFT</td>\n",
       "      <td>UV Protection, Gradient Retro Square Sunglasse...</td>\n",
       "      <td>₹349</td>\n",
       "    </tr>\n",
       "  </tbody>\n",
       "</table>\n",
       "<p>80 rows × 3 columns</p>\n",
       "</div>"
      ],
      "text/plain": [
       "        Brand Name                                Product Description Price\n",
       "0             SRPM             UV Protection Wayfarer Sunglasses (56)  ₹188\n",
       "1           SUNBEE  UV Protection, Polarized, Mirrored Round Sungl...  ₹276\n",
       "2         Fastrack   UV Protection Rectangular Sunglasses (Free Size)  ₹639\n",
       "3    VINCENT CHASE  by Lenskart Polarized, UV Protection Wayfarer ...  ₹999\n",
       "4        Elligator                UV Protection Round Sunglasses (54)  ₹248\n",
       "..             ...                                                ...   ...\n",
       "75       Rich Club                    Polarized Round Sunglasses (48)  ₹179\n",
       "76    Singco India  UV Protection, Riding Glasses, Others Aviator,...  ₹229\n",
       "77       Elligator                     Mirrored Round Sunglasses (53)  ₹263\n",
       "78       ROYAL SON   UV Protection Rectangular Sunglasses (Free Size)  ₹449\n",
       "79  ROZZETTA CRAFT  UV Protection, Gradient Retro Square Sunglasse...  ₹349\n",
       "\n",
       "[80 rows x 3 columns]"
      ]
     },
     "execution_count": 330,
     "metadata": {},
     "output_type": "execute_result"
    }
   ],
   "source": [
    "sunglasses=pd.DataFrame({})\n",
    "sunglasses['Brand Name']=brand_name\n",
    "sunglasses['Product Description']=description\n",
    "sunglasses['Price']=cost\n",
    "sunglasses"
   ]
  },
  {
   "cell_type": "code",
   "execution_count": 331,
   "id": "e6bb68d0",
   "metadata": {},
   "outputs": [
    {
     "data": {
      "text/plain": [
       "[<selenium.webdriver.remote.webelement.WebElement (session=\"3310f05e5e67a61c18b25f5b3fcf470b\", element=\"9422279f-4916-419a-82bc-94d0c8716ff3\")>,\n",
       " <selenium.webdriver.remote.webelement.WebElement (session=\"3310f05e5e67a61c18b25f5b3fcf470b\", element=\"57a7f003-14a0-4288-82a8-5d34a5c19d12\")>,\n",
       " <selenium.webdriver.remote.webelement.WebElement (session=\"3310f05e5e67a61c18b25f5b3fcf470b\", element=\"b26ad6c2-fdae-4a41-92e7-68757aebd35e\")>,\n",
       " <selenium.webdriver.remote.webelement.WebElement (session=\"3310f05e5e67a61c18b25f5b3fcf470b\", element=\"b0e9f91e-11d9-4267-9396-c6301bd77eda\")>,\n",
       " <selenium.webdriver.remote.webelement.WebElement (session=\"3310f05e5e67a61c18b25f5b3fcf470b\", element=\"e0345c15-6fa8-45ed-a43f-9026aa285b15\")>,\n",
       " <selenium.webdriver.remote.webelement.WebElement (session=\"3310f05e5e67a61c18b25f5b3fcf470b\", element=\"03e689e0-815f-4b9e-9a25-b2c6460fd469\")>,\n",
       " <selenium.webdriver.remote.webelement.WebElement (session=\"3310f05e5e67a61c18b25f5b3fcf470b\", element=\"a987a541-2f22-44f5-a848-7c6621f25566\")>,\n",
       " <selenium.webdriver.remote.webelement.WebElement (session=\"3310f05e5e67a61c18b25f5b3fcf470b\", element=\"59779735-2b8d-498c-975b-c8c380e2d50b\")>,\n",
       " <selenium.webdriver.remote.webelement.WebElement (session=\"3310f05e5e67a61c18b25f5b3fcf470b\", element=\"1e706e7f-d6f9-45b4-a3f0-e6df36abdaa1\")>]"
      ]
     },
     "execution_count": 331,
     "metadata": {},
     "output_type": "execute_result"
    }
   ],
   "source": [
    "filter_button=connect.find_elements_by_xpath('//a[@class=\"ge-49M\"]')\n",
    "filter_button"
   ]
  },
  {
   "cell_type": "code",
   "execution_count": 332,
   "id": "dd527028",
   "metadata": {},
   "outputs": [],
   "source": [
    "for i in filter_button:\n",
    "    if i.text=='3':\n",
    "        i.click()\n",
    "        break"
   ]
  },
  {
   "cell_type": "code",
   "execution_count": 333,
   "id": "5ecdb9bb",
   "metadata": {},
   "outputs": [
    {
     "data": {
      "text/plain": [
       "[<selenium.webdriver.remote.webelement.WebElement (session=\"3310f05e5e67a61c18b25f5b3fcf470b\", element=\"35b04826-4eae-4739-8db6-8dc90058d779\")>,\n",
       " <selenium.webdriver.remote.webelement.WebElement (session=\"3310f05e5e67a61c18b25f5b3fcf470b\", element=\"3e38fab1-d595-45ed-8bd1-b07d443f0700\")>,\n",
       " <selenium.webdriver.remote.webelement.WebElement (session=\"3310f05e5e67a61c18b25f5b3fcf470b\", element=\"5fd1252e-4957-40a9-9220-329455661b3b\")>,\n",
       " <selenium.webdriver.remote.webelement.WebElement (session=\"3310f05e5e67a61c18b25f5b3fcf470b\", element=\"6a3a159c-8e60-4b44-8c45-abbf241f981c\")>,\n",
       " <selenium.webdriver.remote.webelement.WebElement (session=\"3310f05e5e67a61c18b25f5b3fcf470b\", element=\"f7d08c41-8805-459e-ba26-e3392f430813\")>,\n",
       " <selenium.webdriver.remote.webelement.WebElement (session=\"3310f05e5e67a61c18b25f5b3fcf470b\", element=\"d127b50e-6f4b-4f4b-b950-6bafd745eb09\")>,\n",
       " <selenium.webdriver.remote.webelement.WebElement (session=\"3310f05e5e67a61c18b25f5b3fcf470b\", element=\"9a13714c-00bf-4958-b24c-32aff661f50e\")>,\n",
       " <selenium.webdriver.remote.webelement.WebElement (session=\"3310f05e5e67a61c18b25f5b3fcf470b\", element=\"93fa922c-e75d-4eb7-9049-924eb42c1a0f\")>,\n",
       " <selenium.webdriver.remote.webelement.WebElement (session=\"3310f05e5e67a61c18b25f5b3fcf470b\", element=\"723006b2-d8b9-4667-8976-b1d5d487527f\")>,\n",
       " <selenium.webdriver.remote.webelement.WebElement (session=\"3310f05e5e67a61c18b25f5b3fcf470b\", element=\"b67f07d7-36c8-4694-9b56-be7906ff214b\")>,\n",
       " <selenium.webdriver.remote.webelement.WebElement (session=\"3310f05e5e67a61c18b25f5b3fcf470b\", element=\"c3221734-a392-400a-828b-d98cf881b344\")>,\n",
       " <selenium.webdriver.remote.webelement.WebElement (session=\"3310f05e5e67a61c18b25f5b3fcf470b\", element=\"69268227-ee50-435b-a29b-7ccbb71664ac\")>,\n",
       " <selenium.webdriver.remote.webelement.WebElement (session=\"3310f05e5e67a61c18b25f5b3fcf470b\", element=\"7cc379cb-a78b-49d8-aa10-e3dd3b50b837\")>,\n",
       " <selenium.webdriver.remote.webelement.WebElement (session=\"3310f05e5e67a61c18b25f5b3fcf470b\", element=\"26c24ab5-6a02-4c22-9ca2-358689d5e567\")>,\n",
       " <selenium.webdriver.remote.webelement.WebElement (session=\"3310f05e5e67a61c18b25f5b3fcf470b\", element=\"ef5694ee-1db8-4ef5-b69c-da5af811a132\")>,\n",
       " <selenium.webdriver.remote.webelement.WebElement (session=\"3310f05e5e67a61c18b25f5b3fcf470b\", element=\"0bca6f9c-c0e6-4b0d-8cbb-ff136b8bcc85\")>,\n",
       " <selenium.webdriver.remote.webelement.WebElement (session=\"3310f05e5e67a61c18b25f5b3fcf470b\", element=\"ee2c8420-c76b-46ce-bf42-5ea4e9ab3bad\")>,\n",
       " <selenium.webdriver.remote.webelement.WebElement (session=\"3310f05e5e67a61c18b25f5b3fcf470b\", element=\"7e62286b-83be-4e5c-ad66-2881fc4567da\")>,\n",
       " <selenium.webdriver.remote.webelement.WebElement (session=\"3310f05e5e67a61c18b25f5b3fcf470b\", element=\"56d25ff6-e7d9-4f37-a7f0-7bb494b0912c\")>,\n",
       " <selenium.webdriver.remote.webelement.WebElement (session=\"3310f05e5e67a61c18b25f5b3fcf470b\", element=\"d8e3df62-04e0-42f2-84c8-95b8d5db118c\")>,\n",
       " <selenium.webdriver.remote.webelement.WebElement (session=\"3310f05e5e67a61c18b25f5b3fcf470b\", element=\"3ed8ac1b-2ffd-42f2-a612-613f1c9c30af\")>,\n",
       " <selenium.webdriver.remote.webelement.WebElement (session=\"3310f05e5e67a61c18b25f5b3fcf470b\", element=\"ba3a9b78-5b4e-47cc-9187-2dc44ac0da24\")>,\n",
       " <selenium.webdriver.remote.webelement.WebElement (session=\"3310f05e5e67a61c18b25f5b3fcf470b\", element=\"2a6c085d-2854-4900-a8e2-b3d82f5be5e0\")>,\n",
       " <selenium.webdriver.remote.webelement.WebElement (session=\"3310f05e5e67a61c18b25f5b3fcf470b\", element=\"1bc91352-efb3-4e0d-8c1d-100d7fb2694c\")>,\n",
       " <selenium.webdriver.remote.webelement.WebElement (session=\"3310f05e5e67a61c18b25f5b3fcf470b\", element=\"2bd867aa-e962-4abf-97cb-aedf7b541212\")>,\n",
       " <selenium.webdriver.remote.webelement.WebElement (session=\"3310f05e5e67a61c18b25f5b3fcf470b\", element=\"f462a707-437a-4332-aa0e-21e448bd79e0\")>,\n",
       " <selenium.webdriver.remote.webelement.WebElement (session=\"3310f05e5e67a61c18b25f5b3fcf470b\", element=\"1ad84512-5984-4cd8-b0bd-1b7ebef64a4c\")>,\n",
       " <selenium.webdriver.remote.webelement.WebElement (session=\"3310f05e5e67a61c18b25f5b3fcf470b\", element=\"26a265db-b3b3-49bb-9d52-b83cd336142b\")>,\n",
       " <selenium.webdriver.remote.webelement.WebElement (session=\"3310f05e5e67a61c18b25f5b3fcf470b\", element=\"126bb153-ea10-48e4-b4a2-4e390b81c43d\")>,\n",
       " <selenium.webdriver.remote.webelement.WebElement (session=\"3310f05e5e67a61c18b25f5b3fcf470b\", element=\"fa071e08-8f67-4927-afc3-7d50b64f9b10\")>,\n",
       " <selenium.webdriver.remote.webelement.WebElement (session=\"3310f05e5e67a61c18b25f5b3fcf470b\", element=\"7360a538-6ebb-429b-ba10-fd79d23b7e7b\")>,\n",
       " <selenium.webdriver.remote.webelement.WebElement (session=\"3310f05e5e67a61c18b25f5b3fcf470b\", element=\"98751ab5-9bd1-4169-80b7-59ac142a6fb1\")>,\n",
       " <selenium.webdriver.remote.webelement.WebElement (session=\"3310f05e5e67a61c18b25f5b3fcf470b\", element=\"794939af-d8c2-4cca-9087-84690f8d5bcb\")>,\n",
       " <selenium.webdriver.remote.webelement.WebElement (session=\"3310f05e5e67a61c18b25f5b3fcf470b\", element=\"8ec6b49d-5e5c-4d90-af5e-d89fd66ea428\")>,\n",
       " <selenium.webdriver.remote.webelement.WebElement (session=\"3310f05e5e67a61c18b25f5b3fcf470b\", element=\"90344746-8415-4c88-8ad8-85f08b6b2fbe\")>,\n",
       " <selenium.webdriver.remote.webelement.WebElement (session=\"3310f05e5e67a61c18b25f5b3fcf470b\", element=\"6f9a4d9e-b330-4cf9-b228-620749d84849\")>,\n",
       " <selenium.webdriver.remote.webelement.WebElement (session=\"3310f05e5e67a61c18b25f5b3fcf470b\", element=\"c8801612-366a-4fa4-ab8d-9590e86d23b3\")>,\n",
       " <selenium.webdriver.remote.webelement.WebElement (session=\"3310f05e5e67a61c18b25f5b3fcf470b\", element=\"60ce2991-2b92-44f7-8ae6-1cca109651c4\")>,\n",
       " <selenium.webdriver.remote.webelement.WebElement (session=\"3310f05e5e67a61c18b25f5b3fcf470b\", element=\"0743a99a-912e-4a1d-b14f-f6192c229e05\")>,\n",
       " <selenium.webdriver.remote.webelement.WebElement (session=\"3310f05e5e67a61c18b25f5b3fcf470b\", element=\"0a0ab516-23ed-461c-9465-e7fe45bf828e\")>]"
      ]
     },
     "execution_count": 333,
     "metadata": {},
     "output_type": "execute_result"
    }
   ],
   "source": [
    "bra=connect.find_elements_by_xpath('//div[@class=\"_2WkVRV\"]')\n",
    "bra"
   ]
  },
  {
   "cell_type": "code",
   "execution_count": 334,
   "id": "3c4eabf8",
   "metadata": {},
   "outputs": [
    {
     "data": {
      "text/plain": [
       "['SRPM',\n",
       " 'SUNBEE',\n",
       " 'Fastrack',\n",
       " 'VINCENT CHASE',\n",
       " 'Elligator',\n",
       " 'PIRASO',\n",
       " 'SHAAH COLLECTIONS',\n",
       " 'VINCENT CHASE',\n",
       " 'SHAAH COLLECTIONS',\n",
       " 'kingsunglasses',\n",
       " 'kingsunglasses',\n",
       " 'VINCENT CHASE',\n",
       " 'PIRASO',\n",
       " 'GANSTA',\n",
       " 'PHENOMENAL',\n",
       " 'VINCENT CHASE',\n",
       " 'hipe',\n",
       " 'Rich Club',\n",
       " 'New Specs',\n",
       " 'VINCENT CHASE',\n",
       " 'PIRASO',\n",
       " 'New Specs',\n",
       " 'ROZZETTA CRAFT',\n",
       " 'VINCENT CHASE',\n",
       " 'Fastrack',\n",
       " 'Elligator',\n",
       " 'NuVew',\n",
       " 'VINCENT CHASE',\n",
       " 'ROYAL SON',\n",
       " 'elegante',\n",
       " 'PHENOMENAL',\n",
       " 'VINCENT CHASE',\n",
       " 'hipe',\n",
       " 'Fastrack',\n",
       " 'HIPPON',\n",
       " 'ROYAL SON',\n",
       " 'kingsunglasses',\n",
       " 'SUNBEE',\n",
       " 'Elligator',\n",
       " 'VINCENT CHASE',\n",
       " 'Fastrack',\n",
       " 'GANSTA',\n",
       " 'Lee Topper',\n",
       " 'povty',\n",
       " 'PIRASO',\n",
       " 'ROZZETTA CRAFT',\n",
       " 'Silver Kartz',\n",
       " 'SHAAH COLLECTIONS',\n",
       " 'ROYAL SON',\n",
       " 'kingsunglasses',\n",
       " 'Elligator',\n",
       " 'Fastrack',\n",
       " 'kingsunglasses',\n",
       " 'hipe',\n",
       " 'PHENOMENAL',\n",
       " 'PIRASO',\n",
       " 'agera',\n",
       " 'kingsunglasses',\n",
       " 'PIRASO',\n",
       " 'kingsunglasses',\n",
       " 'Elligator',\n",
       " 'PIRASO',\n",
       " 'SUNBEE',\n",
       " 'PIRASO',\n",
       " 'ROYAL SON',\n",
       " 'Elligator',\n",
       " 'Singco India',\n",
       " 'hipe',\n",
       " 'kingsunglasses',\n",
       " 'PHENOMENAL',\n",
       " 'DEIXELS',\n",
       " 'NuVew',\n",
       " 'Elligator',\n",
       " 'ROYAL SON',\n",
       " 'SRPM',\n",
       " 'Rich Club',\n",
       " 'Singco India',\n",
       " 'Elligator',\n",
       " 'ROYAL SON',\n",
       " 'ROZZETTA CRAFT',\n",
       " 'kingsunglasses',\n",
       " 'MAXX',\n",
       " 'GANSTA',\n",
       " 'VINCENT CHASE',\n",
       " 'Fravy',\n",
       " 'ROYAL SON',\n",
       " 'ABNER',\n",
       " 'GANSTA',\n",
       " 'ROYAL SON',\n",
       " 'Rich Club',\n",
       " 'kingsunglasses',\n",
       " 'Fastrack',\n",
       " 'PIRASO',\n",
       " 'PIRASO',\n",
       " 'kingsunglasses',\n",
       " 'PIRASO',\n",
       " 'ROYAL SON',\n",
       " 'PHENOMENAL',\n",
       " 'PHENOMENAL',\n",
       " 'GANSTA',\n",
       " 'ROYAL SON',\n",
       " 'hipe',\n",
       " 'Fastrack',\n",
       " 'GANSTA',\n",
       " 'DEIXELS',\n",
       " 'AISLIN',\n",
       " 'PIRASO',\n",
       " 'Lee Topper',\n",
       " 'kingsunglasses',\n",
       " 'Poloport',\n",
       " 'PIRASO',\n",
       " 'kingsunglasses',\n",
       " 'GANSTA',\n",
       " 'ROYAL SON',\n",
       " 'Silver Kartz',\n",
       " 'hipe',\n",
       " 'hipe',\n",
       " 'GANSTA',\n",
       " 'ROZZETTA CRAFT',\n",
       " 'ROZZETTA CRAFT']"
      ]
     },
     "execution_count": 334,
     "metadata": {},
     "output_type": "execute_result"
    }
   ],
   "source": [
    "for i in bra:\n",
    "    bra=i.text\n",
    "    brand_name.append(bra)\n",
    "brand_name"
   ]
  },
  {
   "cell_type": "code",
   "execution_count": 335,
   "id": "98f08517",
   "metadata": {},
   "outputs": [
    {
     "data": {
      "text/plain": [
       "[<selenium.webdriver.remote.webelement.WebElement (session=\"3310f05e5e67a61c18b25f5b3fcf470b\", element=\"d2983322-40bd-4777-a4ed-defdc97ab144\")>,\n",
       " <selenium.webdriver.remote.webelement.WebElement (session=\"3310f05e5e67a61c18b25f5b3fcf470b\", element=\"407368c2-2c2f-45b2-9847-af2615d7eea3\")>,\n",
       " <selenium.webdriver.remote.webelement.WebElement (session=\"3310f05e5e67a61c18b25f5b3fcf470b\", element=\"7392de87-1009-4b46-b0eb-360319a814fa\")>,\n",
       " <selenium.webdriver.remote.webelement.WebElement (session=\"3310f05e5e67a61c18b25f5b3fcf470b\", element=\"9928afb6-169e-4d4a-a173-0678e2abd490\")>,\n",
       " <selenium.webdriver.remote.webelement.WebElement (session=\"3310f05e5e67a61c18b25f5b3fcf470b\", element=\"7c9185b0-3326-43d1-9757-8e03c5070700\")>,\n",
       " <selenium.webdriver.remote.webelement.WebElement (session=\"3310f05e5e67a61c18b25f5b3fcf470b\", element=\"9ef969a8-b714-4121-aa64-654c386b3892\")>,\n",
       " <selenium.webdriver.remote.webelement.WebElement (session=\"3310f05e5e67a61c18b25f5b3fcf470b\", element=\"45987018-7bbb-4db1-8e0a-9c9d855c3cdf\")>,\n",
       " <selenium.webdriver.remote.webelement.WebElement (session=\"3310f05e5e67a61c18b25f5b3fcf470b\", element=\"ed19d7b7-1674-4944-8a48-d86bc0f60d5d\")>,\n",
       " <selenium.webdriver.remote.webelement.WebElement (session=\"3310f05e5e67a61c18b25f5b3fcf470b\", element=\"f5d8625b-abe6-42ec-bed5-85e7b82f8828\")>,\n",
       " <selenium.webdriver.remote.webelement.WebElement (session=\"3310f05e5e67a61c18b25f5b3fcf470b\", element=\"948f05ef-8d6f-491f-b527-92a0fac0d228\")>,\n",
       " <selenium.webdriver.remote.webelement.WebElement (session=\"3310f05e5e67a61c18b25f5b3fcf470b\", element=\"5913aafd-4ffd-48c0-aaf5-4e99b34e849c\")>,\n",
       " <selenium.webdriver.remote.webelement.WebElement (session=\"3310f05e5e67a61c18b25f5b3fcf470b\", element=\"efb79d5f-ace1-4313-8d91-8f2186b02158\")>,\n",
       " <selenium.webdriver.remote.webelement.WebElement (session=\"3310f05e5e67a61c18b25f5b3fcf470b\", element=\"ddfe6028-a963-464a-a9be-799ed11da6dc\")>,\n",
       " <selenium.webdriver.remote.webelement.WebElement (session=\"3310f05e5e67a61c18b25f5b3fcf470b\", element=\"1305a2b3-6060-45a7-81b4-d0326a8e325c\")>,\n",
       " <selenium.webdriver.remote.webelement.WebElement (session=\"3310f05e5e67a61c18b25f5b3fcf470b\", element=\"a08a60d0-d552-45aa-afdb-96f844e437c3\")>,\n",
       " <selenium.webdriver.remote.webelement.WebElement (session=\"3310f05e5e67a61c18b25f5b3fcf470b\", element=\"08a6462e-57dd-4b14-b4eb-4e29d32cc583\")>,\n",
       " <selenium.webdriver.remote.webelement.WebElement (session=\"3310f05e5e67a61c18b25f5b3fcf470b\", element=\"324858a1-0e73-41a5-b300-02ab64d4ed4d\")>,\n",
       " <selenium.webdriver.remote.webelement.WebElement (session=\"3310f05e5e67a61c18b25f5b3fcf470b\", element=\"35e903ff-b7e0-48b3-ba48-a52aa584ada1\")>,\n",
       " <selenium.webdriver.remote.webelement.WebElement (session=\"3310f05e5e67a61c18b25f5b3fcf470b\", element=\"0869c175-7aab-4343-97fe-83e04037d8d0\")>,\n",
       " <selenium.webdriver.remote.webelement.WebElement (session=\"3310f05e5e67a61c18b25f5b3fcf470b\", element=\"71db8cc1-f597-4dc7-b77c-0703b83d47d7\")>,\n",
       " <selenium.webdriver.remote.webelement.WebElement (session=\"3310f05e5e67a61c18b25f5b3fcf470b\", element=\"14c5441f-10e3-4b83-9ca0-199459450aa9\")>,\n",
       " <selenium.webdriver.remote.webelement.WebElement (session=\"3310f05e5e67a61c18b25f5b3fcf470b\", element=\"56f3259f-8533-4538-ba40-c99d9b95dbeb\")>,\n",
       " <selenium.webdriver.remote.webelement.WebElement (session=\"3310f05e5e67a61c18b25f5b3fcf470b\", element=\"fe3bd382-037c-4a3b-b35f-f65455e2c573\")>,\n",
       " <selenium.webdriver.remote.webelement.WebElement (session=\"3310f05e5e67a61c18b25f5b3fcf470b\", element=\"69458760-44c8-455c-8433-31c6680a1dcf\")>,\n",
       " <selenium.webdriver.remote.webelement.WebElement (session=\"3310f05e5e67a61c18b25f5b3fcf470b\", element=\"567b2fe6-340e-4daf-8f76-a2e3602c2a8f\")>,\n",
       " <selenium.webdriver.remote.webelement.WebElement (session=\"3310f05e5e67a61c18b25f5b3fcf470b\", element=\"d10dfe3f-0f61-416d-8ffe-31c46a06db0a\")>,\n",
       " <selenium.webdriver.remote.webelement.WebElement (session=\"3310f05e5e67a61c18b25f5b3fcf470b\", element=\"064bfc59-b42f-4e19-aa74-9c3edb11c8ac\")>,\n",
       " <selenium.webdriver.remote.webelement.WebElement (session=\"3310f05e5e67a61c18b25f5b3fcf470b\", element=\"e6b86071-5677-4966-bc6c-b4468e83c3b4\")>,\n",
       " <selenium.webdriver.remote.webelement.WebElement (session=\"3310f05e5e67a61c18b25f5b3fcf470b\", element=\"96d133f3-3b6d-4ebd-83bf-6f8e810807ec\")>,\n",
       " <selenium.webdriver.remote.webelement.WebElement (session=\"3310f05e5e67a61c18b25f5b3fcf470b\", element=\"f79fb492-3e60-4f83-8fef-e8e6d6264754\")>,\n",
       " <selenium.webdriver.remote.webelement.WebElement (session=\"3310f05e5e67a61c18b25f5b3fcf470b\", element=\"06c393b3-55e2-4062-a10f-4366bbe655ae\")>,\n",
       " <selenium.webdriver.remote.webelement.WebElement (session=\"3310f05e5e67a61c18b25f5b3fcf470b\", element=\"c4972fd4-3622-43ea-a430-80b5de7f4d60\")>,\n",
       " <selenium.webdriver.remote.webelement.WebElement (session=\"3310f05e5e67a61c18b25f5b3fcf470b\", element=\"adb4d9f1-bce8-410c-a05f-b6ec28e74f28\")>,\n",
       " <selenium.webdriver.remote.webelement.WebElement (session=\"3310f05e5e67a61c18b25f5b3fcf470b\", element=\"7b4e3a19-7364-439d-bb6f-12bf6549cbf3\")>,\n",
       " <selenium.webdriver.remote.webelement.WebElement (session=\"3310f05e5e67a61c18b25f5b3fcf470b\", element=\"432d636a-aedf-4cd9-85bc-649e65d8102d\")>,\n",
       " <selenium.webdriver.remote.webelement.WebElement (session=\"3310f05e5e67a61c18b25f5b3fcf470b\", element=\"fac1ebb8-bb4e-4ab1-b7cf-ec7a96846c7f\")>,\n",
       " <selenium.webdriver.remote.webelement.WebElement (session=\"3310f05e5e67a61c18b25f5b3fcf470b\", element=\"c4f2c434-dfae-4b88-946f-421dda6cc8ab\")>,\n",
       " <selenium.webdriver.remote.webelement.WebElement (session=\"3310f05e5e67a61c18b25f5b3fcf470b\", element=\"1e175463-24f1-43a5-98da-6cd668d5770b\")>,\n",
       " <selenium.webdriver.remote.webelement.WebElement (session=\"3310f05e5e67a61c18b25f5b3fcf470b\", element=\"a233ac38-bf1b-4fe8-94ff-fab6801e5ca5\")>,\n",
       " <selenium.webdriver.remote.webelement.WebElement (session=\"3310f05e5e67a61c18b25f5b3fcf470b\", element=\"3ddd1bb1-d07e-4e43-9f70-a6e25ec34d39\")>]"
      ]
     },
     "execution_count": 335,
     "metadata": {},
     "output_type": "execute_result"
    }
   ],
   "source": [
    "product_descripti=connect.find_elements_by_xpath('//a[@class=\"IRpwTa\"]')\n",
    "product_descripti"
   ]
  },
  {
   "cell_type": "code",
   "execution_count": 336,
   "id": "902b6a55",
   "metadata": {},
   "outputs": [
    {
     "data": {
      "text/plain": [
       "['UV Protection Wayfarer Sunglasses (56)',\n",
       " 'UV Protection, Polarized, Mirrored Round Sunglasses (Fr...',\n",
       " 'UV Protection Rectangular Sunglasses (Free Size)',\n",
       " 'by Lenskart Polarized, UV Protection Wayfarer Sunglasse...',\n",
       " 'UV Protection Round Sunglasses (54)',\n",
       " 'UV Protection Aviator Sunglasses (54)',\n",
       " 'UV Protection, Polarized, Mirrored Rectangular Sunglass...',\n",
       " 'Polarized, UV Protection Wayfarer Sunglasses (57)',\n",
       " 'UV Protection, Polarized, Mirrored Rectangular Sunglass...',\n",
       " 'UV Protection Round Sunglasses (54)',\n",
       " 'Mirrored, UV Protection Wayfarer Sunglasses (Free Size)',\n",
       " 'Polarized, UV Protection Wayfarer Sunglasses (Free Size...',\n",
       " 'UV Protection Aviator Sunglasses (54)',\n",
       " 'UV Protection Aviator Sunglasses (57)',\n",
       " 'UV Protection Retro Square Sunglasses (Free Size)',\n",
       " 'Polarized, UV Protection Wayfarer Sunglasses (53)',\n",
       " 'Mirrored, UV Protection, Gradient Round Sunglasses (55)',\n",
       " 'Polarized Round Sunglasses (48)',\n",
       " 'UV Protection Rectangular Sunglasses (Free Size)',\n",
       " 'Polarized, UV Protection Aviator Sunglasses (58)',\n",
       " 'UV Protection Aviator Sunglasses (54)',\n",
       " 'Mirrored, UV Protection, Riding Glasses, Others Round S...',\n",
       " 'UV Protection Retro Square Sunglasses (Free Size)',\n",
       " 'Polarized, UV Protection Wayfarer Sunglasses (57)',\n",
       " 'UV Protection Aviator Sunglasses (Free Size)',\n",
       " 'UV Protection Round Sunglasses (55)',\n",
       " 'UV Protection, Night Vision, Riding Glasses Sports Sung...',\n",
       " 'Polarized, UV Protection Aviator Sunglasses (58)',\n",
       " 'Mirrored Aviator Sunglasses (55)',\n",
       " 'Mirrored Round Sunglasses (Free Size)',\n",
       " 'UV Protection, Mirrored Retro Square Sunglasses (53)',\n",
       " 'Polarized, UV Protection Wayfarer Sunglasses (53)',\n",
       " 'UV Protection, Gradient, Mirrored, Riding Glasses Aviat...',\n",
       " 'Gradient, UV Protection Wayfarer Sunglasses (Free Size)',\n",
       " 'UV Protection Wayfarer Sunglasses (55)',\n",
       " 'UV Protection, Gradient Over-sized Sunglasses (56)',\n",
       " 'UV Protection Rectangular Sunglasses (55)',\n",
       " 'UV Protection, Polarized, Mirrored Wayfarer Sunglasses ...',\n",
       " 'UV Protection Aviator Sunglasses (55)',\n",
       " 'UV Protection Aviator Sunglasses (Free Size)',\n",
       " 'UV Protection Wayfarer Sunglasses (Free Size)',\n",
       " 'UV Protection, Riding Glasses Wayfarer Sunglasses (53)',\n",
       " 'Riding Glasses, Night Vision Wrap-around Sunglasses (Fr...',\n",
       " 'UV Protection Retro Square Sunglasses (Free Size)',\n",
       " 'UV Protection Aviator Sunglasses (58)',\n",
       " 'UV Protection, Gradient Rectangular Sunglasses (Free Si...',\n",
       " 'UV Protection Wayfarer Sunglasses (Free Size)',\n",
       " 'UV Protection Round Sunglasses (Free Size)',\n",
       " 'UV Protection Rectangular Sunglasses (58)',\n",
       " 'Mirrored, UV Protection Wayfarer Sunglasses (Free Size)',\n",
       " 'UV Protection, Riding Glasses Rectangular, Retro Square...',\n",
       " 'UV Protection Wayfarer Sunglasses (57)',\n",
       " 'UV Protection, Mirrored Round Sunglasses (Free Size)',\n",
       " 'UV Protection, Night Vision, Riding Glasses, Gradient, ...',\n",
       " 'UV Protection, Mirrored Retro Square Sunglasses (Free S...',\n",
       " 'UV Protection, Polarized Aviator Sunglasses (32)',\n",
       " 'Gradient Aviator Sunglasses (55)',\n",
       " 'UV Protection, Mirrored Round Sunglasses (54)',\n",
       " 'UV Protection Aviator Sunglasses (54)',\n",
       " 'UV Protection Round Sunglasses (Free Size)',\n",
       " 'UV Protection, Riding Glasses Rectangular, Retro Square...',\n",
       " 'UV Protection Butterfly Sunglasses (65)',\n",
       " 'UV Protection, Polarized, Mirrored Round Sunglasses (Fr...',\n",
       " 'UV Protection Wayfarer Sunglasses (32)',\n",
       " 'UV Protection Round Sunglasses (50)',\n",
       " 'UV Protection Round Sunglasses (54)',\n",
       " 'Riding Glasses, UV Protection, Others Aviator Sunglasse...',\n",
       " 'UV Protection, Night Vision, Gradient, Mirrored Round, ...',\n",
       " 'Mirrored, UV Protection Wayfarer Sunglasses (53)',\n",
       " 'UV Protection, Mirrored Retro Square Sunglasses (53)',\n",
       " 'Polarized, UV Protection, Riding Glasses Wayfarer Sungl...',\n",
       " 'UV Protection, Night Vision, Riding Glasses Sports Sung...',\n",
       " 'UV Protection, Riding Glasses Rectangular, Retro Square...',\n",
       " 'Polarized Rectangular Sunglasses (65)',\n",
       " 'UV Protection Wayfarer Sunglasses (53)',\n",
       " 'Polarized Round Sunglasses (48)',\n",
       " 'UV Protection, Riding Glasses, Others Aviator, Wayfarer...',\n",
       " 'Mirrored Round Sunglasses (53)',\n",
       " 'UV Protection Rectangular Sunglasses (Free Size)',\n",
       " 'UV Protection, Gradient Retro Square Sunglasses (Free S...',\n",
       " 'UV Protection Rectangular Sunglasses (55)',\n",
       " 'UV Protection Aviator Sunglasses (Free Size)',\n",
       " 'UV Protection, Mirrored Wayfarer Sunglasses (53)',\n",
       " 'UV Protection, Polarized Round Sunglasses (Free Size)',\n",
       " 'UV Protection Retro Square Sunglasses (Free Size)',\n",
       " 'UV Protection, Gradient Butterfly Sunglasses (57)',\n",
       " 'UV Protection Retro Square Sunglasses (Free Size)',\n",
       " 'UV Protection, Night Vision, Riding Glasses Aviator Sun...',\n",
       " 'Mirrored Aviator Sunglasses (58)',\n",
       " 'UV Protection, Others Round Sunglasses (48)',\n",
       " 'UV Protection, Night Vision Wayfarer Sunglasses (Free S...',\n",
       " 'UV Protection Wayfarer Sunglasses (Free Size)',\n",
       " 'UV Protection Aviator Sunglasses (58)',\n",
       " 'UV Protection Aviator Sunglasses (55)',\n",
       " 'UV Protection, Riding Glasses, Mirrored Wayfarer Sungla...',\n",
       " 'UV Protection Aviator Sunglasses (54)',\n",
       " 'UV Protection Retro Square Sunglasses (88)',\n",
       " 'UV Protection Round Sunglasses (53)',\n",
       " 'UV Protection, Mirrored Retro Square Sunglasses (53)',\n",
       " 'UV Protection Rectangular Sunglasses (60)',\n",
       " 'Polarized, UV Protection Aviator Sunglasses (58)',\n",
       " 'Mirrored Wayfarer Sunglasses (55)',\n",
       " 'Gradient, UV Protection Wayfarer Sunglasses (Free Size)',\n",
       " 'UV Protection Rectangular Sunglasses (60)',\n",
       " 'UV Protection Aviator, Wayfarer Sunglasses (Free Size)',\n",
       " 'UV Protection, Gradient Oval Sunglasses (58)',\n",
       " 'UV Protection Butterfly Sunglasses (60)',\n",
       " 'UV Protection Round Sunglasses (Free Size)',\n",
       " 'UV Protection Round Sunglasses (Free Size)',\n",
       " 'UV Protection Wayfarer Sunglasses (Free Size)',\n",
       " 'UV Protection Aviator Sunglasses (Free Size)',\n",
       " 'UV Protection, Others Round, Aviator Sunglasses (54)',\n",
       " 'UV Protection, Riding Glasses Aviator Sunglasses (57)',\n",
       " 'Mirrored Aviator Sunglasses (Free Size)',\n",
       " 'UV Protection Aviator Sunglasses (88)',\n",
       " 'UV Protection, Gradient, Riding Glasses Wayfarer Sungla...',\n",
       " 'UV Protection Sports Sunglasses (Free Size)',\n",
       " 'UV Protection, Gradient, Riding Glasses Wayfarer Sungla...',\n",
       " 'UV Protection Rectangular Sunglasses (Free Size)',\n",
       " 'UV Protection, Gradient Butterfly, Shield Sunglasses (6...']"
      ]
     },
     "execution_count": 336,
     "metadata": {},
     "output_type": "execute_result"
    }
   ],
   "source": [
    "for i in product_descripti:\n",
    "    product_descripti=i.text\n",
    "    description.append(product_descripti)\n",
    "description"
   ]
  },
  {
   "cell_type": "code",
   "execution_count": 337,
   "id": "164a967a",
   "metadata": {},
   "outputs": [
    {
     "data": {
      "text/plain": [
       "[<selenium.webdriver.remote.webelement.WebElement (session=\"3310f05e5e67a61c18b25f5b3fcf470b\", element=\"5015c625-8888-4308-99f8-4b7d540928f4\")>,\n",
       " <selenium.webdriver.remote.webelement.WebElement (session=\"3310f05e5e67a61c18b25f5b3fcf470b\", element=\"e18cd274-f9f6-42f5-a86d-7ffb6676bafb\")>,\n",
       " <selenium.webdriver.remote.webelement.WebElement (session=\"3310f05e5e67a61c18b25f5b3fcf470b\", element=\"f3fe26d3-b5b0-4e0c-a61f-f66025ad9ccd\")>,\n",
       " <selenium.webdriver.remote.webelement.WebElement (session=\"3310f05e5e67a61c18b25f5b3fcf470b\", element=\"0ddcb871-e003-4140-a53a-4c8cbba53907\")>,\n",
       " <selenium.webdriver.remote.webelement.WebElement (session=\"3310f05e5e67a61c18b25f5b3fcf470b\", element=\"b9bf2202-1532-413c-a9f1-5a14d485e2e8\")>,\n",
       " <selenium.webdriver.remote.webelement.WebElement (session=\"3310f05e5e67a61c18b25f5b3fcf470b\", element=\"5a7d8ee7-0446-41a3-8a88-4de2a52b3968\")>,\n",
       " <selenium.webdriver.remote.webelement.WebElement (session=\"3310f05e5e67a61c18b25f5b3fcf470b\", element=\"ca3bb5d4-a7d3-4796-bf20-44201f46b8a1\")>,\n",
       " <selenium.webdriver.remote.webelement.WebElement (session=\"3310f05e5e67a61c18b25f5b3fcf470b\", element=\"a6873969-9e86-4caa-817f-d4fa341f59a5\")>,\n",
       " <selenium.webdriver.remote.webelement.WebElement (session=\"3310f05e5e67a61c18b25f5b3fcf470b\", element=\"7350da66-00e0-4c44-a27e-fa6d628c1458\")>,\n",
       " <selenium.webdriver.remote.webelement.WebElement (session=\"3310f05e5e67a61c18b25f5b3fcf470b\", element=\"4f5fede2-eb82-4524-9395-9696076f9ba0\")>,\n",
       " <selenium.webdriver.remote.webelement.WebElement (session=\"3310f05e5e67a61c18b25f5b3fcf470b\", element=\"d4667fd6-9528-4407-a92c-fc5841cf1cc5\")>,\n",
       " <selenium.webdriver.remote.webelement.WebElement (session=\"3310f05e5e67a61c18b25f5b3fcf470b\", element=\"be6108f7-bbca-4d79-8290-691960388366\")>,\n",
       " <selenium.webdriver.remote.webelement.WebElement (session=\"3310f05e5e67a61c18b25f5b3fcf470b\", element=\"80f1ca9c-9e09-48a6-9d7e-7f95a9c4be16\")>,\n",
       " <selenium.webdriver.remote.webelement.WebElement (session=\"3310f05e5e67a61c18b25f5b3fcf470b\", element=\"f90bf8fc-7b52-49ba-b55e-9d70f79caff2\")>,\n",
       " <selenium.webdriver.remote.webelement.WebElement (session=\"3310f05e5e67a61c18b25f5b3fcf470b\", element=\"51cb32a9-5000-4a05-97f8-b00e2d7be12f\")>,\n",
       " <selenium.webdriver.remote.webelement.WebElement (session=\"3310f05e5e67a61c18b25f5b3fcf470b\", element=\"afacb800-673b-4dca-83c1-92f26b9b05d5\")>,\n",
       " <selenium.webdriver.remote.webelement.WebElement (session=\"3310f05e5e67a61c18b25f5b3fcf470b\", element=\"9b3eebc4-1179-402b-b65d-a1718abc2d13\")>,\n",
       " <selenium.webdriver.remote.webelement.WebElement (session=\"3310f05e5e67a61c18b25f5b3fcf470b\", element=\"6aa7ba2d-2e1f-4bb7-8849-bcbec3ab8794\")>,\n",
       " <selenium.webdriver.remote.webelement.WebElement (session=\"3310f05e5e67a61c18b25f5b3fcf470b\", element=\"4eb6cefe-5f6b-467f-ad32-4f03a8362c6e\")>,\n",
       " <selenium.webdriver.remote.webelement.WebElement (session=\"3310f05e5e67a61c18b25f5b3fcf470b\", element=\"6ffdfb89-b527-4392-a945-d3b22b96755c\")>,\n",
       " <selenium.webdriver.remote.webelement.WebElement (session=\"3310f05e5e67a61c18b25f5b3fcf470b\", element=\"b62717ef-52df-4146-90f8-db335dc79c32\")>,\n",
       " <selenium.webdriver.remote.webelement.WebElement (session=\"3310f05e5e67a61c18b25f5b3fcf470b\", element=\"4eb04ac9-10cb-4a26-856b-1f8ec2602f49\")>,\n",
       " <selenium.webdriver.remote.webelement.WebElement (session=\"3310f05e5e67a61c18b25f5b3fcf470b\", element=\"068354e1-6163-4716-be54-fbd5ace8ff53\")>,\n",
       " <selenium.webdriver.remote.webelement.WebElement (session=\"3310f05e5e67a61c18b25f5b3fcf470b\", element=\"6b8daa53-e10d-485f-8c11-9f1a06087f3f\")>,\n",
       " <selenium.webdriver.remote.webelement.WebElement (session=\"3310f05e5e67a61c18b25f5b3fcf470b\", element=\"8d181c95-ec89-429f-9ad1-e770a14dd94a\")>,\n",
       " <selenium.webdriver.remote.webelement.WebElement (session=\"3310f05e5e67a61c18b25f5b3fcf470b\", element=\"ed1cc3d9-d456-4f6e-873f-7a27f08e6927\")>,\n",
       " <selenium.webdriver.remote.webelement.WebElement (session=\"3310f05e5e67a61c18b25f5b3fcf470b\", element=\"9ab0f924-db5c-4f63-90f6-c11fb3a48a63\")>,\n",
       " <selenium.webdriver.remote.webelement.WebElement (session=\"3310f05e5e67a61c18b25f5b3fcf470b\", element=\"ea1ad230-3986-4c44-b18f-9d408d81cfc0\")>,\n",
       " <selenium.webdriver.remote.webelement.WebElement (session=\"3310f05e5e67a61c18b25f5b3fcf470b\", element=\"e36aac70-0ead-4ad9-9959-f04cb4769d27\")>,\n",
       " <selenium.webdriver.remote.webelement.WebElement (session=\"3310f05e5e67a61c18b25f5b3fcf470b\", element=\"bfa732fa-e08c-4f31-a8df-dbf251406e5e\")>,\n",
       " <selenium.webdriver.remote.webelement.WebElement (session=\"3310f05e5e67a61c18b25f5b3fcf470b\", element=\"2d550d01-5905-48ed-9ec9-8752ebbb4125\")>,\n",
       " <selenium.webdriver.remote.webelement.WebElement (session=\"3310f05e5e67a61c18b25f5b3fcf470b\", element=\"bb9760fd-fa80-46d9-bad5-d555b2232c9f\")>,\n",
       " <selenium.webdriver.remote.webelement.WebElement (session=\"3310f05e5e67a61c18b25f5b3fcf470b\", element=\"c1d0688a-114b-4899-8e65-0c9cb9912c2d\")>,\n",
       " <selenium.webdriver.remote.webelement.WebElement (session=\"3310f05e5e67a61c18b25f5b3fcf470b\", element=\"19dd18aa-8049-4b77-b46c-458885ebc5e5\")>,\n",
       " <selenium.webdriver.remote.webelement.WebElement (session=\"3310f05e5e67a61c18b25f5b3fcf470b\", element=\"47c18fdf-f84f-41b3-8f00-7c805766e2e4\")>,\n",
       " <selenium.webdriver.remote.webelement.WebElement (session=\"3310f05e5e67a61c18b25f5b3fcf470b\", element=\"1193913b-b514-48e3-8006-237dcf3ac068\")>,\n",
       " <selenium.webdriver.remote.webelement.WebElement (session=\"3310f05e5e67a61c18b25f5b3fcf470b\", element=\"f05ecb2b-f472-4456-8260-10f6cf0eec11\")>,\n",
       " <selenium.webdriver.remote.webelement.WebElement (session=\"3310f05e5e67a61c18b25f5b3fcf470b\", element=\"7d6aab9f-b6cc-4cf3-8595-4ff5457b4ce5\")>,\n",
       " <selenium.webdriver.remote.webelement.WebElement (session=\"3310f05e5e67a61c18b25f5b3fcf470b\", element=\"148cdae6-e33c-4d66-9f6a-8a95964bc21a\")>,\n",
       " <selenium.webdriver.remote.webelement.WebElement (session=\"3310f05e5e67a61c18b25f5b3fcf470b\", element=\"d8407fc2-6e7b-420d-a549-86e6946e7b76\")>]"
      ]
     },
     "execution_count": 337,
     "metadata": {},
     "output_type": "execute_result"
    }
   ],
   "source": [
    "pri=connect.find_elements_by_xpath('//div[@class=\"_30jeq3\"]')\n",
    "pri"
   ]
  },
  {
   "cell_type": "code",
   "execution_count": 338,
   "id": "aeaae8ab",
   "metadata": {},
   "outputs": [
    {
     "data": {
      "text/plain": [
       "['₹188',\n",
       " '₹276',\n",
       " '₹639',\n",
       " '₹999',\n",
       " '₹248',\n",
       " '₹200',\n",
       " '₹177',\n",
       " '₹799',\n",
       " '₹189',\n",
       " '₹189',\n",
       " '₹259',\n",
       " '₹799',\n",
       " '₹187',\n",
       " '₹269',\n",
       " '₹329',\n",
       " '₹799',\n",
       " '₹189',\n",
       " '₹189',\n",
       " '₹259',\n",
       " '₹999',\n",
       " '₹187',\n",
       " '₹269',\n",
       " '₹499',\n",
       " '₹999',\n",
       " '₹689',\n",
       " '₹239',\n",
       " '₹270',\n",
       " '₹999',\n",
       " '₹359',\n",
       " '₹340',\n",
       " '₹311',\n",
       " '₹1,533',\n",
       " '₹209',\n",
       " '₹509',\n",
       " '₹231',\n",
       " '₹664',\n",
       " '₹259',\n",
       " '₹215',\n",
       " '₹294',\n",
       " '₹999',\n",
       " '₹759',\n",
       " '₹198',\n",
       " '₹276',\n",
       " '₹319',\n",
       " '₹299',\n",
       " '₹383',\n",
       " '₹246',\n",
       " '₹296',\n",
       " '₹449',\n",
       " '₹259',\n",
       " '₹318',\n",
       " '₹499',\n",
       " '₹249',\n",
       " '₹189',\n",
       " '₹329',\n",
       " '₹164',\n",
       " '₹196',\n",
       " '₹219',\n",
       " '₹250',\n",
       " '₹299',\n",
       " '₹276',\n",
       " '₹336',\n",
       " '₹276',\n",
       " '₹187',\n",
       " '₹359',\n",
       " '₹275',\n",
       " '₹252',\n",
       " '₹189',\n",
       " '₹299',\n",
       " '₹311',\n",
       " '₹249',\n",
       " '₹272',\n",
       " '₹332',\n",
       " '₹664',\n",
       " '₹220',\n",
       " '₹179',\n",
       " '₹229',\n",
       " '₹263',\n",
       " '₹449',\n",
       " '₹349',\n",
       " '₹169',\n",
       " '₹175',\n",
       " '₹196',\n",
       " '₹1,415',\n",
       " '₹269',\n",
       " '₹664',\n",
       " '₹329',\n",
       " '₹295',\n",
       " '₹359',\n",
       " '₹260',\n",
       " '₹299',\n",
       " '₹689',\n",
       " '₹299',\n",
       " '₹250',\n",
       " '₹199',\n",
       " '₹187',\n",
       " '₹569',\n",
       " '₹249',\n",
       " '₹319',\n",
       " '₹206',\n",
       " '₹711',\n",
       " '₹197',\n",
       " '₹659',\n",
       " '₹211',\n",
       " '₹229',\n",
       " '₹498',\n",
       " '₹449',\n",
       " '₹259',\n",
       " '₹299',\n",
       " '₹331',\n",
       " '₹261',\n",
       " '₹189',\n",
       " '₹296',\n",
       " '₹359',\n",
       " '₹255',\n",
       " '₹233',\n",
       " '₹287',\n",
       " '₹272',\n",
       " '₹378',\n",
       " '₹353']"
      ]
     },
     "execution_count": 338,
     "metadata": {},
     "output_type": "execute_result"
    }
   ],
   "source": [
    "for i in pri:\n",
    "    pri=i.text\n",
    "    cost.append(pri)\n",
    "cost"
   ]
  },
  {
   "cell_type": "code",
   "execution_count": 339,
   "id": "19de1d40",
   "metadata": {},
   "outputs": [
    {
     "data": {
      "text/html": [
       "<div>\n",
       "<style scoped>\n",
       "    .dataframe tbody tr th:only-of-type {\n",
       "        vertical-align: middle;\n",
       "    }\n",
       "\n",
       "    .dataframe tbody tr th {\n",
       "        vertical-align: top;\n",
       "    }\n",
       "\n",
       "    .dataframe thead th {\n",
       "        text-align: right;\n",
       "    }\n",
       "</style>\n",
       "<table border=\"1\" class=\"dataframe\">\n",
       "  <thead>\n",
       "    <tr style=\"text-align: right;\">\n",
       "      <th></th>\n",
       "      <th>Brand Name</th>\n",
       "      <th>Product Description</th>\n",
       "      <th>Price</th>\n",
       "    </tr>\n",
       "  </thead>\n",
       "  <tbody>\n",
       "    <tr>\n",
       "      <th>0</th>\n",
       "      <td>SRPM</td>\n",
       "      <td>UV Protection Wayfarer Sunglasses (56)</td>\n",
       "      <td>₹188</td>\n",
       "    </tr>\n",
       "    <tr>\n",
       "      <th>1</th>\n",
       "      <td>SUNBEE</td>\n",
       "      <td>UV Protection, Polarized, Mirrored Round Sungl...</td>\n",
       "      <td>₹276</td>\n",
       "    </tr>\n",
       "    <tr>\n",
       "      <th>2</th>\n",
       "      <td>Fastrack</td>\n",
       "      <td>UV Protection Rectangular Sunglasses (Free Size)</td>\n",
       "      <td>₹639</td>\n",
       "    </tr>\n",
       "    <tr>\n",
       "      <th>3</th>\n",
       "      <td>VINCENT CHASE</td>\n",
       "      <td>by Lenskart Polarized, UV Protection Wayfarer ...</td>\n",
       "      <td>₹999</td>\n",
       "    </tr>\n",
       "    <tr>\n",
       "      <th>4</th>\n",
       "      <td>Elligator</td>\n",
       "      <td>UV Protection Round Sunglasses (54)</td>\n",
       "      <td>₹248</td>\n",
       "    </tr>\n",
       "    <tr>\n",
       "      <th>...</th>\n",
       "      <td>...</td>\n",
       "      <td>...</td>\n",
       "      <td>...</td>\n",
       "    </tr>\n",
       "    <tr>\n",
       "      <th>95</th>\n",
       "      <td>PIRASO</td>\n",
       "      <td>UV Protection Aviator Sunglasses (54)</td>\n",
       "      <td>₹187</td>\n",
       "    </tr>\n",
       "    <tr>\n",
       "      <th>96</th>\n",
       "      <td>ROYAL SON</td>\n",
       "      <td>UV Protection Retro Square Sunglasses (88)</td>\n",
       "      <td>₹569</td>\n",
       "    </tr>\n",
       "    <tr>\n",
       "      <th>97</th>\n",
       "      <td>PHENOMENAL</td>\n",
       "      <td>UV Protection Round Sunglasses (53)</td>\n",
       "      <td>₹249</td>\n",
       "    </tr>\n",
       "    <tr>\n",
       "      <th>98</th>\n",
       "      <td>PHENOMENAL</td>\n",
       "      <td>UV Protection, Mirrored Retro Square Sunglasse...</td>\n",
       "      <td>₹319</td>\n",
       "    </tr>\n",
       "    <tr>\n",
       "      <th>99</th>\n",
       "      <td>GANSTA</td>\n",
       "      <td>UV Protection Rectangular Sunglasses (60)</td>\n",
       "      <td>₹206</td>\n",
       "    </tr>\n",
       "  </tbody>\n",
       "</table>\n",
       "<p>100 rows × 3 columns</p>\n",
       "</div>"
      ],
      "text/plain": [
       "       Brand Name                                Product Description Price\n",
       "0            SRPM             UV Protection Wayfarer Sunglasses (56)  ₹188\n",
       "1          SUNBEE  UV Protection, Polarized, Mirrored Round Sungl...  ₹276\n",
       "2        Fastrack   UV Protection Rectangular Sunglasses (Free Size)  ₹639\n",
       "3   VINCENT CHASE  by Lenskart Polarized, UV Protection Wayfarer ...  ₹999\n",
       "4       Elligator                UV Protection Round Sunglasses (54)  ₹248\n",
       "..            ...                                                ...   ...\n",
       "95         PIRASO              UV Protection Aviator Sunglasses (54)  ₹187\n",
       "96      ROYAL SON         UV Protection Retro Square Sunglasses (88)  ₹569\n",
       "97     PHENOMENAL                UV Protection Round Sunglasses (53)  ₹249\n",
       "98     PHENOMENAL  UV Protection, Mirrored Retro Square Sunglasse...  ₹319\n",
       "99         GANSTA          UV Protection Rectangular Sunglasses (60)  ₹206\n",
       "\n",
       "[100 rows x 3 columns]"
      ]
     },
     "execution_count": 339,
     "metadata": {},
     "output_type": "execute_result"
    }
   ],
   "source": [
    "sunglasses=pd.DataFrame({})\n",
    "sunglasses['Brand Name']=brand_name[0:100]\n",
    "sunglasses['Product Description']=description[0:100]\n",
    "sunglasses['Price']=cost[0:100]\n",
    "sunglasses"
   ]
  },
  {
   "cell_type": "code",
   "execution_count": 340,
   "id": "39fcc997",
   "metadata": {},
   "outputs": [],
   "source": [
    "connect.get('https://www.flipkart.com/apple-iphone-11-black-64-gb-includes- earpods-power\u0002adapter/p/itm0f37c2240b217?pid=MOBFKCTSVZAXUHGR&lid=LSTMOBFKCTSVZAXUHGREPBFGI&marketplace.')"
   ]
  },
  {
   "cell_type": "code",
   "execution_count": 342,
   "id": "68fd90b7",
   "metadata": {},
   "outputs": [],
   "source": [
    "review=[]"
   ]
  },
  {
   "cell_type": "code",
   "execution_count": 343,
   "id": "bb5f023a",
   "metadata": {},
   "outputs": [],
   "source": [
    "for i in revie:\n",
    "    revie=i.text\n",
    "    review.append(revie)"
   ]
  },
  {
   "cell_type": "code",
   "execution_count": 344,
   "id": "34ea79a4",
   "metadata": {},
   "outputs": [
    {
     "data": {
      "text/plain": [
       "['5', '5', '5', '', '', '', '', '', '', '']"
      ]
     },
     "execution_count": 344,
     "metadata": {},
     "output_type": "execute_result"
    }
   ],
   "source": [
    "review"
   ]
  },
  {
   "cell_type": "code",
   "execution_count": 354,
   "id": "c3f0a13a",
   "metadata": {},
   "outputs": [
    {
     "data": {
      "text/plain": [
       "<selenium.webdriver.remote.webelement.WebElement (session=\"3310f05e5e67a61c18b25f5b3fcf470b\", element=\"e4e2a975-93f0-4f01-8f54-b617f43f59f4\")>"
      ]
     },
     "execution_count": 354,
     "metadata": {},
     "output_type": "execute_result"
    }
   ],
   "source": [
    "button=connect.find_element_by_xpath('//div[@class=\"_3UAT2v _16PBlm\"]/span')\n",
    "button"
   ]
  },
  {
   "cell_type": "code",
   "execution_count": 355,
   "id": "b30e7e7a",
   "metadata": {},
   "outputs": [],
   "source": [
    "button.click()"
   ]
  },
  {
   "cell_type": "code",
   "execution_count": 356,
   "id": "c2371620",
   "metadata": {},
   "outputs": [
    {
     "data": {
      "text/plain": [
       "[<selenium.webdriver.remote.webelement.WebElement (session=\"3310f05e5e67a61c18b25f5b3fcf470b\", element=\"89f67757-8fbb-46b4-937a-bf271c4b266c\")>,\n",
       " <selenium.webdriver.remote.webelement.WebElement (session=\"3310f05e5e67a61c18b25f5b3fcf470b\", element=\"e7dc14a1-1442-4d82-b43d-a7ba68630076\")>,\n",
       " <selenium.webdriver.remote.webelement.WebElement (session=\"3310f05e5e67a61c18b25f5b3fcf470b\", element=\"5e20aa70-b8c4-412e-b54d-0e8c5bf0db53\")>,\n",
       " <selenium.webdriver.remote.webelement.WebElement (session=\"3310f05e5e67a61c18b25f5b3fcf470b\", element=\"e43b2791-4103-4208-b88c-613b75801173\")>,\n",
       " <selenium.webdriver.remote.webelement.WebElement (session=\"3310f05e5e67a61c18b25f5b3fcf470b\", element=\"6f7abcc6-707f-4257-aa8b-936c9d1211c8\")>,\n",
       " <selenium.webdriver.remote.webelement.WebElement (session=\"3310f05e5e67a61c18b25f5b3fcf470b\", element=\"f0f1965f-f466-4f4d-9283-2d712a0c6626\")>,\n",
       " <selenium.webdriver.remote.webelement.WebElement (session=\"3310f05e5e67a61c18b25f5b3fcf470b\", element=\"2f76186b-20a8-4241-8e0d-08c8e98367db\")>,\n",
       " <selenium.webdriver.remote.webelement.WebElement (session=\"3310f05e5e67a61c18b25f5b3fcf470b\", element=\"00ed723f-e6ee-4684-b778-f47d75221735\")>,\n",
       " <selenium.webdriver.remote.webelement.WebElement (session=\"3310f05e5e67a61c18b25f5b3fcf470b\", element=\"c94a5662-4a90-4498-9f0a-d098e1e21fd3\")>,\n",
       " <selenium.webdriver.remote.webelement.WebElement (session=\"3310f05e5e67a61c18b25f5b3fcf470b\", element=\"88d88185-8c24-48fd-853c-40645a569716\")>]"
      ]
     },
     "execution_count": 356,
     "metadata": {},
     "output_type": "execute_result"
    }
   ],
   "source": [
    "revie=connect.find_elements_by_xpath('//div[@class=\"_3LWZlK _1BLPMq\"]')\n",
    "revie"
   ]
  },
  {
   "cell_type": "code",
   "execution_count": null,
   "id": "93591ac3",
   "metadata": {},
   "outputs": [],
   "source": []
  }
 ],
 "metadata": {
  "kernelspec": {
   "display_name": "Python 3",
   "language": "python",
   "name": "python3"
  },
  "language_info": {
   "codemirror_mode": {
    "name": "ipython",
    "version": 3
   },
   "file_extension": ".py",
   "mimetype": "text/x-python",
   "name": "python",
   "nbconvert_exporter": "python",
   "pygments_lexer": "ipython3",
   "version": "3.8.8"
  }
 },
 "nbformat": 4,
 "nbformat_minor": 5
}
